{
  "nbformat": 4,
  "nbformat_minor": 0,
  "metadata": {
    "colab": {
      "name": "TF_Deep_Neural_Network_with_csv.ipynb",
      "provenance": [],
      "authorship_tag": "ABX9TyP1mVdGm3yWyuv0gg8uKbaB",
      "include_colab_link": true
    },
    "kernelspec": {
      "name": "python3",
      "display_name": "Python 3"
    },
    "language_info": {
      "name": "python"
    }
  },
  "cells": [
    {
      "cell_type": "markdown",
      "metadata": {
        "id": "view-in-github",
        "colab_type": "text"
      },
      "source": [
        "<a href=\"https://colab.research.google.com/github/Dominika26/classification_tutorials_public/blob/main/TF_Deep_Neural_Network_with_csv.ipynb\" target=\"_parent\"><img src=\"https://colab.research.google.com/assets/colab-badge.svg\" alt=\"Open In Colab\"/></a>"
      ]
    },
    {
      "cell_type": "code",
      "execution_count": 1,
      "metadata": {
        "id": "WPB3yItnstU9"
      },
      "outputs": [],
      "source": [
        "from __future__ import absolute_import\n",
        "from __future__ import division\n",
        "from __future__ import print_function\n",
        "\n",
        "import os\n",
        "import urllib\n",
        "\n",
        "import numpy as np\n",
        "import tensorflow as tf"
      ]
    },
    {
      "cell_type": "code",
      "source": [
        "# Data sets\n",
        "IRIS_TRAINING = \"iris_training.csv\"\n",
        "IRIS_TEST = \"iris_test.csv\""
      ],
      "metadata": {
        "colab": {
          "base_uri": "https://localhost:8080/",
          "height": 235
        },
        "id": "sItDzeeYsy6Z",
        "outputId": "0e6b5422-0df4-46e8-92cd-fdf410efb9f6"
      },
      "execution_count": 2,
      "outputs": [
        {
          "output_type": "error",
          "ename": "AttributeError",
          "evalue": "ignored",
          "traceback": [
            "\u001b[0;31m---------------------------------------------------------------------------\u001b[0m",
            "\u001b[0;31mAttributeError\u001b[0m                            Traceback (most recent call last)",
            "\u001b[0;32m<ipython-input-2-4e13c9af6699>\u001b[0m in \u001b[0;36m<module>\u001b[0;34m()\u001b[0m\n\u001b[0;32m----> 1\u001b[0;31m training_set = tf.contrib.learn.datasets.base.load_csv_with_header(\n\u001b[0m\u001b[1;32m      2\u001b[0m         \u001b[0mfilename\u001b[0m\u001b[0;34m=\u001b[0m\u001b[0mIRIS_TRAINING\u001b[0m\u001b[0;34m,\u001b[0m\u001b[0;34m\u001b[0m\u001b[0;34m\u001b[0m\u001b[0m\n\u001b[1;32m      3\u001b[0m         \u001b[0mtarget_dtype\u001b[0m\u001b[0;34m=\u001b[0m\u001b[0mnp\u001b[0m\u001b[0;34m.\u001b[0m\u001b[0mint\u001b[0m\u001b[0;34m,\u001b[0m\u001b[0;34m\u001b[0m\u001b[0;34m\u001b[0m\u001b[0m\n\u001b[1;32m      4\u001b[0m         features_dtype=np.float32)\n\u001b[1;32m      5\u001b[0m \u001b[0;34m\u001b[0m\u001b[0m\n",
            "\u001b[0;31mAttributeError\u001b[0m: module 'tensorflow' has no attribute 'contrib'"
          ]
        }
      ]
    },
    {
      "cell_type": "code",
      "source": [
        "def main():\n",
        "  # Load datasets.\n",
        "  training_set = tf.contrib.learn.datasets.base.load_csv_with_header(\n",
        "      filename=IRIS_TRAINING,\n",
        "      target_dtype=np.int,\n",
        "      features_dtype=np.float32)\n",
        "  \n",
        "  test_set = tf.contrib.learn.datasets.base.load_csv_with_header(\n",
        "      filename=IRIS_TEST,\n",
        "      target_dtype=np.int,\n",
        "      features_dtype=np.float32)"
      ],
      "metadata": {
        "id": "RxUYOTRPs8gV"
      },
      "execution_count": null,
      "outputs": []
    },
    {
      "cell_type": "code",
      "source": [
        "# Specify that all features have real-value data\n",
        "  feature_columns = [tf.contrib.layers.real_valued_column(\"\", dimension=4)]\n",
        "\n",
        "  # Build 3 layer DNN\n",
        "  classifier = tf.contrib.learn.DNNClassifier(feature_columns=feature_columns,\n",
        "                                              hidden_units=[5,10,5],\n",
        "                                              n_classes=3)"
      ],
      "metadata": {
        "id": "ANICIp87tXhS"
      },
      "execution_count": null,
      "outputs": []
    },
    {
      "cell_type": "code",
      "source": [
        "# Define the training inputs\n",
        "  def get_train_inputs():\n",
        "    x = tf.constant(training_set.data)\n",
        "    y = tf.constant(training_set.target)\n",
        "\n",
        "    return x, y"
      ],
      "metadata": {
        "id": "252xhwEltJbc"
      },
      "execution_count": null,
      "outputs": []
    },
    {
      "cell_type": "code",
      "source": [
        " # Fit model.\n",
        "  classifier.fit(input_fn=get_train_inputs, steps=2000)"
      ],
      "metadata": {
        "id": "7eKgWGd6tRaq"
      },
      "execution_count": null,
      "outputs": []
    },
    {
      "cell_type": "code",
      "source": [
        "# Define the test inputs\n",
        "  def get_test_inputs():\n",
        "    x = tf.constant(test_set.data)\n",
        "    y = tf.constant(test_set.target)\n",
        "\n",
        "    return x, y"
      ],
      "metadata": {
        "id": "8GeZzS1ztU7y"
      },
      "execution_count": null,
      "outputs": []
    },
    {
      "cell_type": "code",
      "source": [
        "# Evaluate accuracy.\n",
        "  accuracy_score = classifier.evaluate(input_fn=get_test_inputs,\n",
        "                                       steps=1)[\"accuracy\"]"
      ],
      "metadata": {
        "id": "G4vV4VmntdJw"
      },
      "execution_count": null,
      "outputs": []
    },
    {
      "cell_type": "code",
      "source": [
        "print(\"\\nTest Accuracy: {0:f}\\n\".format(accuracy_score))"
      ],
      "metadata": {
        "id": "sRIITXkMtgpc"
      },
      "execution_count": null,
      "outputs": []
    },
    {
      "cell_type": "code",
      "source": [
        "# Classify new flower\n",
        "  def new_samples():\n",
        "    return np.array([[6.4, 2.7, 5.6, 2.1]], dtype=np.float32)\n",
        "\n",
        "  predictions = list(classifier.predict(input_fn=new_samples))\n",
        "\n",
        "  print(\"Predicted class: {}\\n\".format(predictions))\n",
        "\n",
        "if __name__ == \"__main__\":\n",
        "    main()"
      ],
      "metadata": {
        "id": "nOAxJR4qtj_d"
      },
      "execution_count": null,
      "outputs": []
    }
  ]
}