{
  "nbformat": 4,
  "nbformat_minor": 0,
  "metadata": {
    "colab": {
      "name": "Classify_Songs_Genres_From_Audio_Data.ipynb",
      "provenance": [],
      "authorship_tag": "ABX9TyMiNHZWHM7CRp7p2MKDPt1o",
      "include_colab_link": true
    },
    "kernelspec": {
      "name": "python3",
      "display_name": "Python 3"
    },
    "language_info": {
      "name": "python"
    }
  },
  "cells": [
    {
      "cell_type": "markdown",
      "metadata": {
        "id": "view-in-github",
        "colab_type": "text"
      },
      "source": [
        "<a href=\"https://colab.research.google.com/github/Dominika26/classification_tutorials_public/blob/main/Classify_Songs_Genres_From_Audio_Data.ipynb\" target=\"_parent\"><img src=\"https://colab.research.google.com/assets/colab-badge.svg\" alt=\"Open In Colab\"/></a>"
      ]
    },
    {
      "cell_type": "code",
      "execution_count": 1,
      "metadata": {
        "id": "gaRNLPFxDDXb"
      },
      "outputs": [],
      "source": [
        "import pandas as pd\n",
        "import numpy as np\n",
        "import matplotlib.pyplot as plt\n",
        "from IPython.display import display\n",
        "\n",
        "from sklearn.preprocessing import StandardScaler\n",
        "from sklearn.decomposition import PCA\n",
        "\n",
        "from sklearn.model_selection import train_test_split\n",
        "from sklearn.model_selection import KFold, cross_val_score\n",
        "\n",
        "from sklearn.tree import DecisionTreeClassifier\n",
        "from sklearn.linear_model import LogisticRegression"
      ]
    },
    {
      "cell_type": "code",
      "source": [
        "# Read in track metadata with genre labels\n",
        "tracks = pd.read_csv('fma-rock-vs-hiphop.csv')\n",
        "\n",
        "# Read in track metrics with the features\n",
        "echonest_metrics = pd.read_json('echonest-metrics.json', precise_float=True)\n",
        "\n",
        "# Merge the relevant columns of tracks and echonest_metrics\n",
        "echo_tracks = pd.merge(echonest_metrics, tracks[['track_id' , 'genre_top']], how='inner', on='track_id')\n",
        "\n",
        "# Inspect the resultant dataframe\n",
        "echo_tracks.info()"
      ],
      "metadata": {
        "colab": {
          "base_uri": "https://localhost:8080/"
        },
        "id": "57ykQwkBDTMF",
        "outputId": "9835b846-be7f-43b6-9280-08d496fe5680"
      },
      "execution_count": 3,
      "outputs": [
        {
          "output_type": "stream",
          "name": "stdout",
          "text": [
            "<class 'pandas.core.frame.DataFrame'>\n",
            "Int64Index: 4802 entries, 0 to 4801\n",
            "Data columns (total 10 columns):\n",
            " #   Column            Non-Null Count  Dtype  \n",
            "---  ------            --------------  -----  \n",
            " 0   track_id          4802 non-null   int64  \n",
            " 1   acousticness      4802 non-null   float64\n",
            " 2   danceability      4802 non-null   float64\n",
            " 3   energy            4802 non-null   float64\n",
            " 4   instrumentalness  4802 non-null   float64\n",
            " 5   liveness          4802 non-null   float64\n",
            " 6   speechiness       4802 non-null   float64\n",
            " 7   tempo             4802 non-null   float64\n",
            " 8   valence           4802 non-null   float64\n",
            " 9   genre_top         4802 non-null   object \n",
            "dtypes: float64(8), int64(1), object(1)\n",
            "memory usage: 412.7+ KB\n"
          ]
        }
      ]
    },
    {
      "cell_type": "markdown",
      "source": [
        "**2. Pairwise relationships between continous variables**\n",
        "\n",
        "We typically want to avoid using variables that have strong correlations with each other, hence avoiding feature redundancy for a few reasons:\n",
        "- To keep the model simple and improve interpretability (with many features, we run the risk of overfitting).\n",
        "When our datasets are very large, using fewer features can drastically speed up our computation time.\n",
        "- To get a sense of whether there are any strongly correlated features in our data, we will use built-in functions in the pandas package."
      ],
      "metadata": {
        "id": "Yn8X51GtDohC"
      }
    },
    {
      "cell_type": "code",
      "source": [
        "# prepare a correlation matrix \n",
        "corr_metrics = echo_tracks.corr()\n",
        "corr_metrics.style.background_gradient()"
      ],
      "metadata": {
        "colab": {
          "base_uri": "https://localhost:8080/",
          "height": 331
        },
        "id": "SmFIYPHzDfkc",
        "outputId": "a607ea28-48ff-4db9-987a-bef49b5b000a"
      },
      "execution_count": 4,
      "outputs": [
        {
          "output_type": "execute_result",
          "data": {
            "text/plain": [
              "<pandas.io.formats.style.Styler at 0x7fad5103b550>"
            ],
            "text/html": [
              "<style type=\"text/css\">\n",
              "#T_40efe_row0_col0, #T_40efe_row1_col1, #T_40efe_row2_col2, #T_40efe_row3_col3, #T_40efe_row4_col4, #T_40efe_row5_col5, #T_40efe_row6_col6, #T_40efe_row7_col7, #T_40efe_row8_col8 {\n",
              "  background-color: #023858;\n",
              "  color: #f1f1f1;\n",
              "}\n",
              "#T_40efe_row0_col1, #T_40efe_row1_col0, #T_40efe_row1_col3, #T_40efe_row2_col5, #T_40efe_row2_col7, #T_40efe_row4_col2, #T_40efe_row4_col6, #T_40efe_row4_col8, #T_40efe_row6_col4 {\n",
              "  background-color: #fff7fb;\n",
              "  color: #000000;\n",
              "}\n",
              "#T_40efe_row0_col2 {\n",
              "  background-color: #d2d2e7;\n",
              "  color: #000000;\n",
              "}\n",
              "#T_40efe_row0_col3 {\n",
              "  background-color: #b5c4df;\n",
              "  color: #000000;\n",
              "}\n",
              "#T_40efe_row0_col4 {\n",
              "  background-color: #f5eef6;\n",
              "  color: #000000;\n",
              "}\n",
              "#T_40efe_row0_col5 {\n",
              "  background-color: #e9e5f1;\n",
              "  color: #000000;\n",
              "}\n",
              "#T_40efe_row0_col6, #T_40efe_row8_col3 {\n",
              "  background-color: #d1d2e6;\n",
              "  color: #000000;\n",
              "}\n",
              "#T_40efe_row0_col7, #T_40efe_row1_col7 {\n",
              "  background-color: #e1dfed;\n",
              "  color: #000000;\n",
              "}\n",
              "#T_40efe_row0_col8, #T_40efe_row3_col6 {\n",
              "  background-color: #dedcec;\n",
              "  color: #000000;\n",
              "}\n",
              "#T_40efe_row1_col2 {\n",
              "  background-color: #e0dded;\n",
              "  color: #000000;\n",
              "}\n",
              "#T_40efe_row1_col4, #T_40efe_row4_col1 {\n",
              "  background-color: #97b7d7;\n",
              "  color: #000000;\n",
              "}\n",
              "#T_40efe_row1_col5, #T_40efe_row2_col4 {\n",
              "  background-color: #f3edf5;\n",
              "  color: #000000;\n",
              "}\n",
              "#T_40efe_row1_col6, #T_40efe_row6_col1 {\n",
              "  background-color: #b8c6e0;\n",
              "  color: #000000;\n",
              "}\n",
              "#T_40efe_row1_col8 {\n",
              "  background-color: #e2dfee;\n",
              "  color: #000000;\n",
              "}\n",
              "#T_40efe_row2_col0, #T_40efe_row5_col0, #T_40efe_row5_col3 {\n",
              "  background-color: #bdc8e1;\n",
              "  color: #000000;\n",
              "}\n",
              "#T_40efe_row2_col1, #T_40efe_row6_col0, #T_40efe_row7_col0, #T_40efe_row7_col1 {\n",
              "  background-color: #d0d1e6;\n",
              "  color: #000000;\n",
              "}\n",
              "#T_40efe_row2_col3 {\n",
              "  background-color: #fbf3f9;\n",
              "  color: #000000;\n",
              "}\n",
              "#T_40efe_row2_col6 {\n",
              "  background-color: #80aed2;\n",
              "  color: #f1f1f1;\n",
              "}\n",
              "#T_40efe_row2_col8 {\n",
              "  background-color: #529bc7;\n",
              "  color: #f1f1f1;\n",
              "}\n",
              "#T_40efe_row3_col0, #T_40efe_row7_col3 {\n",
              "  background-color: #a7bddb;\n",
              "  color: #000000;\n",
              "}\n",
              "#T_40efe_row3_col1 {\n",
              "  background-color: #f5eff6;\n",
              "  color: #000000;\n",
              "}\n",
              "#T_40efe_row3_col2, #T_40efe_row7_col2 {\n",
              "  background-color: #fef6fa;\n",
              "  color: #000000;\n",
              "}\n",
              "#T_40efe_row3_col4 {\n",
              "  background-color: #c4cbe3;\n",
              "  color: #000000;\n",
              "}\n",
              "#T_40efe_row3_col5, #T_40efe_row5_col7 {\n",
              "  background-color: #dcdaeb;\n",
              "  color: #000000;\n",
              "}\n",
              "#T_40efe_row3_col7 {\n",
              "  background-color: #adc1dd;\n",
              "  color: #000000;\n",
              "}\n",
              "#T_40efe_row3_col8, #T_40efe_row4_col7 {\n",
              "  background-color: #d9d8ea;\n",
              "  color: #000000;\n",
              "}\n",
              "#T_40efe_row4_col0 {\n",
              "  background-color: #f4eef6;\n",
              "  color: #000000;\n",
              "}\n",
              "#T_40efe_row4_col3 {\n",
              "  background-color: #d2d3e7;\n",
              "  color: #000000;\n",
              "}\n",
              "#T_40efe_row4_col5 {\n",
              "  background-color: #fdf5fa;\n",
              "  color: #000000;\n",
              "}\n",
              "#T_40efe_row5_col1 {\n",
              "  background-color: #ced0e6;\n",
              "  color: #000000;\n",
              "}\n",
              "#T_40efe_row5_col2 {\n",
              "  background-color: #ede8f3;\n",
              "  color: #000000;\n",
              "}\n",
              "#T_40efe_row5_col4, #T_40efe_row6_col7 {\n",
              "  background-color: #dbdaeb;\n",
              "  color: #000000;\n",
              "}\n",
              "#T_40efe_row5_col6 {\n",
              "  background-color: #c0c9e2;\n",
              "  color: #000000;\n",
              "}\n",
              "#T_40efe_row5_col8 {\n",
              "  background-color: #e8e4f0;\n",
              "  color: #000000;\n",
              "}\n",
              "#T_40efe_row6_col2 {\n",
              "  background-color: #93b5d6;\n",
              "  color: #000000;\n",
              "}\n",
              "#T_40efe_row6_col3, #T_40efe_row6_col5 {\n",
              "  background-color: #eae6f1;\n",
              "  color: #000000;\n",
              "}\n",
              "#T_40efe_row6_col8 {\n",
              "  background-color: #bfc9e1;\n",
              "  color: #000000;\n",
              "}\n",
              "#T_40efe_row7_col4 {\n",
              "  background-color: #c5cce3;\n",
              "  color: #000000;\n",
              "}\n",
              "#T_40efe_row7_col5 {\n",
              "  background-color: #f0eaf4;\n",
              "  color: #000000;\n",
              "}\n",
              "#T_40efe_row7_col6 {\n",
              "  background-color: #c8cde4;\n",
              "  color: #000000;\n",
              "}\n",
              "#T_40efe_row7_col8 {\n",
              "  background-color: #d6d6e9;\n",
              "  color: #000000;\n",
              "}\n",
              "#T_40efe_row8_col0 {\n",
              "  background-color: #c6cce3;\n",
              "  color: #000000;\n",
              "}\n",
              "#T_40efe_row8_col1 {\n",
              "  background-color: #cdd0e5;\n",
              "  color: #000000;\n",
              "}\n",
              "#T_40efe_row8_col2 {\n",
              "  background-color: #4c99c5;\n",
              "  color: #f1f1f1;\n",
              "}\n",
              "#T_40efe_row8_col4 {\n",
              "  background-color: #efe9f3;\n",
              "  color: #000000;\n",
              "}\n",
              "#T_40efe_row8_col5 {\n",
              "  background-color: #f7f0f7;\n",
              "  color: #000000;\n",
              "}\n",
              "#T_40efe_row8_col6 {\n",
              "  background-color: #a5bddb;\n",
              "  color: #000000;\n",
              "}\n",
              "#T_40efe_row8_col7 {\n",
              "  background-color: #d3d4e7;\n",
              "  color: #000000;\n",
              "}\n",
              "</style>\n",
              "<table id=\"T_40efe_\" class=\"dataframe\">\n",
              "  <thead>\n",
              "    <tr>\n",
              "      <th class=\"blank level0\" >&nbsp;</th>\n",
              "      <th class=\"col_heading level0 col0\" >track_id</th>\n",
              "      <th class=\"col_heading level0 col1\" >acousticness</th>\n",
              "      <th class=\"col_heading level0 col2\" >danceability</th>\n",
              "      <th class=\"col_heading level0 col3\" >energy</th>\n",
              "      <th class=\"col_heading level0 col4\" >instrumentalness</th>\n",
              "      <th class=\"col_heading level0 col5\" >liveness</th>\n",
              "      <th class=\"col_heading level0 col6\" >speechiness</th>\n",
              "      <th class=\"col_heading level0 col7\" >tempo</th>\n",
              "      <th class=\"col_heading level0 col8\" >valence</th>\n",
              "    </tr>\n",
              "  </thead>\n",
              "  <tbody>\n",
              "    <tr>\n",
              "      <th id=\"T_40efe_level0_row0\" class=\"row_heading level0 row0\" >track_id</th>\n",
              "      <td id=\"T_40efe_row0_col0\" class=\"data row0 col0\" >1.000000</td>\n",
              "      <td id=\"T_40efe_row0_col1\" class=\"data row0 col1\" >-0.372282</td>\n",
              "      <td id=\"T_40efe_row0_col2\" class=\"data row0 col2\" >0.049454</td>\n",
              "      <td id=\"T_40efe_row0_col3\" class=\"data row0 col3\" >0.140703</td>\n",
              "      <td id=\"T_40efe_row0_col4\" class=\"data row0 col4\" >-0.275623</td>\n",
              "      <td id=\"T_40efe_row0_col5\" class=\"data row0 col5\" >0.048231</td>\n",
              "      <td id=\"T_40efe_row0_col6\" class=\"data row0 col6\" >-0.026995</td>\n",
              "      <td id=\"T_40efe_row0_col7\" class=\"data row0 col7\" >-0.025392</td>\n",
              "      <td id=\"T_40efe_row0_col8\" class=\"data row0 col8\" >0.010070</td>\n",
              "    </tr>\n",
              "    <tr>\n",
              "      <th id=\"T_40efe_level0_row1\" class=\"row_heading level0 row1\" >acousticness</th>\n",
              "      <td id=\"T_40efe_row1_col0\" class=\"data row1 col0\" >-0.372282</td>\n",
              "      <td id=\"T_40efe_row1_col1\" class=\"data row1 col1\" >1.000000</td>\n",
              "      <td id=\"T_40efe_row1_col2\" class=\"data row1 col2\" >-0.028954</td>\n",
              "      <td id=\"T_40efe_row1_col3\" class=\"data row1 col3\" >-0.281619</td>\n",
              "      <td id=\"T_40efe_row1_col4\" class=\"data row1 col4\" >0.194780</td>\n",
              "      <td id=\"T_40efe_row1_col5\" class=\"data row1 col5\" >-0.019991</td>\n",
              "      <td id=\"T_40efe_row1_col6\" class=\"data row1 col6\" >0.072204</td>\n",
              "      <td id=\"T_40efe_row1_col7\" class=\"data row1 col7\" >-0.026310</td>\n",
              "      <td id=\"T_40efe_row1_col8\" class=\"data row1 col8\" >-0.013841</td>\n",
              "    </tr>\n",
              "    <tr>\n",
              "      <th id=\"T_40efe_level0_row2\" class=\"row_heading level0 row2\" >danceability</th>\n",
              "      <td id=\"T_40efe_row2_col0\" class=\"data row2 col0\" >0.049454</td>\n",
              "      <td id=\"T_40efe_row2_col1\" class=\"data row2 col1\" >-0.028954</td>\n",
              "      <td id=\"T_40efe_row2_col2\" class=\"data row2 col2\" >1.000000</td>\n",
              "      <td id=\"T_40efe_row2_col3\" class=\"data row2 col3\" >-0.242032</td>\n",
              "      <td id=\"T_40efe_row2_col4\" class=\"data row2 col4\" >-0.255217</td>\n",
              "      <td id=\"T_40efe_row2_col5\" class=\"data row2 col5\" >-0.106584</td>\n",
              "      <td id=\"T_40efe_row2_col6\" class=\"data row2 col6\" >0.276206</td>\n",
              "      <td id=\"T_40efe_row2_col7\" class=\"data row2 col7\" >-0.242089</td>\n",
              "      <td id=\"T_40efe_row2_col8\" class=\"data row2 col8\" >0.473165</td>\n",
              "    </tr>\n",
              "    <tr>\n",
              "      <th id=\"T_40efe_level0_row3\" class=\"row_heading level0 row3\" >energy</th>\n",
              "      <td id=\"T_40efe_row3_col0\" class=\"data row3 col0\" >0.140703</td>\n",
              "      <td id=\"T_40efe_row3_col1\" class=\"data row3 col1\" >-0.281619</td>\n",
              "      <td id=\"T_40efe_row3_col2\" class=\"data row3 col2\" >-0.242032</td>\n",
              "      <td id=\"T_40efe_row3_col3\" class=\"data row3 col3\" >1.000000</td>\n",
              "      <td id=\"T_40efe_row3_col4\" class=\"data row3 col4\" >0.028238</td>\n",
              "      <td id=\"T_40efe_row3_col5\" class=\"data row3 col5\" >0.113331</td>\n",
              "      <td id=\"T_40efe_row3_col6\" class=\"data row3 col6\" >-0.109983</td>\n",
              "      <td id=\"T_40efe_row3_col7\" class=\"data row3 col7\" >0.195227</td>\n",
              "      <td id=\"T_40efe_row3_col8\" class=\"data row3 col8\" >0.038603</td>\n",
              "    </tr>\n",
              "    <tr>\n",
              "      <th id=\"T_40efe_level0_row4\" class=\"row_heading level0 row4\" >instrumentalness</th>\n",
              "      <td id=\"T_40efe_row4_col0\" class=\"data row4 col0\" >-0.275623</td>\n",
              "      <td id=\"T_40efe_row4_col1\" class=\"data row4 col1\" >0.194780</td>\n",
              "      <td id=\"T_40efe_row4_col2\" class=\"data row4 col2\" >-0.255217</td>\n",
              "      <td id=\"T_40efe_row4_col3\" class=\"data row4 col3\" >0.028238</td>\n",
              "      <td id=\"T_40efe_row4_col4\" class=\"data row4 col4\" >1.000000</td>\n",
              "      <td id=\"T_40efe_row4_col5\" class=\"data row4 col5\" >-0.091022</td>\n",
              "      <td id=\"T_40efe_row4_col6\" class=\"data row4 col6\" >-0.366762</td>\n",
              "      <td id=\"T_40efe_row4_col7\" class=\"data row4 col7\" >0.022215</td>\n",
              "      <td id=\"T_40efe_row4_col8\" class=\"data row4 col8\" >-0.219967</td>\n",
              "    </tr>\n",
              "    <tr>\n",
              "      <th id=\"T_40efe_level0_row5\" class=\"row_heading level0 row5\" >liveness</th>\n",
              "      <td id=\"T_40efe_row5_col0\" class=\"data row5 col0\" >0.048231</td>\n",
              "      <td id=\"T_40efe_row5_col1\" class=\"data row5 col1\" >-0.019991</td>\n",
              "      <td id=\"T_40efe_row5_col2\" class=\"data row5 col2\" >-0.106584</td>\n",
              "      <td id=\"T_40efe_row5_col3\" class=\"data row5 col3\" >0.113331</td>\n",
              "      <td id=\"T_40efe_row5_col4\" class=\"data row5 col4\" >-0.091022</td>\n",
              "      <td id=\"T_40efe_row5_col5\" class=\"data row5 col5\" >1.000000</td>\n",
              "      <td id=\"T_40efe_row5_col6\" class=\"data row5 col6\" >0.041173</td>\n",
              "      <td id=\"T_40efe_row5_col7\" class=\"data row5 col7\" >0.002732</td>\n",
              "      <td id=\"T_40efe_row5_col8\" class=\"data row5 col8\" >-0.045093</td>\n",
              "    </tr>\n",
              "    <tr>\n",
              "      <th id=\"T_40efe_level0_row6\" class=\"row_heading level0 row6\" >speechiness</th>\n",
              "      <td id=\"T_40efe_row6_col0\" class=\"data row6 col0\" >-0.026995</td>\n",
              "      <td id=\"T_40efe_row6_col1\" class=\"data row6 col1\" >0.072204</td>\n",
              "      <td id=\"T_40efe_row6_col2\" class=\"data row6 col2\" >0.276206</td>\n",
              "      <td id=\"T_40efe_row6_col3\" class=\"data row6 col3\" >-0.109983</td>\n",
              "      <td id=\"T_40efe_row6_col4\" class=\"data row6 col4\" >-0.366762</td>\n",
              "      <td id=\"T_40efe_row6_col5\" class=\"data row6 col5\" >0.041173</td>\n",
              "      <td id=\"T_40efe_row6_col6\" class=\"data row6 col6\" >1.000000</td>\n",
              "      <td id=\"T_40efe_row6_col7\" class=\"data row6 col7\" >0.008241</td>\n",
              "      <td id=\"T_40efe_row6_col8\" class=\"data row6 col8\" >0.149894</td>\n",
              "    </tr>\n",
              "    <tr>\n",
              "      <th id=\"T_40efe_level0_row7\" class=\"row_heading level0 row7\" >tempo</th>\n",
              "      <td id=\"T_40efe_row7_col0\" class=\"data row7 col0\" >-0.025392</td>\n",
              "      <td id=\"T_40efe_row7_col1\" class=\"data row7 col1\" >-0.026310</td>\n",
              "      <td id=\"T_40efe_row7_col2\" class=\"data row7 col2\" >-0.242089</td>\n",
              "      <td id=\"T_40efe_row7_col3\" class=\"data row7 col3\" >0.195227</td>\n",
              "      <td id=\"T_40efe_row7_col4\" class=\"data row7 col4\" >0.022215</td>\n",
              "      <td id=\"T_40efe_row7_col5\" class=\"data row7 col5\" >0.002732</td>\n",
              "      <td id=\"T_40efe_row7_col6\" class=\"data row7 col6\" >0.008241</td>\n",
              "      <td id=\"T_40efe_row7_col7\" class=\"data row7 col7\" >1.000000</td>\n",
              "      <td id=\"T_40efe_row7_col8\" class=\"data row7 col8\" >0.052221</td>\n",
              "    </tr>\n",
              "    <tr>\n",
              "      <th id=\"T_40efe_level0_row8\" class=\"row_heading level0 row8\" >valence</th>\n",
              "      <td id=\"T_40efe_row8_col0\" class=\"data row8 col0\" >0.010070</td>\n",
              "      <td id=\"T_40efe_row8_col1\" class=\"data row8 col1\" >-0.013841</td>\n",
              "      <td id=\"T_40efe_row8_col2\" class=\"data row8 col2\" >0.473165</td>\n",
              "      <td id=\"T_40efe_row8_col3\" class=\"data row8 col3\" >0.038603</td>\n",
              "      <td id=\"T_40efe_row8_col4\" class=\"data row8 col4\" >-0.219967</td>\n",
              "      <td id=\"T_40efe_row8_col5\" class=\"data row8 col5\" >-0.045093</td>\n",
              "      <td id=\"T_40efe_row8_col6\" class=\"data row8 col6\" >0.149894</td>\n",
              "      <td id=\"T_40efe_row8_col7\" class=\"data row8 col7\" >0.052221</td>\n",
              "      <td id=\"T_40efe_row8_col8\" class=\"data row8 col8\" >1.000000</td>\n",
              "    </tr>\n",
              "  </tbody>\n",
              "</table>\n"
            ]
          },
          "metadata": {},
          "execution_count": 4
        }
      ]
    },
    {
      "cell_type": "markdown",
      "source": [
        "There is not much strong correlation between any features, we do not need to remove any feature from our data "
      ],
      "metadata": {
        "id": "nYq64I1MEjIc"
      }
    },
    {
      "cell_type": "markdown",
      "source": [
        "**3. Normalizing the feature data**\n",
        "\n",
        "Since we didn’t find any particular strong correlations between our features, we can instead use a common approach to reduce the number of features called principal component analysis (PCA).\n",
        "It is possible that the variance between genres can be explained by just a few features in the dataset. PCA rotates the data along the axis of highest variance, thus allowing us to determine the relative contribution of each feature of our data towards the variance between classes.\n",
        "However, since PCA uses the absolute variance of a feature to rotate the data, a feature with a broader range of values will overpower and bias the algorithm relative to the other features. To avoid this, we must first normalize our data. There are a few methods to do this, but a common way is through standardization, such that all features have a mean = 0 and standard deviation = 1 (the resultant is a z-score)."
      ],
      "metadata": {
        "id": "nf48LatbEuVF"
      }
    },
    {
      "cell_type": "code",
      "source": [
        "#Define our features \n",
        "features = echo_tracks.drop(['track_id', 'genre_top'], axis=1)\n",
        "\n",
        "#define our labels \n",
        "labels = echo_tracks.genre_top\n",
        "\n",
        "#scale the features and set the values to a new variable \n",
        "scaler = StandardScaler()\n",
        "scaled_train_features = scaler.fit_transform(features)"
      ],
      "metadata": {
        "id": "F6S9bGpzEeb_"
      },
      "execution_count": 5,
      "outputs": []
    },
    {
      "cell_type": "code",
      "source": [
        "#data after standarization\n",
        "pd.DataFrame(scaled_train_features).head(5)"
      ],
      "metadata": {
        "colab": {
          "base_uri": "https://localhost:8080/",
          "height": 206
        },
        "id": "yBtqyJKfFpwA",
        "outputId": "df4514af-65da-4dd1-f74c-312ca4ffa101"
      },
      "execution_count": 7,
      "outputs": [
        {
          "output_type": "execute_result",
          "data": {
            "text/plain": [
              "          0         1         2         3         4         5         6  \\\n",
              "0 -0.191210  1.304420  0.038316 -1.576494 -0.068755  0.373034  1.153979   \n",
              "1 -0.306036  0.501886  0.788176 -1.599809 -0.545463  2.446155  0.007914   \n",
              "2 -1.204813  1.684139  0.312852 -1.602876  1.229828  0.135130 -0.777317   \n",
              "3 -0.094655  0.417927 -0.265203 -1.553079 -0.607326  2.882707 -0.364657   \n",
              "4  1.361706 -0.985896  1.453323  0.979975 -0.442757 -0.364157 -1.072003   \n",
              "\n",
              "          7  \n",
              "0  0.462287  \n",
              "1 -0.690811  \n",
              "2  0.631077  \n",
              "3  1.652859  \n",
              "4 -1.573102  "
            ],
            "text/html": [
              "\n",
              "  <div id=\"df-02d1a8aa-962f-4a74-8ddd-c5f86dc9e331\">\n",
              "    <div class=\"colab-df-container\">\n",
              "      <div>\n",
              "<style scoped>\n",
              "    .dataframe tbody tr th:only-of-type {\n",
              "        vertical-align: middle;\n",
              "    }\n",
              "\n",
              "    .dataframe tbody tr th {\n",
              "        vertical-align: top;\n",
              "    }\n",
              "\n",
              "    .dataframe thead th {\n",
              "        text-align: right;\n",
              "    }\n",
              "</style>\n",
              "<table border=\"1\" class=\"dataframe\">\n",
              "  <thead>\n",
              "    <tr style=\"text-align: right;\">\n",
              "      <th></th>\n",
              "      <th>0</th>\n",
              "      <th>1</th>\n",
              "      <th>2</th>\n",
              "      <th>3</th>\n",
              "      <th>4</th>\n",
              "      <th>5</th>\n",
              "      <th>6</th>\n",
              "      <th>7</th>\n",
              "    </tr>\n",
              "  </thead>\n",
              "  <tbody>\n",
              "    <tr>\n",
              "      <th>0</th>\n",
              "      <td>-0.191210</td>\n",
              "      <td>1.304420</td>\n",
              "      <td>0.038316</td>\n",
              "      <td>-1.576494</td>\n",
              "      <td>-0.068755</td>\n",
              "      <td>0.373034</td>\n",
              "      <td>1.153979</td>\n",
              "      <td>0.462287</td>\n",
              "    </tr>\n",
              "    <tr>\n",
              "      <th>1</th>\n",
              "      <td>-0.306036</td>\n",
              "      <td>0.501886</td>\n",
              "      <td>0.788176</td>\n",
              "      <td>-1.599809</td>\n",
              "      <td>-0.545463</td>\n",
              "      <td>2.446155</td>\n",
              "      <td>0.007914</td>\n",
              "      <td>-0.690811</td>\n",
              "    </tr>\n",
              "    <tr>\n",
              "      <th>2</th>\n",
              "      <td>-1.204813</td>\n",
              "      <td>1.684139</td>\n",
              "      <td>0.312852</td>\n",
              "      <td>-1.602876</td>\n",
              "      <td>1.229828</td>\n",
              "      <td>0.135130</td>\n",
              "      <td>-0.777317</td>\n",
              "      <td>0.631077</td>\n",
              "    </tr>\n",
              "    <tr>\n",
              "      <th>3</th>\n",
              "      <td>-0.094655</td>\n",
              "      <td>0.417927</td>\n",
              "      <td>-0.265203</td>\n",
              "      <td>-1.553079</td>\n",
              "      <td>-0.607326</td>\n",
              "      <td>2.882707</td>\n",
              "      <td>-0.364657</td>\n",
              "      <td>1.652859</td>\n",
              "    </tr>\n",
              "    <tr>\n",
              "      <th>4</th>\n",
              "      <td>1.361706</td>\n",
              "      <td>-0.985896</td>\n",
              "      <td>1.453323</td>\n",
              "      <td>0.979975</td>\n",
              "      <td>-0.442757</td>\n",
              "      <td>-0.364157</td>\n",
              "      <td>-1.072003</td>\n",
              "      <td>-1.573102</td>\n",
              "    </tr>\n",
              "  </tbody>\n",
              "</table>\n",
              "</div>\n",
              "      <button class=\"colab-df-convert\" onclick=\"convertToInteractive('df-02d1a8aa-962f-4a74-8ddd-c5f86dc9e331')\"\n",
              "              title=\"Convert this dataframe to an interactive table.\"\n",
              "              style=\"display:none;\">\n",
              "        \n",
              "  <svg xmlns=\"http://www.w3.org/2000/svg\" height=\"24px\"viewBox=\"0 0 24 24\"\n",
              "       width=\"24px\">\n",
              "    <path d=\"M0 0h24v24H0V0z\" fill=\"none\"/>\n",
              "    <path d=\"M18.56 5.44l.94 2.06.94-2.06 2.06-.94-2.06-.94-.94-2.06-.94 2.06-2.06.94zm-11 1L8.5 8.5l.94-2.06 2.06-.94-2.06-.94L8.5 2.5l-.94 2.06-2.06.94zm10 10l.94 2.06.94-2.06 2.06-.94-2.06-.94-.94-2.06-.94 2.06-2.06.94z\"/><path d=\"M17.41 7.96l-1.37-1.37c-.4-.4-.92-.59-1.43-.59-.52 0-1.04.2-1.43.59L10.3 9.45l-7.72 7.72c-.78.78-.78 2.05 0 2.83L4 21.41c.39.39.9.59 1.41.59.51 0 1.02-.2 1.41-.59l7.78-7.78 2.81-2.81c.8-.78.8-2.07 0-2.86zM5.41 20L4 18.59l7.72-7.72 1.47 1.35L5.41 20z\"/>\n",
              "  </svg>\n",
              "      </button>\n",
              "      \n",
              "  <style>\n",
              "    .colab-df-container {\n",
              "      display:flex;\n",
              "      flex-wrap:wrap;\n",
              "      gap: 12px;\n",
              "    }\n",
              "\n",
              "    .colab-df-convert {\n",
              "      background-color: #E8F0FE;\n",
              "      border: none;\n",
              "      border-radius: 50%;\n",
              "      cursor: pointer;\n",
              "      display: none;\n",
              "      fill: #1967D2;\n",
              "      height: 32px;\n",
              "      padding: 0 0 0 0;\n",
              "      width: 32px;\n",
              "    }\n",
              "\n",
              "    .colab-df-convert:hover {\n",
              "      background-color: #E2EBFA;\n",
              "      box-shadow: 0px 1px 2px rgba(60, 64, 67, 0.3), 0px 1px 3px 1px rgba(60, 64, 67, 0.15);\n",
              "      fill: #174EA6;\n",
              "    }\n",
              "\n",
              "    [theme=dark] .colab-df-convert {\n",
              "      background-color: #3B4455;\n",
              "      fill: #D2E3FC;\n",
              "    }\n",
              "\n",
              "    [theme=dark] .colab-df-convert:hover {\n",
              "      background-color: #434B5C;\n",
              "      box-shadow: 0px 1px 3px 1px rgba(0, 0, 0, 0.15);\n",
              "      filter: drop-shadow(0px 1px 2px rgba(0, 0, 0, 0.3));\n",
              "      fill: #FFFFFF;\n",
              "    }\n",
              "  </style>\n",
              "\n",
              "      <script>\n",
              "        const buttonEl =\n",
              "          document.querySelector('#df-02d1a8aa-962f-4a74-8ddd-c5f86dc9e331 button.colab-df-convert');\n",
              "        buttonEl.style.display =\n",
              "          google.colab.kernel.accessAllowed ? 'block' : 'none';\n",
              "\n",
              "        async function convertToInteractive(key) {\n",
              "          const element = document.querySelector('#df-02d1a8aa-962f-4a74-8ddd-c5f86dc9e331');\n",
              "          const dataTable =\n",
              "            await google.colab.kernel.invokeFunction('convertToInteractive',\n",
              "                                                     [key], {});\n",
              "          if (!dataTable) return;\n",
              "\n",
              "          const docLinkHtml = 'Like what you see? Visit the ' +\n",
              "            '<a target=\"_blank\" href=https://colab.research.google.com/notebooks/data_table.ipynb>data table notebook</a>'\n",
              "            + ' to learn more about interactive tables.';\n",
              "          element.innerHTML = '';\n",
              "          dataTable['output_type'] = 'display_data';\n",
              "          await google.colab.output.renderOutput(dataTable, element);\n",
              "          const docLink = document.createElement('div');\n",
              "          docLink.innerHTML = docLinkHtml;\n",
              "          element.appendChild(docLink);\n",
              "        }\n",
              "      </script>\n",
              "    </div>\n",
              "  </div>\n",
              "  "
            ]
          },
          "metadata": {},
          "execution_count": 7
        }
      ]
    },
    {
      "cell_type": "markdown",
      "source": [
        "**4. Prinicipal component analysis on our scaled data**\n",
        "\n",
        "Now that we have preprocessed our data, we are ready to use PCA to determine by how much we can reduce the dimensionality of our data. We can use scree-plots and cumulative explained ratio plots to find the number of components to use in further analyses.\n",
        "\n",
        "Scree-plots display the number of components against the variance explained by each component, sorted in descending order of variance. Scree-plots help us get a better sense of which components explain a sufficient amount of variance in our data. When using scree plots, an ‘elbow’ (a steep drop from one data point to the next) in the plot is typically used to decide on an appropriate cutoff.\n"
      ],
      "metadata": {
        "id": "b9QbCMPaF4CR"
      }
    },
    {
      "cell_type": "code",
      "source": [
        "pca = PCA()\n",
        "pca.fit(scaled_train_features)\n",
        "exp_variance = pca.explained_variance_ratio_\n",
        "\n",
        "#plot the explained variance\n",
        "fig, ax = plt.subplots()\n",
        "ax.bar(range(pca.n_components_), exp_variance)\n",
        "ax.set_xlabel('Principal component')"
      ],
      "metadata": {
        "colab": {
          "base_uri": "https://localhost:8080/",
          "height": 296
        },
        "id": "oI7VQPh-Fz3l",
        "outputId": "43fff27b-0345-4862-ca71-15306ff34777"
      },
      "execution_count": 9,
      "outputs": [
        {
          "output_type": "execute_result",
          "data": {
            "text/plain": [
              "Text(0.5, 0, 'Principal component')"
            ]
          },
          "metadata": {},
          "execution_count": 9
        },
        {
          "output_type": "display_data",
          "data": {
            "text/plain": [
              "<Figure size 432x288 with 1 Axes>"
            ],
            "image/png": "[encoded data removed]"
          },
          "metadata": {
            "needs_background": "light"
          }
        }
      ]
    },
    {
      "cell_type": "markdown",
      "source": [
        "There does not appear a clear elbow in this scree plot "
      ],
      "metadata": {
        "id": "zPMyz-IeHKUS"
      }
    },
    {
      "cell_type": "code",
      "source": [
        "# Calculate the cumulative explained variance \n",
        "cum_exp_variance = np.cumsum(exp_variance)\n",
        "\n",
        "#plot the cumulative explained variance and draw a dashed line at 0.85\n",
        "fig, ax = plt.subplots()\n",
        "ax.plot(cum_exp_variance)\n",
        "ax.axhline(y=0.85, linestyle='--')\n",
        "\n",
        "# choose the n_components where about 85% of our variance can be explained\n",
        "n_components = 6\n",
        "\n",
        "# Perform PCA with the chosen number of components and project data onto components\n",
        "pca = PCA(n_components, random_state=10)\n",
        "pca.fit(scaled_train_features)\n",
        "pca_projection = pca.transform(scaled_train_features)"
      ],
      "metadata": {
        "colab": {
          "base_uri": "https://localhost:8080/",
          "height": 265
        },
        "id": "02-s-w6vGtld",
        "outputId": "ac1aab86-2960-43d6-de21-299be7613178"
      },
      "execution_count": 10,
      "outputs": [
        {
          "output_type": "display_data",
          "data": {
            "text/plain": [
              "<Figure size 432x288 with 1 Axes>"
            ],
            "image/png": "[encoded data removed]"
          },
          "metadata": {
            "needs_background": "light"
          }
        }
      ]
    },
    {
      "cell_type": "markdown",
      "source": [
        "We can use the lower dimensional PCA projection of the data to classify songs into genres. "
      ],
      "metadata": {
        "id": "lwPlCUePHXPH"
      }
    },
    {
      "cell_type": "markdown",
      "source": [
        "**5. Splittig data and training a decision tree**"
      ],
      "metadata": {
        "id": "g1Epuf45HrEK"
      }
    },
    {
      "cell_type": "code",
      "source": [
        "train_features, test_features, train_labels, test_labels = train_test_split(\n",
        "    pca_projection, labels, random_state=10)\n",
        "\n",
        "#train our decision tree\n",
        "tree = DecisionTreeClassifier(random_state=10)\n",
        "tree.fit(train_features, train_labels)\n",
        "\n"
      ],
      "metadata": {
        "colab": {
          "base_uri": "https://localhost:8080/"
        },
        "id": "C1DgiZibHFx_",
        "outputId": "278c6aa4-3b68-4d87-df1a-c64b2e7337af"
      },
      "execution_count": 14,
      "outputs": [
        {
          "output_type": "execute_result",
          "data": {
            "text/plain": [
              "DecisionTreeClassifier(random_state=10)"
            ]
          },
          "metadata": {},
          "execution_count": 14
        }
      ]
    },
    {
      "cell_type": "markdown",
      "source": [
        "**6. Compare decision tree to a logistic regression**\n"
      ],
      "metadata": {
        "id": "XahcACjTIz8S"
      }
    },
    {
      "cell_type": "code",
      "source": [
        "logreg = LogisticRegression(random_state=10)\n",
        "logreg.fit(train_features, train_labels)\n",
        "pred_labels_logit = logreg.predict(test_features)\n",
        "\n",
        "# Create the classification report for both models\n",
        "from sklearn.metrics import classification_report\n",
        "class_rep_tree = classification_report(test_labels, pred_labels_tree)\n",
        "class_rep_log = classification_report(test_labels, pred_labels_logit)\n",
        "\n",
        "print(\"Decision Tree: \\n\", class_rep_tree)\n",
        "print(\"Logistic Regression: \\n\", class_rep_log)"
      ],
      "metadata": {
        "colab": {
          "base_uri": "https://localhost:8080/"
        },
        "id": "_wG6f79cIg3m",
        "outputId": "9438f3fc-fcd1-4069-b389-2d96d82b292c"
      },
      "execution_count": 15,
      "outputs": [
        {
          "output_type": "stream",
          "name": "stdout",
          "text": [
            "Decision Tree: \n",
            "               precision    recall  f1-score   support\n",
            "\n",
            "     Hip-Hop       0.60      0.60      0.60       235\n",
            "        Rock       0.90      0.90      0.90       966\n",
            "\n",
            "    accuracy                           0.84      1201\n",
            "   macro avg       0.75      0.75      0.75      1201\n",
            "weighted avg       0.84      0.84      0.84      1201\n",
            "\n",
            "Logistic Regression: \n",
            "               precision    recall  f1-score   support\n",
            "\n",
            "     Hip-Hop       0.77      0.54      0.64       235\n",
            "        Rock       0.90      0.96      0.93       966\n",
            "\n",
            "    accuracy                           0.88      1201\n",
            "   macro avg       0.83      0.75      0.78      1201\n",
            "weighted avg       0.87      0.88      0.87      1201\n",
            "\n"
          ]
        }
      ]
    },
    {
      "cell_type": "markdown",
      "source": [
        "Both models are similiarly well. However we can see that rock song are fairly well classified, but hip-hop songs are misclassidied as rock songs.\n",
        "\n",
        "Well, just by looking at the number of data points we have for each class, we see that we have far more data points for the rock classification than for hip-hop, potentially skewing our model’s ability to distinguish between classes. This also tells us that most of our model’s accuracy is driven by its ability to classify just rock songs, which is less than ideal."
      ],
      "metadata": {
        "id": "SLkiklnFJuHB"
      }
    },
    {
      "cell_type": "markdown",
      "source": [
        "**7. Balance our data for greater performance**\n",
        "\n",
        "we only need to account for differences in the sample size of our data points when weighing our classes here, and not relative importance of each class."
      ],
      "metadata": {
        "id": "geJfDP04KwJs"
      }
    },
    {
      "cell_type": "code",
      "source": [
        "# Subset a balanced proportiion of data points \n",
        "hop_only = echo_tracks.loc[echo_tracks['genre_top'] == 'Hip-Hop']\n",
        "rock_only = echo_tracks.loc[echo_tracks['genre_top'] == 'Rock']\n",
        "\n",
        "# subset only the rock songs, and take a sample the same size as there are hip-hop songs\n",
        "rock_only = rock_only.sample(hop_only.shape[0], random_state=10)\n",
        "\n",
        "# concatenate the dataframes hop_only and rock_only\n",
        "rock_hop_bal = pd.concat([rock_only, hop_only])\n",
        "\n",
        "# The features, labels, and pca projection are created for the balanced dataframe\n",
        "features = rock_hop_bal.drop(['genre_top', 'track_id'], axis=1) \n",
        "labels = rock_hop_bal['genre_top']\n",
        "pca_projection = pca.fit_transform(scaler.fit_transform(features))\n",
        "\n",
        "# Redefine the train and test set with the pca_projection from the balanced data\n",
        "train_features, test_features, train_labels, test_labels = train_test_split(\n",
        "    pca_projection, labels, random_state=10)"
      ],
      "metadata": {
        "id": "53rf4UtnJkkR"
      },
      "execution_count": 16,
      "outputs": []
    },
    {
      "cell_type": "markdown",
      "source": [
        "**8. Does balancing our dataset improve model bias?**"
      ],
      "metadata": {
        "id": "QNjDgAQ3LlYh"
      }
    },
    {
      "cell_type": "code",
      "source": [
        "# Train our data decision tree on the balanced data\n",
        "tree = DecisionTreeClassifier()\n",
        "tree.fit(train_features, train_labels)\n",
        "pred_labels_tree = tree.predict(test_features)\n",
        "\n",
        "# Train our logistic regression on the balanced data\n",
        "logreg = LogisticRegression()\n",
        "logreg.fit(train_features, train_labels)\n",
        "pred_labels_logit = logreg.predict(test_features)\n",
        "\n",
        "# Compare the models\n",
        "print(\"Decision Tree: \\n\", classification_report(test_labels, pred_labels_tree))\n",
        "print(\"Logistic Regression: \\n\", classification_report(test_labels, pred_labels_tree))"
      ],
      "metadata": {
        "colab": {
          "base_uri": "https://localhost:8080/"
        },
        "id": "o-GHX8fOLjRQ",
        "outputId": "d3527822-f55b-4dd3-a8e9-dafc6d34624e"
      },
      "execution_count": 17,
      "outputs": [
        {
          "output_type": "stream",
          "name": "stdout",
          "text": [
            "Decision Tree: \n",
            "               precision    recall  f1-score   support\n",
            "\n",
            "     Hip-Hop       0.74      0.74      0.74       230\n",
            "        Rock       0.73      0.74      0.74       225\n",
            "\n",
            "    accuracy                           0.74       455\n",
            "   macro avg       0.74      0.74      0.74       455\n",
            "weighted avg       0.74      0.74      0.74       455\n",
            "\n",
            "Logistic Regression: \n",
            "               precision    recall  f1-score   support\n",
            "\n",
            "     Hip-Hop       0.74      0.74      0.74       230\n",
            "        Rock       0.73      0.74      0.74       225\n",
            "\n",
            "    accuracy                           0.74       455\n",
            "   macro avg       0.74      0.74      0.74       455\n",
            "weighted avg       0.74      0.74      0.74       455\n",
            "\n"
          ]
        }
      ]
    },
    {
      "cell_type": "markdown",
      "source": [
        "Balaning our data removed bias towards the more prelevant class. We can also apply cross-validation, this allows us to compare models in more rigorous fashion."
      ],
      "metadata": {
        "id": "vEDOK55xL5sF"
      }
    },
    {
      "cell_type": "markdown",
      "source": [
        "**9. Using cross-validation to ealuate our models**\n",
        "\n",
        "Since the way our data is split into train and test sets can impact model performance, CV attempts to split the data multiple ways and test the model on each of the splits. Although there are many different CV methods, all with their own advantages and disadvantages, we will use what’s known as K-fold cross-validation here. K-fold first splits the data into K different, equally sized subsets. Then, it iteratively uses each subset as a test set while using the remainder of the data as train sets. Finally, we can then aggregate the results from each fold for a final model performance score."
      ],
      "metadata": {
        "id": "xXQ6OfuvMLeb"
      }
    },
    {
      "cell_type": "code",
      "source": [
        "# set up our K-fold cross-validation \n",
        "kf = KFold(n_splits=10)\n",
        "\n",
        "tree = DecisionTreeClassifier(random_state=10)\n",
        "logreg = LogisticRegression(random_state=10)\n",
        "\n",
        "# train our model using KFold cv \n",
        "tree_score = cross_val_score(tree,pca_projection, labels, cv=kf)\n",
        "logit_score = cross_val_score(logreg,pca_projection, labels, cv=kf)\n",
        "\n",
        "# Print the mean of each array of scores\n",
        "print(\"Decision Tree:\", tree_score, \"Logistic Regression:\", logit_score)"
      ],
      "metadata": {
        "colab": {
          "base_uri": "https://localhost:8080/"
        },
        "id": "e1DIxzvgL2lx",
        "outputId": "0324285f-a509-46f5-85bc-7404cc2e46f9"
      },
      "execution_count": 18,
      "outputs": [
        {
          "output_type": "stream",
          "name": "stdout",
          "text": [
            "Decision Tree: [0.6978022  0.72527473 0.78021978 0.70879121 0.71428571 0.75274725\n",
            " 0.76923077 0.71978022 0.78021978 0.84065934] Logistic Regression: [0.76923077 0.80769231 0.82417582 0.76923077 0.76923077 0.78021978\n",
            " 0.77472527 0.74175824 0.7967033  0.7967033 ]\n"
          ]
        }
      ]
    },
    {
      "cell_type": "markdown",
      "source": [
        "Now, that we have performed k fold cross-validation on our dataset, we can be pretty sure that our model will generalize 72% of the times on the future unseen data points. "
      ],
      "metadata": {
        "id": "RCKzRtHPM7Fc"
      }
    },
    {
      "cell_type": "code",
      "source": [
        ""
      ],
      "metadata": {
        "id": "Hg9ZqoUIM28T"
      },
      "execution_count": null,
      "outputs": []
    }
  ]
}