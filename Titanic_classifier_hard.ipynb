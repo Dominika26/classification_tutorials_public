{
  "nbformat": 4,
  "nbformat_minor": 0,
  "metadata": {
    "colab": {
      "name": "Titanic_classifier_hard.ipynb",
      "provenance": [],
      "collapsed_sections": [],
      "authorship_tag": "ABX9TyMlf+h7VexXcyviaqNNwxFL",
      "include_colab_link": true
    },
    "kernelspec": {
      "name": "python3",
      "display_name": "Python 3"
    },
    "language_info": {
      "name": "python"
    },
    "accelerator": "GPU"
  },
  "cells": [
    {
      "cell_type": "markdown",
      "metadata": {
        "id": "view-in-github",
        "colab_type": "text"
      },
      "source": [
        "<a href=\"https://colab.research.google.com/github/Dominika26/classification_tutorials_public/blob/main/Titanic_classifier_hard.ipynb\" target=\"_parent\"><img src=\"https://colab.research.google.com/assets/colab-badge.svg\" alt=\"Open In Colab\"/></a>"
      ]
    },
    {
      "cell_type": "markdown",
      "source": [
        "https://towardsdatascience.com/machine-learning-with-python-classification-complete-tutorial-d2c99dc524ec"
      ],
      "metadata": {
        "id": "GtYJDNSWCwn4"
      }
    },
    {
      "cell_type": "code",
      "execution_count": 1,
      "metadata": {
        "colab": {
          "base_uri": "https://localhost:8080/"
        },
        "id": "N7IEpCmBV9GL",
        "outputId": "49300e1c-9e5a-4419-c488-853db669064e"
      },
      "outputs": [
        {
          "output_type": "stream",
          "name": "stderr",
          "text": [
            "/usr/local/lib/python3.7/dist-packages/statsmodels/tools/_testing.py:19: FutureWarning: pandas.util.testing is deprecated. Use the functions in the public API at pandas.testing instead.\n",
            "  import pandas.util.testing as tm\n"
          ]
        }
      ],
      "source": [
        "import numpy as np \n",
        "import pandas as pd \n",
        "import matplotlib.pyplot as plt\n",
        "import seaborn as sns \n",
        "import scipy \n",
        "import statsmodels.formula.api as smf \n",
        "import statsmodels.api as sm \n",
        "#from lime import lime_tabular\n",
        "from sklearn import model_selection, preprocessing, feature_selection, ensemble, linear_model, metrics, decomposition\n",
        "\n",
        " "
      ]
    },
    {
      "cell_type": "code",
      "source": [
        "dtf = pd.read_csv('Titanic-Dataset.csv')\n",
        "dtf.head()"
      ],
      "metadata": {
        "colab": {
          "base_uri": "https://localhost:8080/",
          "height": 206
        },
        "id": "jZrm9eJZY-2R",
        "outputId": "22d3b609-ceec-4b32-b0e8-e847af8a0a09"
      },
      "execution_count": null,
      "outputs": [
        {
          "output_type": "execute_result",
          "data": {
            "text/plain": [
              "   PassengerId  Survived  Pclass  \\\n",
              "0            1         0       3   \n",
              "1            2         1       1   \n",
              "2            3         1       3   \n",
              "3            4         1       1   \n",
              "4            5         0       3   \n",
              "\n",
              "                                                Name     Sex   Age  SibSp  \\\n",
              "0                            Braund, Mr. Owen Harris    male  22.0      1   \n",
              "1  Cumings, Mrs. John Bradley (Florence Briggs Th...  female  38.0      1   \n",
              "2                             Heikkinen, Miss. Laina  female  26.0      0   \n",
              "3       Futrelle, Mrs. Jacques Heath (Lily May Peel)  female  35.0      1   \n",
              "4                           Allen, Mr. William Henry    male  35.0      0   \n",
              "\n",
              "   Parch            Ticket     Fare Cabin Embarked  \n",
              "0      0         A/5 21171   7.2500   NaN        S  \n",
              "1      0          PC 17599  71.2833   C85        C  \n",
              "2      0  STON/O2. 3101282   7.9250   NaN        S  \n",
              "3      0            113803  53.1000  C123        S  \n",
              "4      0            373450   8.0500   NaN        S  "
            ],
            "text/html": [
              "\n",
              "  <div id=\"df-478eabfe-9d8f-46a0-9b8b-3209a2c5b89c\">\n",
              "    <div class=\"colab-df-container\">\n",
              "      <div>\n",
              "<style scoped>\n",
              "    .dataframe tbody tr th:only-of-type {\n",
              "        vertical-align: middle;\n",
              "    }\n",
              "\n",
              "    .dataframe tbody tr th {\n",
              "        vertical-align: top;\n",
              "    }\n",
              "\n",
              "    .dataframe thead th {\n",
              "        text-align: right;\n",
              "    }\n",
              "</style>\n",
              "<table border=\"1\" class=\"dataframe\">\n",
              "  <thead>\n",
              "    <tr style=\"text-align: right;\">\n",
              "      <th></th>\n",
              "      <th>PassengerId</th>\n",
              "      <th>Survived</th>\n",
              "      <th>Pclass</th>\n",
              "      <th>Name</th>\n",
              "      <th>Sex</th>\n",
              "      <th>Age</th>\n",
              "      <th>SibSp</th>\n",
              "      <th>Parch</th>\n",
              "      <th>Ticket</th>\n",
              "      <th>Fare</th>\n",
              "      <th>Cabin</th>\n",
              "      <th>Embarked</th>\n",
              "    </tr>\n",
              "  </thead>\n",
              "  <tbody>\n",
              "    <tr>\n",
              "      <th>0</th>\n",
              "      <td>1</td>\n",
              "      <td>0</td>\n",
              "      <td>3</td>\n",
              "      <td>Braund, Mr. Owen Harris</td>\n",
              "      <td>male</td>\n",
              "      <td>22.0</td>\n",
              "      <td>1</td>\n",
              "      <td>0</td>\n",
              "      <td>A/5 21171</td>\n",
              "      <td>7.2500</td>\n",
              "      <td>NaN</td>\n",
              "      <td>S</td>\n",
              "    </tr>\n",
              "    <tr>\n",
              "      <th>1</th>\n",
              "      <td>2</td>\n",
              "      <td>1</td>\n",
              "      <td>1</td>\n",
              "      <td>Cumings, Mrs. John Bradley (Florence Briggs Th...</td>\n",
              "      <td>female</td>\n",
              "      <td>38.0</td>\n",
              "      <td>1</td>\n",
              "      <td>0</td>\n",
              "      <td>PC 17599</td>\n",
              "      <td>71.2833</td>\n",
              "      <td>C85</td>\n",
              "      <td>C</td>\n",
              "    </tr>\n",
              "    <tr>\n",
              "      <th>2</th>\n",
              "      <td>3</td>\n",
              "      <td>1</td>\n",
              "      <td>3</td>\n",
              "      <td>Heikkinen, Miss. Laina</td>\n",
              "      <td>female</td>\n",
              "      <td>26.0</td>\n",
              "      <td>0</td>\n",
              "      <td>0</td>\n",
              "      <td>STON/O2. 3101282</td>\n",
              "      <td>7.9250</td>\n",
              "      <td>NaN</td>\n",
              "      <td>S</td>\n",
              "    </tr>\n",
              "    <tr>\n",
              "      <th>3</th>\n",
              "      <td>4</td>\n",
              "      <td>1</td>\n",
              "      <td>1</td>\n",
              "      <td>Futrelle, Mrs. Jacques Heath (Lily May Peel)</td>\n",
              "      <td>female</td>\n",
              "      <td>35.0</td>\n",
              "      <td>1</td>\n",
              "      <td>0</td>\n",
              "      <td>113803</td>\n",
              "      <td>53.1000</td>\n",
              "      <td>C123</td>\n",
              "      <td>S</td>\n",
              "    </tr>\n",
              "    <tr>\n",
              "      <th>4</th>\n",
              "      <td>5</td>\n",
              "      <td>0</td>\n",
              "      <td>3</td>\n",
              "      <td>Allen, Mr. William Henry</td>\n",
              "      <td>male</td>\n",
              "      <td>35.0</td>\n",
              "      <td>0</td>\n",
              "      <td>0</td>\n",
              "      <td>373450</td>\n",
              "      <td>8.0500</td>\n",
              "      <td>NaN</td>\n",
              "      <td>S</td>\n",
              "    </tr>\n",
              "  </tbody>\n",
              "</table>\n",
              "</div>\n",
              "      <button class=\"colab-df-convert\" onclick=\"convertToInteractive('df-478eabfe-9d8f-46a0-9b8b-3209a2c5b89c')\"\n",
              "              title=\"Convert this dataframe to an interactive table.\"\n",
              "              style=\"display:none;\">\n",
              "        \n",
              "  <svg xmlns=\"http://www.w3.org/2000/svg\" height=\"24px\"viewBox=\"0 0 24 24\"\n",
              "       width=\"24px\">\n",
              "    <path d=\"M0 0h24v24H0V0z\" fill=\"none\"/>\n",
              "    <path d=\"M18.56 5.44l.94 2.06.94-2.06 2.06-.94-2.06-.94-.94-2.06-.94 2.06-2.06.94zm-11 1L8.5 8.5l.94-2.06 2.06-.94-2.06-.94L8.5 2.5l-.94 2.06-2.06.94zm10 10l.94 2.06.94-2.06 2.06-.94-2.06-.94-.94-2.06-.94 2.06-2.06.94z\"/><path d=\"M17.41 7.96l-1.37-1.37c-.4-.4-.92-.59-1.43-.59-.52 0-1.04.2-1.43.59L10.3 9.45l-7.72 7.72c-.78.78-.78 2.05 0 2.83L4 21.41c.39.39.9.59 1.41.59.51 0 1.02-.2 1.41-.59l7.78-7.78 2.81-2.81c.8-.78.8-2.07 0-2.86zM5.41 20L4 18.59l7.72-7.72 1.47 1.35L5.41 20z\"/>\n",
              "  </svg>\n",
              "      </button>\n",
              "      \n",
              "  <style>\n",
              "    .colab-df-container {\n",
              "      display:flex;\n",
              "      flex-wrap:wrap;\n",
              "      gap: 12px;\n",
              "    }\n",
              "\n",
              "    .colab-df-convert {\n",
              "      background-color: #E8F0FE;\n",
              "      border: none;\n",
              "      border-radius: 50%;\n",
              "      cursor: pointer;\n",
              "      display: none;\n",
              "      fill: #1967D2;\n",
              "      height: 32px;\n",
              "      padding: 0 0 0 0;\n",
              "      width: 32px;\n",
              "    }\n",
              "\n",
              "    .colab-df-convert:hover {\n",
              "      background-color: #E2EBFA;\n",
              "      box-shadow: 0px 1px 2px rgba(60, 64, 67, 0.3), 0px 1px 3px 1px rgba(60, 64, 67, 0.15);\n",
              "      fill: #174EA6;\n",
              "    }\n",
              "\n",
              "    [theme=dark] .colab-df-convert {\n",
              "      background-color: #3B4455;\n",
              "      fill: #D2E3FC;\n",
              "    }\n",
              "\n",
              "    [theme=dark] .colab-df-convert:hover {\n",
              "      background-color: #434B5C;\n",
              "      box-shadow: 0px 1px 3px 1px rgba(0, 0, 0, 0.15);\n",
              "      filter: drop-shadow(0px 1px 2px rgba(0, 0, 0, 0.3));\n",
              "      fill: #FFFFFF;\n",
              "    }\n",
              "  </style>\n",
              "\n",
              "      <script>\n",
              "        const buttonEl =\n",
              "          document.querySelector('#df-478eabfe-9d8f-46a0-9b8b-3209a2c5b89c button.colab-df-convert');\n",
              "        buttonEl.style.display =\n",
              "          google.colab.kernel.accessAllowed ? 'block' : 'none';\n",
              "\n",
              "        async function convertToInteractive(key) {\n",
              "          const element = document.querySelector('#df-478eabfe-9d8f-46a0-9b8b-3209a2c5b89c');\n",
              "          const dataTable =\n",
              "            await google.colab.kernel.invokeFunction('convertToInteractive',\n",
              "                                                     [key], {});\n",
              "          if (!dataTable) return;\n",
              "\n",
              "          const docLinkHtml = 'Like what you see? Visit the ' +\n",
              "            '<a target=\"_blank\" href=https://colab.research.google.com/notebooks/data_table.ipynb>data table notebook</a>'\n",
              "            + ' to learn more about interactive tables.';\n",
              "          element.innerHTML = '';\n",
              "          dataTable['output_type'] = 'display_data';\n",
              "          await google.colab.output.renderOutput(dataTable, element);\n",
              "          const docLink = document.createElement('div');\n",
              "          docLink.innerHTML = docLinkHtml;\n",
              "          element.appendChild(docLink);\n",
              "        }\n",
              "      </script>\n",
              "    </div>\n",
              "  </div>\n",
              "  "
            ]
          },
          "metadata": {},
          "execution_count": 108
        }
      ]
    },
    {
      "cell_type": "markdown",
      "source": [
        "**Data analysis**"
      ],
      "metadata": {
        "id": "7CvL3sihZcES"
      }
    },
    {
      "cell_type": "code",
      "source": [
        "'''\n",
        "Recognize whether a column is numerical or categorical.\n",
        ":parameter\n",
        "    :param dtf: dataframe - input data\n",
        "    :param col: str - name of the column to analyze\n",
        "    :param max_cat: num - max number of unique values to recognize a column as categorical\n",
        ":return\n",
        "    \"cat\" if the column is categorical or \"num\" otherwise\n",
        "'''\n",
        "def utils_recognize_type(dtf, col, max_cat=20):\n",
        "    if (dtf[col].dtype == \"O\") | (dtf[col].nunique() < max_cat):\n",
        "        return \"cat\"\n",
        "    else:\n",
        "        return \"num\""
      ],
      "metadata": {
        "id": "dmOqGgSfZRI8"
      },
      "execution_count": null,
      "outputs": []
    },
    {
      "cell_type": "code",
      "source": [
        "dic_cols = {col:utils_recognize_type(dtf, col, max_cat=20) for col in dtf.columns}\n",
        "heatmap = dtf.isnull()\n",
        "for k,v in dic_cols.items():\n",
        " if v == \"num\":\n",
        "   heatmap[k] = heatmap[k].apply(lambda x: 0.5 if x is False else 1)\n",
        " else:\n",
        "   heatmap[k] = heatmap[k].apply(lambda x: 0 if x is False else 1)\n",
        "sns.heatmap(heatmap, cbar=False).set_title('Dataset Overview')\n",
        "plt.show()\n",
        "print(\"\\033[1;37;40m Categerocial \", \"\\033[1;30;41m Numeric \", \"\\033[1;30;47m NaN \")"
      ],
      "metadata": {
        "colab": {
          "base_uri": "https://localhost:8080/",
          "height": 348
        },
        "id": "sXA72n19aN0v",
        "outputId": "3879d4de-6b7d-4c8f-a5af-c2d8ead93d20"
      },
      "execution_count": null,
      "outputs": [
        {
          "output_type": "display_data",
          "data": {
            "text/plain": [
              "<Figure size 432x288 with 1 Axes>"
            ],
            "image/png": "[encoded data removed]"
          },
          "metadata": {
            "needs_background": "light"
          }
        },
        {
          "output_type": "stream",
          "name": "stdout",
          "text": [
            "\u001b[1;37;40m Categerocial  \u001b[1;30;41m Numeric  \u001b[1;30;47m NaN \n"
          ]
        }
      ]
    },
    {
      "cell_type": "code",
      "source": [
        "# ustalam, żę Passenger id jest moim primary key\n",
        "# Zmieniam nazwę kolumny survived na Y, bo to jest nasza zmienna objaśniana\n",
        "dtf = dtf.set_index(\"PassengerId\")\n",
        "dtf = dtf.rename(columns={\"Survived\":\"Y\"})"
      ],
      "metadata": {
        "id": "F550nQLRaf4V"
      },
      "execution_count": null,
      "outputs": []
    },
    {
      "cell_type": "code",
      "source": [
        "#badam jaki % przeżyło, a jak nie\n",
        "y = \"Y\"\n",
        "ax = dtf[y].value_counts().sort_values().plot(kind=\"barh\")\n",
        "totals= []\n",
        "for i in ax.patches:\n",
        "    totals.append(i.get_width())\n",
        "total = sum(totals)\n",
        "for i in ax.patches:\n",
        "     ax.text(i.get_width()+.3, i.get_y()+.20, \n",
        "     str(round((i.get_width()/total)*100, 2))+'%', \n",
        "     fontsize=10, color='black')\n",
        "ax.grid(axis=\"x\")\n",
        "plt.suptitle(y, fontsize=20)\n",
        "plt.show()"
      ],
      "metadata": {
        "colab": {
          "base_uri": "https://localhost:8080/",
          "height": 293
        },
        "id": "SPOrHjh_bavi",
        "outputId": "88c60494-a286-4884-c8cb-98f77a39cf23"
      },
      "execution_count": null,
      "outputs": [
        {
          "output_type": "display_data",
          "data": {
            "text/plain": [
              "<Figure size 432x288 with 1 Axes>"
            ],
            "image/png": "[encoded data removed]"
          },
          "metadata": {
            "needs_background": "light"
          }
        }
      ]
    },
    {
      "cell_type": "code",
      "source": [
        "features = []"
      ],
      "metadata": {
        "id": "OK76n6Esl4tt"
      },
      "execution_count": null,
      "outputs": []
    },
    {
      "cell_type": "code",
      "source": [
        "#histogram- density of underlying distribution for a single numerical data.  \n",
        "\n",
        "x = \"Age\"\n",
        "fig, ax = plt.subplots(nrows=1, ncols=2,  sharex=False, sharey=False)\n",
        "fig.suptitle(x, fontsize=20)\n",
        "### distribution\n",
        "ax[0].title.set_text('distribution')\n",
        "variable = dtf[x].fillna(dtf[x].mean())\n",
        "breaks = np.quantile(variable, q=np.linspace(0, 1, 11))\n",
        "variable = variable[ (variable > breaks[0]) & (variable < \n",
        "                    breaks[10]) ]\n",
        "sns.distplot(variable, hist=True, kde=True, kde_kws={\"shade\": True}, ax=ax[0])\n",
        "des = dtf[x].describe()\n",
        "ax[0].axvline(des[\"25%\"], ls='--')\n",
        "ax[0].axvline(des[\"mean\"], ls='--')\n",
        "ax[0].axvline(des[\"75%\"], ls='--')\n",
        "ax[0].grid(True)\n",
        "des = round(des, 2).apply(lambda x: str(x))\n",
        "box = '\\n'.join((\"min: \"+des[\"min\"], \"25%: \"+des[\"25%\"], \"mean: \"+des[\"mean\"], \"75%: \"+des[\"75%\"], \"max: \"+des[\"max\"]))\n",
        "ax[0].text(0.95, 0.95, box, transform=ax[0].transAxes, fontsize=10, va='top', ha=\"right\", bbox=dict(boxstyle='round', facecolor='white', alpha=1))\n",
        "### boxplot \n",
        "ax[1].title.set_text('outliers (log scale)')\n",
        "tmp_dtf = pd.DataFrame(dtf[x])\n",
        "tmp_dtf[x] = np.log(tmp_dtf[x])\n",
        "tmp_dtf.boxplot(column=x, ax=ax[1])\n",
        "plt.show()\n"
      ],
      "metadata": {
        "colab": {
          "base_uri": "https://localhost:8080/",
          "height": 362
        },
        "id": "v-9zuo-JbnLD",
        "outputId": "de0c2704-d0d6-4ad9-d050-e79486be506d"
      },
      "execution_count": null,
      "outputs": [
        {
          "output_type": "stream",
          "name": "stderr",
          "text": [
            "/usr/local/lib/python3.7/dist-packages/seaborn/distributions.py:2619: FutureWarning: `distplot` is a deprecated function and will be removed in a future version. Please adapt your code to use either `displot` (a figure-level function with similar flexibility) or `histplot` (an axes-level function for histograms).\n",
            "  warnings.warn(msg, FutureWarning)\n"
          ]
        },
        {
          "output_type": "display_data",
          "data": {
            "text/plain": [
              "<Figure size 432x288 with 2 Axes>"
            ],
            "image/png": "[encoded data removed]"
          },
          "metadata": {
            "needs_background": "light"
          }
        }
      ]
    },
    {
      "cell_type": "markdown",
      "source": [
        "Pasażerowie byli dosyć młodzi, histogram przechyla się w lewą stronę, kwartyl trzeci wynosi 38 lat. To jak ułożony jest boxplot pokazuje, że było dużo dzieci. "
      ],
      "metadata": {
        "id": "UTCf06SZclIv"
      }
    },
    {
      "cell_type": "markdown",
      "source": [
        "W kolejnym kroku chcę sprawdzić, czy wiek ma wpływ na prztrwanie, ale Y jest zmienną dyskretną, dlatego muszę trochę pozmieniać:\n",
        "- podzelić populację na dwa zbiory: przetrwali, nie przetrwali \n",
        "- zrobić wykres który porówna gęstość obu zmiennych, jeżeli rozkłady są różne, to znaczy, że zmienna wiek wpływa na przetrwanie \n",
        "- pogrupuję zmienną numeryczną Age w podzbiory i zrobię wykres każdego podzbioru, jeżeli proporcja 1s jest podobna we wszytskich, to znaczy, że nie tłymaczy \n",
        "- narysuję boxploty dwóhc próbek  żeby zobaczyć wartości odstające "
      ],
      "metadata": {
        "id": "tTj18imadFhv"
      }
    },
    {
      "cell_type": "code",
      "source": [
        "cat, num = \"Y\", \"Age\"\n",
        "fig, ax = plt.subplots(nrows=1, ncols=3,  sharex=False, sharey=False)\n",
        "fig.suptitle(x+\"   vs   \"+y, fontsize=20)\n",
        "            \n",
        "### distribution\n",
        "ax[0].title.set_text('density')\n",
        "for i in dtf[cat].unique():\n",
        "    sns.distplot(dtf[dtf[cat]==i][num], hist=False, label=i, ax=ax[0])\n",
        "ax[0].grid(True)\n",
        "### stacked\n",
        "ax[1].title.set_text('bins')\n",
        "breaks = np.quantile(dtf[num], q=np.linspace(0,1,11))\n",
        "tmp = dtf.groupby([cat, pd.cut(dtf[num], breaks, duplicates='drop')]).size().unstack().T\n",
        "tmp = tmp[dtf[cat].unique()]\n",
        "tmp[\"tot\"] = tmp.sum(axis=1)\n",
        "for col in tmp.drop(\"tot\", axis=1).columns:\n",
        "     tmp[col] = tmp[col] / tmp[\"tot\"]\n",
        "tmp.drop(\"tot\", axis=1).plot(kind='bar', stacked=True, ax=ax[1], legend=False, grid=True)\n",
        "### boxplot   \n",
        "ax[2].title.set_text('outliers')\n",
        "sns.catplot(x=cat, y=num, data=dtf, kind=\"box\", ax=ax[2])\n",
        "ax[2].grid(True)\n",
        "plt.show()"
      ],
      "metadata": {
        "colab": {
          "base_uri": "https://localhost:8080/",
          "height": 761
        },
        "id": "hE6Q70lZcTgm",
        "outputId": "7065cee7-c21e-4a78-ee48-8f95af5f226b"
      },
      "execution_count": null,
      "outputs": [
        {
          "output_type": "stream",
          "name": "stderr",
          "text": [
            "/usr/local/lib/python3.7/dist-packages/seaborn/distributions.py:2619: FutureWarning: `distplot` is a deprecated function and will be removed in a future version. Please adapt your code to use either `displot` (a figure-level function with similar flexibility) or `kdeplot` (an axes-level function for kernel density plots).\n",
            "  warnings.warn(msg, FutureWarning)\n",
            "/usr/local/lib/python3.7/dist-packages/seaborn/distributions.py:2619: FutureWarning: `distplot` is a deprecated function and will be removed in a future version. Please adapt your code to use either `displot` (a figure-level function with similar flexibility) or `kdeplot` (an axes-level function for kernel density plots).\n",
            "  warnings.warn(msg, FutureWarning)\n"
          ]
        },
        {
          "output_type": "error",
          "ename": "KeyError",
          "evalue": "ignored",
          "traceback": [
            "\u001b[0;31m---------------------------------------------------------------------------\u001b[0m",
            "\u001b[0;31mKeyError\u001b[0m                                  Traceback (most recent call last)",
            "\u001b[0;32m<ipython-input-116-13c77e188080>\u001b[0m in \u001b[0;36m<module>\u001b[0;34m()\u001b[0m\n\u001b[1;32m     12\u001b[0m \u001b[0mbreaks\u001b[0m \u001b[0;34m=\u001b[0m \u001b[0mnp\u001b[0m\u001b[0;34m.\u001b[0m\u001b[0mquantile\u001b[0m\u001b[0;34m(\u001b[0m\u001b[0mdtf\u001b[0m\u001b[0;34m[\u001b[0m\u001b[0mnum\u001b[0m\u001b[0;34m]\u001b[0m\u001b[0;34m,\u001b[0m \u001b[0mq\u001b[0m\u001b[0;34m=\u001b[0m\u001b[0mnp\u001b[0m\u001b[0;34m.\u001b[0m\u001b[0mlinspace\u001b[0m\u001b[0;34m(\u001b[0m\u001b[0;36m0\u001b[0m\u001b[0;34m,\u001b[0m\u001b[0;36m1\u001b[0m\u001b[0;34m,\u001b[0m\u001b[0;36m11\u001b[0m\u001b[0;34m)\u001b[0m\u001b[0;34m)\u001b[0m\u001b[0;34m\u001b[0m\u001b[0;34m\u001b[0m\u001b[0m\n\u001b[1;32m     13\u001b[0m \u001b[0mtmp\u001b[0m \u001b[0;34m=\u001b[0m \u001b[0mdtf\u001b[0m\u001b[0;34m.\u001b[0m\u001b[0mgroupby\u001b[0m\u001b[0;34m(\u001b[0m\u001b[0;34m[\u001b[0m\u001b[0mcat\u001b[0m\u001b[0;34m,\u001b[0m \u001b[0mpd\u001b[0m\u001b[0;34m.\u001b[0m\u001b[0mcut\u001b[0m\u001b[0;34m(\u001b[0m\u001b[0mdtf\u001b[0m\u001b[0;34m[\u001b[0m\u001b[0mnum\u001b[0m\u001b[0;34m]\u001b[0m\u001b[0;34m,\u001b[0m \u001b[0mbreaks\u001b[0m\u001b[0;34m,\u001b[0m \u001b[0mduplicates\u001b[0m\u001b[0;34m=\u001b[0m\u001b[0;34m'drop'\u001b[0m\u001b[0;34m)\u001b[0m\u001b[0;34m]\u001b[0m\u001b[0;34m)\u001b[0m\u001b[0;34m.\u001b[0m\u001b[0msize\u001b[0m\u001b[0;34m(\u001b[0m\u001b[0;34m)\u001b[0m\u001b[0;34m.\u001b[0m\u001b[0munstack\u001b[0m\u001b[0;34m(\u001b[0m\u001b[0;34m)\u001b[0m\u001b[0;34m.\u001b[0m\u001b[0mT\u001b[0m\u001b[0;34m\u001b[0m\u001b[0;34m\u001b[0m\u001b[0m\n\u001b[0;32m---> 14\u001b[0;31m \u001b[0mtmp\u001b[0m \u001b[0;34m=\u001b[0m \u001b[0mtmp\u001b[0m\u001b[0;34m[\u001b[0m\u001b[0mdtf\u001b[0m\u001b[0;34m[\u001b[0m\u001b[0mcat\u001b[0m\u001b[0;34m]\u001b[0m\u001b[0;34m.\u001b[0m\u001b[0munique\u001b[0m\u001b[0;34m(\u001b[0m\u001b[0;34m)\u001b[0m\u001b[0;34m]\u001b[0m\u001b[0;34m\u001b[0m\u001b[0;34m\u001b[0m\u001b[0m\n\u001b[0m\u001b[1;32m     15\u001b[0m \u001b[0mtmp\u001b[0m\u001b[0;34m[\u001b[0m\u001b[0;34m\"tot\"\u001b[0m\u001b[0;34m]\u001b[0m \u001b[0;34m=\u001b[0m \u001b[0mtmp\u001b[0m\u001b[0;34m.\u001b[0m\u001b[0msum\u001b[0m\u001b[0;34m(\u001b[0m\u001b[0maxis\u001b[0m\u001b[0;34m=\u001b[0m\u001b[0;36m1\u001b[0m\u001b[0;34m)\u001b[0m\u001b[0;34m\u001b[0m\u001b[0;34m\u001b[0m\u001b[0m\n\u001b[1;32m     16\u001b[0m \u001b[0;32mfor\u001b[0m \u001b[0mcol\u001b[0m \u001b[0;32min\u001b[0m \u001b[0mtmp\u001b[0m\u001b[0;34m.\u001b[0m\u001b[0mdrop\u001b[0m\u001b[0;34m(\u001b[0m\u001b[0;34m\"tot\"\u001b[0m\u001b[0;34m,\u001b[0m \u001b[0maxis\u001b[0m\u001b[0;34m=\u001b[0m\u001b[0;36m1\u001b[0m\u001b[0;34m)\u001b[0m\u001b[0;34m.\u001b[0m\u001b[0mcolumns\u001b[0m\u001b[0;34m:\u001b[0m\u001b[0;34m\u001b[0m\u001b[0;34m\u001b[0m\u001b[0m\n",
            "\u001b[0;32m/usr/local/lib/python3.7/dist-packages/pandas/core/frame.py\u001b[0m in \u001b[0;36m__getitem__\u001b[0;34m(self, key)\u001b[0m\n\u001b[1;32m   3462\u001b[0m             \u001b[0;32mif\u001b[0m \u001b[0mis_iterator\u001b[0m\u001b[0;34m(\u001b[0m\u001b[0mkey\u001b[0m\u001b[0;34m)\u001b[0m\u001b[0;34m:\u001b[0m\u001b[0;34m\u001b[0m\u001b[0;34m\u001b[0m\u001b[0m\n\u001b[1;32m   3463\u001b[0m                 \u001b[0mkey\u001b[0m \u001b[0;34m=\u001b[0m \u001b[0mlist\u001b[0m\u001b[0;34m(\u001b[0m\u001b[0mkey\u001b[0m\u001b[0;34m)\u001b[0m\u001b[0;34m\u001b[0m\u001b[0;34m\u001b[0m\u001b[0m\n\u001b[0;32m-> 3464\u001b[0;31m             \u001b[0mindexer\u001b[0m \u001b[0;34m=\u001b[0m \u001b[0mself\u001b[0m\u001b[0;34m.\u001b[0m\u001b[0mloc\u001b[0m\u001b[0;34m.\u001b[0m\u001b[0m_get_listlike_indexer\u001b[0m\u001b[0;34m(\u001b[0m\u001b[0mkey\u001b[0m\u001b[0;34m,\u001b[0m \u001b[0maxis\u001b[0m\u001b[0;34m=\u001b[0m\u001b[0;36m1\u001b[0m\u001b[0;34m)\u001b[0m\u001b[0;34m[\u001b[0m\u001b[0;36m1\u001b[0m\u001b[0;34m]\u001b[0m\u001b[0;34m\u001b[0m\u001b[0;34m\u001b[0m\u001b[0m\n\u001b[0m\u001b[1;32m   3465\u001b[0m \u001b[0;34m\u001b[0m\u001b[0m\n\u001b[1;32m   3466\u001b[0m         \u001b[0;31m# take() does not accept boolean indexers\u001b[0m\u001b[0;34m\u001b[0m\u001b[0;34m\u001b[0m\u001b[0;34m\u001b[0m\u001b[0m\n",
            "\u001b[0;32m/usr/local/lib/python3.7/dist-packages/pandas/core/indexing.py\u001b[0m in \u001b[0;36m_get_listlike_indexer\u001b[0;34m(self, key, axis)\u001b[0m\n\u001b[1;32m   1312\u001b[0m             \u001b[0mkeyarr\u001b[0m\u001b[0;34m,\u001b[0m \u001b[0mindexer\u001b[0m\u001b[0;34m,\u001b[0m \u001b[0mnew_indexer\u001b[0m \u001b[0;34m=\u001b[0m \u001b[0max\u001b[0m\u001b[0;34m.\u001b[0m\u001b[0m_reindex_non_unique\u001b[0m\u001b[0;34m(\u001b[0m\u001b[0mkeyarr\u001b[0m\u001b[0;34m)\u001b[0m\u001b[0;34m\u001b[0m\u001b[0;34m\u001b[0m\u001b[0m\n\u001b[1;32m   1313\u001b[0m \u001b[0;34m\u001b[0m\u001b[0m\n\u001b[0;32m-> 1314\u001b[0;31m         \u001b[0mself\u001b[0m\u001b[0;34m.\u001b[0m\u001b[0m_validate_read_indexer\u001b[0m\u001b[0;34m(\u001b[0m\u001b[0mkeyarr\u001b[0m\u001b[0;34m,\u001b[0m \u001b[0mindexer\u001b[0m\u001b[0;34m,\u001b[0m \u001b[0maxis\u001b[0m\u001b[0;34m)\u001b[0m\u001b[0;34m\u001b[0m\u001b[0;34m\u001b[0m\u001b[0m\n\u001b[0m\u001b[1;32m   1315\u001b[0m \u001b[0;34m\u001b[0m\u001b[0m\n\u001b[1;32m   1316\u001b[0m         if needs_i8_conversion(ax.dtype) or isinstance(\n",
            "\u001b[0;32m/usr/local/lib/python3.7/dist-packages/pandas/core/indexing.py\u001b[0m in \u001b[0;36m_validate_read_indexer\u001b[0;34m(self, key, indexer, axis)\u001b[0m\n\u001b[1;32m   1372\u001b[0m                 \u001b[0;32mif\u001b[0m \u001b[0muse_interval_msg\u001b[0m\u001b[0;34m:\u001b[0m\u001b[0;34m\u001b[0m\u001b[0;34m\u001b[0m\u001b[0m\n\u001b[1;32m   1373\u001b[0m                     \u001b[0mkey\u001b[0m \u001b[0;34m=\u001b[0m \u001b[0mlist\u001b[0m\u001b[0;34m(\u001b[0m\u001b[0mkey\u001b[0m\u001b[0;34m)\u001b[0m\u001b[0;34m\u001b[0m\u001b[0;34m\u001b[0m\u001b[0m\n\u001b[0;32m-> 1374\u001b[0;31m                 \u001b[0;32mraise\u001b[0m \u001b[0mKeyError\u001b[0m\u001b[0;34m(\u001b[0m\u001b[0;34mf\"None of [{key}] are in the [{axis_name}]\"\u001b[0m\u001b[0;34m)\u001b[0m\u001b[0;34m\u001b[0m\u001b[0;34m\u001b[0m\u001b[0m\n\u001b[0m\u001b[1;32m   1375\u001b[0m \u001b[0;34m\u001b[0m\u001b[0m\n\u001b[1;32m   1376\u001b[0m             \u001b[0mnot_found\u001b[0m \u001b[0;34m=\u001b[0m \u001b[0mlist\u001b[0m\u001b[0;34m(\u001b[0m\u001b[0mensure_index\u001b[0m\u001b[0;34m(\u001b[0m\u001b[0mkey\u001b[0m\u001b[0;34m)\u001b[0m\u001b[0;34m[\u001b[0m\u001b[0mmissing_mask\u001b[0m\u001b[0;34m.\u001b[0m\u001b[0mnonzero\u001b[0m\u001b[0;34m(\u001b[0m\u001b[0;34m)\u001b[0m\u001b[0;34m[\u001b[0m\u001b[0;36m0\u001b[0m\u001b[0;34m]\u001b[0m\u001b[0;34m]\u001b[0m\u001b[0;34m.\u001b[0m\u001b[0munique\u001b[0m\u001b[0;34m(\u001b[0m\u001b[0;34m)\u001b[0m\u001b[0;34m)\u001b[0m\u001b[0;34m\u001b[0m\u001b[0;34m\u001b[0m\u001b[0m\n",
            "\u001b[0;31mKeyError\u001b[0m: \"None of [Int64Index([0, 1], dtype='int64', name='Y')] are in the [columns]\""
          ]
        },
        {
          "output_type": "display_data",
          "data": {
            "text/plain": [
              "<Figure size 432x288 with 3 Axes>"
            ],
            "image/png": "[encoded data removed]"
          },
          "metadata": {
            "needs_background": "light"
          }
        }
      ]
    },
    {
      "cell_type": "markdown",
      "source": [
        "PO wykresach można zauważyć (niestety coś mi nie działa), że wiek ma wpływ na Y. Im mniejszy wiek, tym wyższa szansa na przeżycie. Jest skok na wykresie w przedziale wiekowym 0-16 lat, w sensie skoro pomarańczowy to że preżyli, to widać, że u dzieci więcej przeżyło. \n",
        "\n",
        "Ale możemy również wykonać test ANOVA. Jeżeli p_vlue<0.05, to odrzucamy hipotezę zerową o tym, że średnie są sobie równe"
      ],
      "metadata": {
        "id": "H-a-j6YAesHN"
      }
    },
    {
      "cell_type": "code",
      "source": [
        "cat, num = \"Y\", \"Age\"\n",
        "model = smf.ols(num+' ~ '+cat, data=dtf).fit()\n",
        "table = sm.stats.anova_lm(model)\n",
        "p = table[\"PR(>F)\"][0]\n",
        "coeff, p = None, round(p, 3)\n",
        "conclusion = \"Correlated\" if p < 0.05 else \"Non-Correlated\"\n",
        "print(\"Anova F: the variables are\", conclusion, \"(p-value: \"+str(p)+\")\")\n",
        "\n",
        "features.append(\"Age\")"
      ],
      "metadata": {
        "colab": {
          "base_uri": "https://localhost:8080/"
        },
        "id": "1lgjtjowf6Qx",
        "outputId": "a3ad2248-5545-4295-dd90-a84a1c84e5bb"
      },
      "execution_count": null,
      "outputs": [
        {
          "output_type": "stream",
          "name": "stdout",
          "text": [
            "Anova F: the variables are Correlated (p-value: 0.039)\n"
          ]
        }
      ]
    },
    {
      "cell_type": "markdown",
      "source": [
        "W kolejnym kroku badam czy płeć ma wpływ na przeżycie. Mam tutaj dwie zmienne dyskretne. "
      ],
      "metadata": {
        "id": "tMQuFiIlgVrv"
      }
    },
    {
      "cell_type": "code",
      "source": [
        "x, y = \"Sex\", \"Y\"\n",
        "fig, ax = plt.subplots(nrows=1, ncols=2,  sharex=False, sharey=False)\n",
        "fig.suptitle(x+\"   vs   \"+y, fontsize=20)\n",
        "### count\n",
        "ax[0].title.set_text('count')\n",
        "order = dtf.groupby(x)[y].count().index.tolist()\n",
        "sns.catplot(x=x, hue=y, data=dtf, kind='count', order=order, ax=ax[0])\n",
        "ax[0].grid(True)\n",
        "### percentage\n",
        "ax[1].title.set_text('percentage')\n",
        "a = dtf.groupby(x)[y].count().reset_index()\n",
        "a = a.rename(columns={y:\"tot\"})\n",
        "b = dtf.groupby([x,y])[y].count()\n",
        "b = b.rename(columns={y:0}).reset_index()\n",
        "b = b.merge(a, how=\"left\")\n",
        "b[\"%\"] = b[0] / b[\"tot\"] *100\n",
        "sns.barplot(x=x, y=\"%\", hue=y, data=b,\n",
        "            ax=ax[1]).get_legend().remove()\n",
        "ax[1].grid(True)\n",
        "plt.show()"
      ],
      "metadata": {
        "colab": {
          "base_uri": "https://localhost:8080/",
          "height": 918
        },
        "id": "w8sTglp2f9Ea",
        "outputId": "e9d353e5-aa43-4394-a78f-5a4517aed4f8"
      },
      "execution_count": null,
      "outputs": [
        {
          "output_type": "stream",
          "name": "stderr",
          "text": [
            "/usr/local/lib/python3.7/dist-packages/seaborn/categorical.py:3775: UserWarning: catplot is a figure-level function and does not accept target axes. You may wish to try countplot\n",
            "  warnings.warn(msg, UserWarning)\n"
          ]
        },
        {
          "output_type": "error",
          "ename": "TypeError",
          "evalue": "ignored",
          "traceback": [
            "\u001b[0;31m---------------------------------------------------------------------------\u001b[0m",
            "\u001b[0;31mTypeError\u001b[0m                                 Traceback (most recent call last)",
            "\u001b[0;32m<ipython-input-118-c61d5139b48b>\u001b[0m in \u001b[0;36m<module>\u001b[0;34m()\u001b[0m\n\u001b[1;32m     12\u001b[0m \u001b[0ma\u001b[0m \u001b[0;34m=\u001b[0m \u001b[0ma\u001b[0m\u001b[0;34m.\u001b[0m\u001b[0mrename\u001b[0m\u001b[0;34m(\u001b[0m\u001b[0mcolumns\u001b[0m\u001b[0;34m=\u001b[0m\u001b[0;34m{\u001b[0m\u001b[0my\u001b[0m\u001b[0;34m:\u001b[0m\u001b[0;34m\"tot\"\u001b[0m\u001b[0;34m}\u001b[0m\u001b[0;34m)\u001b[0m\u001b[0;34m\u001b[0m\u001b[0;34m\u001b[0m\u001b[0m\n\u001b[1;32m     13\u001b[0m \u001b[0mb\u001b[0m \u001b[0;34m=\u001b[0m \u001b[0mdtf\u001b[0m\u001b[0;34m.\u001b[0m\u001b[0mgroupby\u001b[0m\u001b[0;34m(\u001b[0m\u001b[0;34m[\u001b[0m\u001b[0mx\u001b[0m\u001b[0;34m,\u001b[0m\u001b[0my\u001b[0m\u001b[0;34m]\u001b[0m\u001b[0;34m)\u001b[0m\u001b[0;34m[\u001b[0m\u001b[0my\u001b[0m\u001b[0;34m]\u001b[0m\u001b[0;34m.\u001b[0m\u001b[0mcount\u001b[0m\u001b[0;34m(\u001b[0m\u001b[0;34m)\u001b[0m\u001b[0;34m\u001b[0m\u001b[0;34m\u001b[0m\u001b[0m\n\u001b[0;32m---> 14\u001b[0;31m \u001b[0mb\u001b[0m \u001b[0;34m=\u001b[0m \u001b[0mb\u001b[0m\u001b[0;34m.\u001b[0m\u001b[0mrename\u001b[0m\u001b[0;34m(\u001b[0m\u001b[0mcolumns\u001b[0m\u001b[0;34m=\u001b[0m\u001b[0;34m{\u001b[0m\u001b[0my\u001b[0m\u001b[0;34m:\u001b[0m\u001b[0;36m0\u001b[0m\u001b[0;34m}\u001b[0m\u001b[0;34m)\u001b[0m\u001b[0;34m.\u001b[0m\u001b[0mreset_index\u001b[0m\u001b[0;34m(\u001b[0m\u001b[0;34m)\u001b[0m\u001b[0;34m\u001b[0m\u001b[0;34m\u001b[0m\u001b[0m\n\u001b[0m\u001b[1;32m     15\u001b[0m \u001b[0mb\u001b[0m \u001b[0;34m=\u001b[0m \u001b[0mb\u001b[0m\u001b[0;34m.\u001b[0m\u001b[0mmerge\u001b[0m\u001b[0;34m(\u001b[0m\u001b[0ma\u001b[0m\u001b[0;34m,\u001b[0m \u001b[0mhow\u001b[0m\u001b[0;34m=\u001b[0m\u001b[0;34m\"left\"\u001b[0m\u001b[0;34m)\u001b[0m\u001b[0;34m\u001b[0m\u001b[0;34m\u001b[0m\u001b[0m\n\u001b[1;32m     16\u001b[0m \u001b[0mb\u001b[0m\u001b[0;34m[\u001b[0m\u001b[0;34m\"%\"\u001b[0m\u001b[0;34m]\u001b[0m \u001b[0;34m=\u001b[0m \u001b[0mb\u001b[0m\u001b[0;34m[\u001b[0m\u001b[0;36m0\u001b[0m\u001b[0;34m]\u001b[0m \u001b[0;34m/\u001b[0m \u001b[0mb\u001b[0m\u001b[0;34m[\u001b[0m\u001b[0;34m\"tot\"\u001b[0m\u001b[0;34m]\u001b[0m \u001b[0;34m*\u001b[0m\u001b[0;36m100\u001b[0m\u001b[0;34m\u001b[0m\u001b[0;34m\u001b[0m\u001b[0m\n",
            "\u001b[0;31mTypeError\u001b[0m: rename() got an unexpected keyword argument 'columns'"
          ]
        },
        {
          "output_type": "display_data",
          "data": {
            "text/plain": [
              "<Figure size 432x288 with 2 Axes>"
            ],
            "image/png": "[encoded data removed]"
          },
          "metadata": {
            "needs_background": "light"
          }
        },
        {
          "output_type": "display_data",
          "data": {
            "text/plain": [
              "<Figure size 402.375x360 with 1 Axes>"
            ],
            "image/png": "[encoded data removed]"
          },
          "metadata": {
            "needs_background": "light"
          }
        }
      ]
    },
    {
      "cell_type": "markdown",
      "source": [
        "Widać, że przeżył zdecydowanie większy % kobiet niż mężczyzn.\n",
        "Możemy sprawdzić też tutaj korelację, ale mam 2 zmienne dyskretne, więc lepszy będzie test chi-kwadrat. Jeżeli p-value <0.05 to odrzucam hipotezę zerową i stwierdzam, że zmienne są skorelowane"
      ],
      "metadata": {
        "id": "Br5ky1XDgnYV"
      }
    },
    {
      "cell_type": "code",
      "source": [
        "x, y = \"Sex\", \"Y\"\n",
        "cont_table = pd.crosstab(index=dtf[x], columns=dtf[y])\n",
        "chi2_test = scipy.stats.chi2_contingency(cont_table)\n",
        "chi2, p = chi2_test[0], chi2_test[1]\n",
        "n = cont_table.sum().sum()\n",
        "phi2 = chi2/n\n",
        "r,k = cont_table.shape\n",
        "phi2corr = max(0, phi2-((k-1)*(r-1))/(n-1))\n",
        "rcorr = r-((r-1)**2)/(n-1)\n",
        "kcorr = k-((k-1)**2)/(n-1)\n",
        "coeff = np.sqrt(phi2corr/min((kcorr-1), (rcorr-1)))\n",
        "coeff, p = round(coeff, 3), round(p, 3)\n",
        "conclusion = \"Significant\" if p < 0.05 else \"Non-Significant\"\n",
        "print(\"Cramer Correlation:\", coeff, conclusion, \"(p-value:\"+str(p)+\")\")\n",
        "\n",
        "features.append(\"Sex\")"
      ],
      "metadata": {
        "colab": {
          "base_uri": "https://localhost:8080/"
        },
        "id": "Erm50WAYghmY",
        "outputId": "192d19d4-a49f-404c-8845-09ceab9b5076"
      },
      "execution_count": null,
      "outputs": [
        {
          "output_type": "stream",
          "name": "stdout",
          "text": [
            "Cramer Correlation: 0.54 Significant (p-value:0.0)\n"
          ]
        }
      ]
    },
    {
      "cell_type": "markdown",
      "source": [
        "Okazuje się, że zmienne wiek oraz płeć dobrze tłumaczą zmienną Y. Powinniśmy sprawdzić to dla każdej zmiennej żeby móc ocenić, które zmienne należy usunąć z modelu, np. Cabin okazuje się nie mieć znaczenia. "
      ],
      "metadata": {
        "id": "3sdATxzIhenm"
      }
    },
    {
      "cell_type": "markdown",
      "source": [
        "**Feature engineering**\n",
        "Chcę stworzyć zmienną na podstawie kolumny Cabin, która będzie dobrze tłumaczyła mój model. Zauważam, że pierwsza litera zmiennej Cabin, np. B96 wskazuje być może na to, że kajuta była umiejscowiona bliżej miejsca z łódkami."
      ],
      "metadata": {
        "id": "kuvkN8C8iDCH"
      }
    },
    {
      "cell_type": "code",
      "source": [
        "## Create new column\n",
        "dtf[\"Cabin_section\"] = dtf[\"Cabin\"].apply(lambda x: str(x)[0])\n",
        "## Plot contingency table\n",
        "cont_table = pd.crosstab(index=dtf[\"Cabin_section\"], \n",
        "             columns=dtf[\"Pclass\"], values=dtf[\"Y\"], aggfunc=\"sum\")\n",
        "sns.heatmap(cont_table, annot=True, cmap=\"YlGnBu\", fmt='.0f',\n",
        "            linewidths=.5).set_title( \n",
        "            'Cabin_section vs Pclass (filter: Y)' )\n",
        "features.append(\"Cabin_section\")"
      ],
      "metadata": {
        "colab": {
          "base_uri": "https://localhost:8080/",
          "height": 295
        },
        "id": "l4sCd3N3haWZ",
        "outputId": "e3f39708-4c47-4c76-9a7a-3331643347fb"
      },
      "execution_count": null,
      "outputs": [
        {
          "output_type": "display_data",
          "data": {
            "text/plain": [
              "<Figure size 432x288 with 2 Axes>"
            ],
            "image/png": "[encoded data removed]"
          },
          "metadata": {
            "needs_background": "light"
          }
        }
      ]
    },
    {
      "cell_type": "markdown",
      "source": [
        "Tabela kontyngencji pokazuje ile ludzi umierało w zależności od miejsca kajuty i klasy. Zachowam zmienną na później zamiast zmiennej cabin."
      ],
      "metadata": {
        "id": "0oyfh5Q9iyc-"
      }
    },
    {
      "cell_type": "markdown",
      "source": [
        "**Preprocessing**"
      ],
      "metadata": {
        "id": "mgMZ2sBajP5v"
      }
    },
    {
      "cell_type": "markdown",
      "source": [
        "Przygotowanie surowych danych do wykorzystania w modelach. Należy:\n",
        "- każdy wiersz musi przedstawiać inną obserwację, a każda kolumna inną cechę, dlatego np. kolumna PassengerId nie będzie tłumaczyć \n",
        "- Zbiór musi być podzielony na zbiór treningowy i testowy \n",
        "- brakujące wartości powinny być czymś zastąpione \n",
        "- zmienne dsykretne należy przkodować na zmienne numeryczne \n",
        "- powinniśmy przeskalować dane, pozwala to na normalizację i przyspiesza działanie algorytmu"
      ],
      "metadata": {
        "id": "WKSSrVcqjSsY"
      }
    },
    {
      "cell_type": "markdown",
      "source": [
        "1. Podział danych "
      ],
      "metadata": {
        "id": "tXOjqwBXkVgs"
      }
    },
    {
      "cell_type": "code",
      "source": [
        "features.append(\"Embarked\")\n",
        "features.append(\"Pclass\")\n",
        "features.append(\"Fare\")\n",
        "features.append(\"Parch\")\n",
        "features.append(\"SibSp\")"
      ],
      "metadata": {
        "id": "XHoyZAfGoE0u"
      },
      "execution_count": null,
      "outputs": []
    },
    {
      "cell_type": "code",
      "source": [
        "\n",
        "dtf = dtf[features+[\"Y\"]]\n",
        "dtf.head()"
      ],
      "metadata": {
        "colab": {
          "base_uri": "https://localhost:8080/",
          "height": 237
        },
        "id": "UYrDzmQKo31K",
        "outputId": "ab5e819b-e463-4914-9617-07525cad7166"
      },
      "execution_count": null,
      "outputs": [
        {
          "output_type": "execute_result",
          "data": {
            "text/plain": [
              "              Age     Sex Cabin_section Embarked  Pclass     Fare  Parch  \\\n",
              "PassengerId                                                                \n",
              "1            22.0    male             n        S       3   7.2500      0   \n",
              "2            38.0  female             C        C       1  71.2833      0   \n",
              "3            26.0  female             n        S       3   7.9250      0   \n",
              "4            35.0  female             C        S       1  53.1000      0   \n",
              "5            35.0    male             n        S       3   8.0500      0   \n",
              "\n",
              "             SibSp  Y  \n",
              "PassengerId            \n",
              "1                1  0  \n",
              "2                1  1  \n",
              "3                0  1  \n",
              "4                1  1  \n",
              "5                0  0  "
            ],
            "text/html": [
              "\n",
              "  <div id=\"df-bd87cfc1-4429-43c1-bff5-1625d8c414b9\">\n",
              "    <div class=\"colab-df-container\">\n",
              "      <div>\n",
              "<style scoped>\n",
              "    .dataframe tbody tr th:only-of-type {\n",
              "        vertical-align: middle;\n",
              "    }\n",
              "\n",
              "    .dataframe tbody tr th {\n",
              "        vertical-align: top;\n",
              "    }\n",
              "\n",
              "    .dataframe thead th {\n",
              "        text-align: right;\n",
              "    }\n",
              "</style>\n",
              "<table border=\"1\" class=\"dataframe\">\n",
              "  <thead>\n",
              "    <tr style=\"text-align: right;\">\n",
              "      <th></th>\n",
              "      <th>Age</th>\n",
              "      <th>Sex</th>\n",
              "      <th>Cabin_section</th>\n",
              "      <th>Embarked</th>\n",
              "      <th>Pclass</th>\n",
              "      <th>Fare</th>\n",
              "      <th>Parch</th>\n",
              "      <th>SibSp</th>\n",
              "      <th>Y</th>\n",
              "    </tr>\n",
              "    <tr>\n",
              "      <th>PassengerId</th>\n",
              "      <th></th>\n",
              "      <th></th>\n",
              "      <th></th>\n",
              "      <th></th>\n",
              "      <th></th>\n",
              "      <th></th>\n",
              "      <th></th>\n",
              "      <th></th>\n",
              "      <th></th>\n",
              "    </tr>\n",
              "  </thead>\n",
              "  <tbody>\n",
              "    <tr>\n",
              "      <th>1</th>\n",
              "      <td>22.0</td>\n",
              "      <td>male</td>\n",
              "      <td>n</td>\n",
              "      <td>S</td>\n",
              "      <td>3</td>\n",
              "      <td>7.2500</td>\n",
              "      <td>0</td>\n",
              "      <td>1</td>\n",
              "      <td>0</td>\n",
              "    </tr>\n",
              "    <tr>\n",
              "      <th>2</th>\n",
              "      <td>38.0</td>\n",
              "      <td>female</td>\n",
              "      <td>C</td>\n",
              "      <td>C</td>\n",
              "      <td>1</td>\n",
              "      <td>71.2833</td>\n",
              "      <td>0</td>\n",
              "      <td>1</td>\n",
              "      <td>1</td>\n",
              "    </tr>\n",
              "    <tr>\n",
              "      <th>3</th>\n",
              "      <td>26.0</td>\n",
              "      <td>female</td>\n",
              "      <td>n</td>\n",
              "      <td>S</td>\n",
              "      <td>3</td>\n",
              "      <td>7.9250</td>\n",
              "      <td>0</td>\n",
              "      <td>0</td>\n",
              "      <td>1</td>\n",
              "    </tr>\n",
              "    <tr>\n",
              "      <th>4</th>\n",
              "      <td>35.0</td>\n",
              "      <td>female</td>\n",
              "      <td>C</td>\n",
              "      <td>S</td>\n",
              "      <td>1</td>\n",
              "      <td>53.1000</td>\n",
              "      <td>0</td>\n",
              "      <td>1</td>\n",
              "      <td>1</td>\n",
              "    </tr>\n",
              "    <tr>\n",
              "      <th>5</th>\n",
              "      <td>35.0</td>\n",
              "      <td>male</td>\n",
              "      <td>n</td>\n",
              "      <td>S</td>\n",
              "      <td>3</td>\n",
              "      <td>8.0500</td>\n",
              "      <td>0</td>\n",
              "      <td>0</td>\n",
              "      <td>0</td>\n",
              "    </tr>\n",
              "  </tbody>\n",
              "</table>\n",
              "</div>\n",
              "      <button class=\"colab-df-convert\" onclick=\"convertToInteractive('df-bd87cfc1-4429-43c1-bff5-1625d8c414b9')\"\n",
              "              title=\"Convert this dataframe to an interactive table.\"\n",
              "              style=\"display:none;\">\n",
              "        \n",
              "  <svg xmlns=\"http://www.w3.org/2000/svg\" height=\"24px\"viewBox=\"0 0 24 24\"\n",
              "       width=\"24px\">\n",
              "    <path d=\"M0 0h24v24H0V0z\" fill=\"none\"/>\n",
              "    <path d=\"M18.56 5.44l.94 2.06.94-2.06 2.06-.94-2.06-.94-.94-2.06-.94 2.06-2.06.94zm-11 1L8.5 8.5l.94-2.06 2.06-.94-2.06-.94L8.5 2.5l-.94 2.06-2.06.94zm10 10l.94 2.06.94-2.06 2.06-.94-2.06-.94-.94-2.06-.94 2.06-2.06.94z\"/><path d=\"M17.41 7.96l-1.37-1.37c-.4-.4-.92-.59-1.43-.59-.52 0-1.04.2-1.43.59L10.3 9.45l-7.72 7.72c-.78.78-.78 2.05 0 2.83L4 21.41c.39.39.9.59 1.41.59.51 0 1.02-.2 1.41-.59l7.78-7.78 2.81-2.81c.8-.78.8-2.07 0-2.86zM5.41 20L4 18.59l7.72-7.72 1.47 1.35L5.41 20z\"/>\n",
              "  </svg>\n",
              "      </button>\n",
              "      \n",
              "  <style>\n",
              "    .colab-df-container {\n",
              "      display:flex;\n",
              "      flex-wrap:wrap;\n",
              "      gap: 12px;\n",
              "    }\n",
              "\n",
              "    .colab-df-convert {\n",
              "      background-color: #E8F0FE;\n",
              "      border: none;\n",
              "      border-radius: 50%;\n",
              "      cursor: pointer;\n",
              "      display: none;\n",
              "      fill: #1967D2;\n",
              "      height: 32px;\n",
              "      padding: 0 0 0 0;\n",
              "      width: 32px;\n",
              "    }\n",
              "\n",
              "    .colab-df-convert:hover {\n",
              "      background-color: #E2EBFA;\n",
              "      box-shadow: 0px 1px 2px rgba(60, 64, 67, 0.3), 0px 1px 3px 1px rgba(60, 64, 67, 0.15);\n",
              "      fill: #174EA6;\n",
              "    }\n",
              "\n",
              "    [theme=dark] .colab-df-convert {\n",
              "      background-color: #3B4455;\n",
              "      fill: #D2E3FC;\n",
              "    }\n",
              "\n",
              "    [theme=dark] .colab-df-convert:hover {\n",
              "      background-color: #434B5C;\n",
              "      box-shadow: 0px 1px 3px 1px rgba(0, 0, 0, 0.15);\n",
              "      filter: drop-shadow(0px 1px 2px rgba(0, 0, 0, 0.3));\n",
              "      fill: #FFFFFF;\n",
              "    }\n",
              "  </style>\n",
              "\n",
              "      <script>\n",
              "        const buttonEl =\n",
              "          document.querySelector('#df-bd87cfc1-4429-43c1-bff5-1625d8c414b9 button.colab-df-convert');\n",
              "        buttonEl.style.display =\n",
              "          google.colab.kernel.accessAllowed ? 'block' : 'none';\n",
              "\n",
              "        async function convertToInteractive(key) {\n",
              "          const element = document.querySelector('#df-bd87cfc1-4429-43c1-bff5-1625d8c414b9');\n",
              "          const dataTable =\n",
              "            await google.colab.kernel.invokeFunction('convertToInteractive',\n",
              "                                                     [key], {});\n",
              "          if (!dataTable) return;\n",
              "\n",
              "          const docLinkHtml = 'Like what you see? Visit the ' +\n",
              "            '<a target=\"_blank\" href=https://colab.research.google.com/notebooks/data_table.ipynb>data table notebook</a>'\n",
              "            + ' to learn more about interactive tables.';\n",
              "          element.innerHTML = '';\n",
              "          dataTable['output_type'] = 'display_data';\n",
              "          await google.colab.output.renderOutput(dataTable, element);\n",
              "          const docLink = document.createElement('div');\n",
              "          docLink.innerHTML = docLinkHtml;\n",
              "          element.appendChild(docLink);\n",
              "        }\n",
              "      </script>\n",
              "    </div>\n",
              "  </div>\n",
              "  "
            ]
          },
          "metadata": {},
          "execution_count": 122
        }
      ]
    },
    {
      "cell_type": "code",
      "source": [
        "## split data\n",
        "dtf_train, dtf_test = model_selection.train_test_split(dtf, \n",
        "                      test_size=0.3)\n",
        "## print info\n",
        "print(\"X_train shape:\", dtf_train.drop(\"Y\",axis=1).shape, \"| X_test shape:\", dtf_test.drop(\"Y\",axis=1).shape)\n",
        "print(\"y_train mean:\", round(np.mean(dtf_train[\"Y\"]),2), \"| y_test mean:\", round(np.mean(dtf_test[\"Y\"]),2))\n",
        "print(dtf_train.shape[1], \"features:\", dtf_train.drop(\"Y\",axis=1).columns.to_list())\n"
      ],
      "metadata": {
        "colab": {
          "base_uri": "https://localhost:8080/"
        },
        "id": "HlnaqwBmipGe",
        "outputId": "9cd28ef4-50a3-4b88-ce13-5c3d82850fc8"
      },
      "execution_count": null,
      "outputs": [
        {
          "output_type": "stream",
          "name": "stdout",
          "text": [
            "X_train shape: (623, 8) | X_test shape: (268, 8)\n",
            "y_train mean: 0.38 | y_test mean: 0.38\n",
            "9 features: ['Age', 'Sex', 'Cabin_section', 'Embarked', 'Pclass', 'Fare', 'Parch', 'SibSp']\n"
          ]
        }
      ]
    },
    {
      "cell_type": "markdown",
      "source": [
        "Kolumna Age zawiera brakujące dane i trzeba coś z tym zrobić. Użyjemy średniej kolumnu "
      ],
      "metadata": {
        "id": "Sv_x53D_tGPY"
      }
    },
    {
      "cell_type": "code",
      "source": [
        "dtf_train[\"Age\"] = dtf_train[\"Age\"].fillna(dtf_train[\"Age\"].mean())\n",
        "dtf_test[\"Age\"] = dtf_test[\"Age\"].fillna(dtf_test[\"Age\"].mean())"
      ],
      "metadata": {
        "id": "9RsMI66Cky-f"
      },
      "execution_count": null,
      "outputs": []
    },
    {
      "cell_type": "code",
      "source": [
        "dtf_train[\"Embarked\"] = dtf_train[\"Embarked\"].fillna(dtf_train[\"Embarked\"].mode())"
      ],
      "metadata": {
        "id": "Hion-Y69t0n1"
      },
      "execution_count": null,
      "outputs": []
    },
    {
      "cell_type": "markdown",
      "source": [
        "Teraz musimy przkodować zmienne dyskretne. "
      ],
      "metadata": {
        "id": "3FWHk2yttVWR"
      }
    },
    {
      "cell_type": "code",
      "source": [
        "dtf_test[\"Embarked\"] = dtf_test[\"Embarked\"].fillna(dtf_test[\"Embarked\"].mode())"
      ],
      "metadata": {
        "id": "VPTqTnpMMAS1"
      },
      "execution_count": null,
      "outputs": []
    },
    {
      "cell_type": "code",
      "source": [
        "## create dummy\n",
        "dummy = pd.get_dummies(dtf_train[\"Sex\"], \n",
        "                       prefix=\"Sex\",drop_first=True)\n",
        "dtf_train= pd.concat([dtf_train, dummy], axis=1)\n",
        "print( dtf_train.filter(like=\"Sex\", axis=1).head() )\n",
        "## drop the original categorical column\n",
        "dtf_train = dtf_train.drop(\"Sex\", axis=1)\n",
        "\n",
        "\n"
      ],
      "metadata": {
        "colab": {
          "base_uri": "https://localhost:8080/"
        },
        "id": "scw8JeJ4lPjL",
        "outputId": "6d0bc78d-8af1-4455-90ec-5f31b9b1ab00"
      },
      "execution_count": null,
      "outputs": [
        {
          "output_type": "stream",
          "name": "stdout",
          "text": [
            "                Sex  Sex_male\n",
            "PassengerId                  \n",
            "390          female         0\n",
            "491            male         1\n",
            "233            male         1\n",
            "783            male         1\n",
            "831          female         0\n"
          ]
        }
      ]
    },
    {
      "cell_type": "code",
      "source": [
        "## create dummy\n",
        "dummy = pd.get_dummies(dtf_test[\"Sex\"], \n",
        "                       prefix=\"Sex\",drop_first=True)\n",
        "dtf_test= pd.concat([dtf_test, dummy], axis=1)\n",
        "print( dtf_test.filter(like=\"Sex\", axis=1).head() )\n",
        "## drop the original categorical column\n",
        "dtf_test = dtf_test.drop(\"Sex\", axis=1)"
      ],
      "metadata": {
        "colab": {
          "base_uri": "https://localhost:8080/"
        },
        "id": "sNoEBcYzMTAS",
        "outputId": "74a50670-d854-4f89-c989-ed9d71f36139"
      },
      "execution_count": null,
      "outputs": [
        {
          "output_type": "stream",
          "name": "stdout",
          "text": [
            "                Sex  Sex_male\n",
            "PassengerId                  \n",
            "766          female         0\n",
            "860            male         1\n",
            "669            male         1\n",
            "557          female         0\n",
            "870            male         1\n"
          ]
        }
      ]
    },
    {
      "cell_type": "code",
      "source": [
        "## create dummy\n",
        "dummy = pd.get_dummies(dtf_train[\"Embarked\"], \n",
        "                       prefix=\"Embarked\",drop_first=True)\n",
        "dtf_train= pd.concat([dtf_train, dummy], axis=1)\n",
        "print( dtf_train.filter(like=\"Embarked\", axis=1).head() )\n",
        "## drop the original categorical column\n",
        "dtf_train = dtf_train.drop(\"Embarked\", axis=1)"
      ],
      "metadata": {
        "colab": {
          "base_uri": "https://localhost:8080/"
        },
        "id": "l2xYiOqRuMt7",
        "outputId": "e852b218-a6d0-4ce2-9108-e8fd538a9f6d"
      },
      "execution_count": null,
      "outputs": [
        {
          "output_type": "stream",
          "name": "stdout",
          "text": [
            "            Embarked  Embarked_Q  Embarked_S\n",
            "PassengerId                                 \n",
            "390                C           0           0\n",
            "491                S           0           1\n",
            "233                S           0           1\n",
            "783                S           0           1\n",
            "831                C           0           0\n"
          ]
        }
      ]
    },
    {
      "cell_type": "code",
      "source": [
        "## create dummy\n",
        "dummy = pd.get_dummies(dtf_test[\"Embarked\"], \n",
        "                       prefix=\"Embarked\",drop_first=True)\n",
        "dtf_test= pd.concat([dtf_test, dummy], axis=1)\n",
        "print( dtf_test.filter(like=\"Embarked\", axis=1).head() )\n",
        "## drop the original categorical column\n",
        "dtf_test = dtf_test.drop(\"Embarked\", axis=1)"
      ],
      "metadata": {
        "colab": {
          "base_uri": "https://localhost:8080/"
        },
        "id": "FNBOGnDGMUrz",
        "outputId": "7e653710-09cb-4b63-fe8d-be7e991cc588"
      },
      "execution_count": null,
      "outputs": [
        {
          "output_type": "stream",
          "name": "stdout",
          "text": [
            "            Embarked  Embarked_Q  Embarked_S\n",
            "PassengerId                                 \n",
            "766                S           0           1\n",
            "860                C           0           0\n",
            "669                S           0           1\n",
            "557                C           0           0\n",
            "870                S           0           1\n"
          ]
        }
      ]
    },
    {
      "cell_type": "code",
      "source": [
        "## create dummy\n",
        "dummy = pd.get_dummies(dtf_test[\"Pclass\"], \n",
        "                       prefix=\"Pclass\",drop_first=True)\n",
        "dtf_test= pd.concat([dtf_test, dummy], axis=1)\n",
        "print( dtf_test.filter(like=\"Pclass\", axis=1).head() )\n",
        "## drop the original categorical column\n",
        "dtf_test = dtf_test.drop(\"Pclass\", axis=1)"
      ],
      "metadata": {
        "colab": {
          "base_uri": "https://localhost:8080/",
          "height": 502
        },
        "id": "FGTq5rvzuh0a",
        "outputId": "ac158e70-9b1f-4a6e-86e5-31ce8d1f9389"
      },
      "execution_count": null,
      "outputs": [
        {
          "output_type": "error",
          "ename": "KeyError",
          "evalue": "ignored",
          "traceback": [
            "\u001b[0;31m---------------------------------------------------------------------------\u001b[0m",
            "\u001b[0;31mKeyError\u001b[0m                                  Traceback (most recent call last)",
            "\u001b[0;32m/usr/local/lib/python3.7/dist-packages/pandas/core/indexes/base.py\u001b[0m in \u001b[0;36mget_loc\u001b[0;34m(self, key, method, tolerance)\u001b[0m\n\u001b[1;32m   3360\u001b[0m             \u001b[0;32mtry\u001b[0m\u001b[0;34m:\u001b[0m\u001b[0;34m\u001b[0m\u001b[0;34m\u001b[0m\u001b[0m\n\u001b[0;32m-> 3361\u001b[0;31m                 \u001b[0;32mreturn\u001b[0m \u001b[0mself\u001b[0m\u001b[0;34m.\u001b[0m\u001b[0m_engine\u001b[0m\u001b[0;34m.\u001b[0m\u001b[0mget_loc\u001b[0m\u001b[0;34m(\u001b[0m\u001b[0mcasted_key\u001b[0m\u001b[0;34m)\u001b[0m\u001b[0;34m\u001b[0m\u001b[0;34m\u001b[0m\u001b[0m\n\u001b[0m\u001b[1;32m   3362\u001b[0m             \u001b[0;32mexcept\u001b[0m \u001b[0mKeyError\u001b[0m \u001b[0;32mas\u001b[0m \u001b[0merr\u001b[0m\u001b[0;34m:\u001b[0m\u001b[0;34m\u001b[0m\u001b[0;34m\u001b[0m\u001b[0m\n",
            "\u001b[0;32m/usr/local/lib/python3.7/dist-packages/pandas/_libs/index.pyx\u001b[0m in \u001b[0;36mpandas._libs.index.IndexEngine.get_loc\u001b[0;34m()\u001b[0m\n",
            "\u001b[0;32m/usr/local/lib/python3.7/dist-packages/pandas/_libs/index.pyx\u001b[0m in \u001b[0;36mpandas._libs.index.IndexEngine.get_loc\u001b[0;34m()\u001b[0m\n",
            "\u001b[0;32mpandas/_libs/hashtable_class_helper.pxi\u001b[0m in \u001b[0;36mpandas._libs.hashtable.PyObjectHashTable.get_item\u001b[0;34m()\u001b[0m\n",
            "\u001b[0;32mpandas/_libs/hashtable_class_helper.pxi\u001b[0m in \u001b[0;36mpandas._libs.hashtable.PyObjectHashTable.get_item\u001b[0;34m()\u001b[0m\n",
            "\u001b[0;31mKeyError\u001b[0m: 'Pclass'",
            "\nThe above exception was the direct cause of the following exception:\n",
            "\u001b[0;31mKeyError\u001b[0m                                  Traceback (most recent call last)",
            "\u001b[0;32m<ipython-input-132-5c801883b19d>\u001b[0m in \u001b[0;36m<module>\u001b[0;34m()\u001b[0m\n\u001b[1;32m      1\u001b[0m \u001b[0;31m## create dummy\u001b[0m\u001b[0;34m\u001b[0m\u001b[0;34m\u001b[0m\u001b[0;34m\u001b[0m\u001b[0m\n\u001b[0;32m----> 2\u001b[0;31m dummy = pd.get_dummies(dtf_test[\"Pclass\"], \n\u001b[0m\u001b[1;32m      3\u001b[0m                        prefix=\"Pclass\",drop_first=True)\n\u001b[1;32m      4\u001b[0m \u001b[0mdtf_test\u001b[0m\u001b[0;34m=\u001b[0m \u001b[0mpd\u001b[0m\u001b[0;34m.\u001b[0m\u001b[0mconcat\u001b[0m\u001b[0;34m(\u001b[0m\u001b[0;34m[\u001b[0m\u001b[0mdtf_test\u001b[0m\u001b[0;34m,\u001b[0m \u001b[0mdummy\u001b[0m\u001b[0;34m]\u001b[0m\u001b[0;34m,\u001b[0m \u001b[0maxis\u001b[0m\u001b[0;34m=\u001b[0m\u001b[0;36m1\u001b[0m\u001b[0;34m)\u001b[0m\u001b[0;34m\u001b[0m\u001b[0;34m\u001b[0m\u001b[0m\n\u001b[1;32m      5\u001b[0m \u001b[0mprint\u001b[0m\u001b[0;34m(\u001b[0m \u001b[0mdtf_test\u001b[0m\u001b[0;34m.\u001b[0m\u001b[0mfilter\u001b[0m\u001b[0;34m(\u001b[0m\u001b[0mlike\u001b[0m\u001b[0;34m=\u001b[0m\u001b[0;34m\"Pclass\"\u001b[0m\u001b[0;34m,\u001b[0m \u001b[0maxis\u001b[0m\u001b[0;34m=\u001b[0m\u001b[0;36m1\u001b[0m\u001b[0;34m)\u001b[0m\u001b[0;34m.\u001b[0m\u001b[0mhead\u001b[0m\u001b[0;34m(\u001b[0m\u001b[0;34m)\u001b[0m \u001b[0;34m)\u001b[0m\u001b[0;34m\u001b[0m\u001b[0;34m\u001b[0m\u001b[0m\n",
            "\u001b[0;32m/usr/local/lib/python3.7/dist-packages/pandas/core/frame.py\u001b[0m in \u001b[0;36m__getitem__\u001b[0;34m(self, key)\u001b[0m\n\u001b[1;32m   3456\u001b[0m             \u001b[0;32mif\u001b[0m \u001b[0mself\u001b[0m\u001b[0;34m.\u001b[0m\u001b[0mcolumns\u001b[0m\u001b[0;34m.\u001b[0m\u001b[0mnlevels\u001b[0m \u001b[0;34m>\u001b[0m \u001b[0;36m1\u001b[0m\u001b[0;34m:\u001b[0m\u001b[0;34m\u001b[0m\u001b[0;34m\u001b[0m\u001b[0m\n\u001b[1;32m   3457\u001b[0m                 \u001b[0;32mreturn\u001b[0m \u001b[0mself\u001b[0m\u001b[0;34m.\u001b[0m\u001b[0m_getitem_multilevel\u001b[0m\u001b[0;34m(\u001b[0m\u001b[0mkey\u001b[0m\u001b[0;34m)\u001b[0m\u001b[0;34m\u001b[0m\u001b[0;34m\u001b[0m\u001b[0m\n\u001b[0;32m-> 3458\u001b[0;31m             \u001b[0mindexer\u001b[0m \u001b[0;34m=\u001b[0m \u001b[0mself\u001b[0m\u001b[0;34m.\u001b[0m\u001b[0mcolumns\u001b[0m\u001b[0;34m.\u001b[0m\u001b[0mget_loc\u001b[0m\u001b[0;34m(\u001b[0m\u001b[0mkey\u001b[0m\u001b[0;34m)\u001b[0m\u001b[0;34m\u001b[0m\u001b[0;34m\u001b[0m\u001b[0m\n\u001b[0m\u001b[1;32m   3459\u001b[0m             \u001b[0;32mif\u001b[0m \u001b[0mis_integer\u001b[0m\u001b[0;34m(\u001b[0m\u001b[0mindexer\u001b[0m\u001b[0;34m)\u001b[0m\u001b[0;34m:\u001b[0m\u001b[0;34m\u001b[0m\u001b[0;34m\u001b[0m\u001b[0m\n\u001b[1;32m   3460\u001b[0m                 \u001b[0mindexer\u001b[0m \u001b[0;34m=\u001b[0m \u001b[0;34m[\u001b[0m\u001b[0mindexer\u001b[0m\u001b[0;34m]\u001b[0m\u001b[0;34m\u001b[0m\u001b[0;34m\u001b[0m\u001b[0m\n",
            "\u001b[0;32m/usr/local/lib/python3.7/dist-packages/pandas/core/indexes/base.py\u001b[0m in \u001b[0;36mget_loc\u001b[0;34m(self, key, method, tolerance)\u001b[0m\n\u001b[1;32m   3361\u001b[0m                 \u001b[0;32mreturn\u001b[0m \u001b[0mself\u001b[0m\u001b[0;34m.\u001b[0m\u001b[0m_engine\u001b[0m\u001b[0;34m.\u001b[0m\u001b[0mget_loc\u001b[0m\u001b[0;34m(\u001b[0m\u001b[0mcasted_key\u001b[0m\u001b[0;34m)\u001b[0m\u001b[0;34m\u001b[0m\u001b[0;34m\u001b[0m\u001b[0m\n\u001b[1;32m   3362\u001b[0m             \u001b[0;32mexcept\u001b[0m \u001b[0mKeyError\u001b[0m \u001b[0;32mas\u001b[0m \u001b[0merr\u001b[0m\u001b[0;34m:\u001b[0m\u001b[0;34m\u001b[0m\u001b[0;34m\u001b[0m\u001b[0m\n\u001b[0;32m-> 3363\u001b[0;31m                 \u001b[0;32mraise\u001b[0m \u001b[0mKeyError\u001b[0m\u001b[0;34m(\u001b[0m\u001b[0mkey\u001b[0m\u001b[0;34m)\u001b[0m \u001b[0;32mfrom\u001b[0m \u001b[0merr\u001b[0m\u001b[0;34m\u001b[0m\u001b[0;34m\u001b[0m\u001b[0m\n\u001b[0m\u001b[1;32m   3364\u001b[0m \u001b[0;34m\u001b[0m\u001b[0m\n\u001b[1;32m   3365\u001b[0m         \u001b[0;32mif\u001b[0m \u001b[0mis_scalar\u001b[0m\u001b[0;34m(\u001b[0m\u001b[0mkey\u001b[0m\u001b[0;34m)\u001b[0m \u001b[0;32mand\u001b[0m \u001b[0misna\u001b[0m\u001b[0;34m(\u001b[0m\u001b[0mkey\u001b[0m\u001b[0;34m)\u001b[0m \u001b[0;32mand\u001b[0m \u001b[0;32mnot\u001b[0m \u001b[0mself\u001b[0m\u001b[0;34m.\u001b[0m\u001b[0mhasnans\u001b[0m\u001b[0;34m:\u001b[0m\u001b[0;34m\u001b[0m\u001b[0;34m\u001b[0m\u001b[0m\n",
            "\u001b[0;31mKeyError\u001b[0m: 'Pclass'"
          ]
        }
      ]
    },
    {
      "cell_type": "code",
      "source": [
        "dummy = pd.get_dummies(dtf_train[\"Pclass\"], \n",
        "                       prefix=\"Pclass\",drop_first=True)\n",
        "dtf_train= pd.concat([dtf_train, dummy], axis=1)\n",
        "print( dtf_train.filter(like=\"Pclass\", axis=1).head() )\n",
        "## drop the original categorical column\n",
        "dtf_train = dtf_train.drop(\"Pclass\", axis=1)"
      ],
      "metadata": {
        "colab": {
          "base_uri": "https://localhost:8080/"
        },
        "id": "cEi2ZJ_VPkgV",
        "outputId": "f76329e2-1a7f-485f-d03e-4578df9fa5d3"
      },
      "execution_count": null,
      "outputs": [
        {
          "output_type": "stream",
          "name": "stdout",
          "text": [
            "             Pclass  Pclass_2  Pclass_3\n",
            "PassengerId                            \n",
            "390               2         1         0\n",
            "491               3         0         1\n",
            "233               2         1         0\n",
            "783               1         0         0\n",
            "831               3         0         1\n"
          ]
        }
      ]
    },
    {
      "cell_type": "code",
      "source": [
        "## create dummy\n",
        "dummy = pd.get_dummies(dtf_train[\"Cabin_section\"], \n",
        "                       prefix=\"Cabin_section\",drop_first=True)\n",
        "dtf_train= pd.concat([dtf_train, dummy], axis=1)\n",
        "print( dtf_train.filter(like=\"Cabin_section\", axis=1).head() )\n",
        "## drop the original categorical column\n",
        "dtf_train = dtf_train.drop(\"Cabin_section\", axis=1)"
      ],
      "metadata": {
        "colab": {
          "base_uri": "https://localhost:8080/"
        },
        "id": "tvzW16AEurHO",
        "outputId": "b5f17687-be80-489b-9e2d-0549fcc79e89"
      },
      "execution_count": null,
      "outputs": [
        {
          "output_type": "stream",
          "name": "stdout",
          "text": [
            "            Cabin_section  Cabin_section_B  Cabin_section_C  Cabin_section_D  \\\n",
            "PassengerId                                                                    \n",
            "390                     n                0                0                0   \n",
            "491                     n                0                0                0   \n",
            "233                     n                0                0                0   \n",
            "783                     D                0                0                1   \n",
            "831                     n                0                0                0   \n",
            "\n",
            "             Cabin_section_E  Cabin_section_F  Cabin_section_G  \\\n",
            "PassengerId                                                      \n",
            "390                        0                0                0   \n",
            "491                        0                0                0   \n",
            "233                        0                0                0   \n",
            "783                        0                0                0   \n",
            "831                        0                0                0   \n",
            "\n",
            "             Cabin_section_T  Cabin_section_n  \n",
            "PassengerId                                    \n",
            "390                        0                1  \n",
            "491                        0                1  \n",
            "233                        0                1  \n",
            "783                        0                0  \n",
            "831                        0                1  \n"
          ]
        }
      ]
    },
    {
      "cell_type": "code",
      "source": [
        "## create dummy\n",
        "dummy = pd.get_dummies(dtf_test[\"Cabin_section\"], \n",
        "                       prefix=\"Cabin_section\",drop_first=True)\n",
        "dtf_test= pd.concat([dtf_test, dummy], axis=1)\n",
        "print( dtf_test.filter(like=\"Cabin_section\", axis=1).head() )\n",
        "## drop the original categorical column\n",
        "dtf_test = dtf_test.drop(\"Cabin_section\", axis=1)"
      ],
      "metadata": {
        "colab": {
          "base_uri": "https://localhost:8080/"
        },
        "id": "jBqiLxvmMiO7",
        "outputId": "ecbdaa01-8777-4e4b-d9df-8c06c1f2b586"
      },
      "execution_count": null,
      "outputs": [
        {
          "output_type": "stream",
          "name": "stdout",
          "text": [
            "            Cabin_section  Cabin_section_B  Cabin_section_C  Cabin_section_D  \\\n",
            "PassengerId                                                                    \n",
            "766                     D                0                0                1   \n",
            "860                     n                0                0                0   \n",
            "669                     n                0                0                0   \n",
            "557                     A                0                0                0   \n",
            "870                     n                0                0                0   \n",
            "\n",
            "             Cabin_section_E  Cabin_section_F  Cabin_section_G  \\\n",
            "PassengerId                                                      \n",
            "766                        0                0                0   \n",
            "860                        0                0                0   \n",
            "669                        0                0                0   \n",
            "557                        0                0                0   \n",
            "870                        0                0                0   \n",
            "\n",
            "             Cabin_section_n  \n",
            "PassengerId                   \n",
            "766                        0  \n",
            "860                        1  \n",
            "669                        1  \n",
            "557                        0  \n",
            "870                        1  \n"
          ]
        }
      ]
    },
    {
      "cell_type": "code",
      "source": [
        "\n",
        "dtf_train.head()"
      ],
      "metadata": {
        "colab": {
          "base_uri": "https://localhost:8080/",
          "height": 301
        },
        "id": "6jvSURTZuyRu",
        "outputId": "1268d925-4c11-4c2e-97c2-36da2d2b010a"
      },
      "execution_count": null,
      "outputs": [
        {
          "output_type": "execute_result",
          "data": {
            "text/plain": [
              "                   Age     Fare  Parch  SibSp  Y  Sex_male  Embarked_Q  \\\n",
              "PassengerId                                                              \n",
              "390          17.000000  12.0000      0      0  1         0           0   \n",
              "491          30.411034  19.9667      0      1  0         1           0   \n",
              "233          59.000000  13.5000      0      0  0         1           0   \n",
              "783          29.000000  30.0000      0      0  0         1           0   \n",
              "831          15.000000  14.4542      0      1  1         0           0   \n",
              "\n",
              "             Embarked_S  Pclass_2  Pclass_3  Cabin_section_B  Cabin_section_C  \\\n",
              "PassengerId                                                                     \n",
              "390                   0         1         0                0                0   \n",
              "491                   1         0         1                0                0   \n",
              "233                   1         1         0                0                0   \n",
              "783                   1         0         0                0                0   \n",
              "831                   0         0         1                0                0   \n",
              "\n",
              "             Cabin_section_D  Cabin_section_E  Cabin_section_F  \\\n",
              "PassengerId                                                      \n",
              "390                        0                0                0   \n",
              "491                        0                0                0   \n",
              "233                        0                0                0   \n",
              "783                        1                0                0   \n",
              "831                        0                0                0   \n",
              "\n",
              "             Cabin_section_G  Cabin_section_T  Cabin_section_n  \n",
              "PassengerId                                                     \n",
              "390                        0                0                1  \n",
              "491                        0                0                1  \n",
              "233                        0                0                1  \n",
              "783                        0                0                0  \n",
              "831                        0                0                1  "
            ],
            "text/html": [
              "\n",
              "  <div id=\"df-08c33004-ed43-4611-b3e0-125cb892ecfb\">\n",
              "    <div class=\"colab-df-container\">\n",
              "      <div>\n",
              "<style scoped>\n",
              "    .dataframe tbody tr th:only-of-type {\n",
              "        vertical-align: middle;\n",
              "    }\n",
              "\n",
              "    .dataframe tbody tr th {\n",
              "        vertical-align: top;\n",
              "    }\n",
              "\n",
              "    .dataframe thead th {\n",
              "        text-align: right;\n",
              "    }\n",
              "</style>\n",
              "<table border=\"1\" class=\"dataframe\">\n",
              "  <thead>\n",
              "    <tr style=\"text-align: right;\">\n",
              "      <th></th>\n",
              "      <th>Age</th>\n",
              "      <th>Fare</th>\n",
              "      <th>Parch</th>\n",
              "      <th>SibSp</th>\n",
              "      <th>Y</th>\n",
              "      <th>Sex_male</th>\n",
              "      <th>Embarked_Q</th>\n",
              "      <th>Embarked_S</th>\n",
              "      <th>Pclass_2</th>\n",
              "      <th>Pclass_3</th>\n",
              "      <th>Cabin_section_B</th>\n",
              "      <th>Cabin_section_C</th>\n",
              "      <th>Cabin_section_D</th>\n",
              "      <th>Cabin_section_E</th>\n",
              "      <th>Cabin_section_F</th>\n",
              "      <th>Cabin_section_G</th>\n",
              "      <th>Cabin_section_T</th>\n",
              "      <th>Cabin_section_n</th>\n",
              "    </tr>\n",
              "    <tr>\n",
              "      <th>PassengerId</th>\n",
              "      <th></th>\n",
              "      <th></th>\n",
              "      <th></th>\n",
              "      <th></th>\n",
              "      <th></th>\n",
              "      <th></th>\n",
              "      <th></th>\n",
              "      <th></th>\n",
              "      <th></th>\n",
              "      <th></th>\n",
              "      <th></th>\n",
              "      <th></th>\n",
              "      <th></th>\n",
              "      <th></th>\n",
              "      <th></th>\n",
              "      <th></th>\n",
              "      <th></th>\n",
              "      <th></th>\n",
              "    </tr>\n",
              "  </thead>\n",
              "  <tbody>\n",
              "    <tr>\n",
              "      <th>390</th>\n",
              "      <td>17.000000</td>\n",
              "      <td>12.0000</td>\n",
              "      <td>0</td>\n",
              "      <td>0</td>\n",
              "      <td>1</td>\n",
              "      <td>0</td>\n",
              "      <td>0</td>\n",
              "      <td>0</td>\n",
              "      <td>1</td>\n",
              "      <td>0</td>\n",
              "      <td>0</td>\n",
              "      <td>0</td>\n",
              "      <td>0</td>\n",
              "      <td>0</td>\n",
              "      <td>0</td>\n",
              "      <td>0</td>\n",
              "      <td>0</td>\n",
              "      <td>1</td>\n",
              "    </tr>\n",
              "    <tr>\n",
              "      <th>491</th>\n",
              "      <td>30.411034</td>\n",
              "      <td>19.9667</td>\n",
              "      <td>0</td>\n",
              "      <td>1</td>\n",
              "      <td>0</td>\n",
              "      <td>1</td>\n",
              "      <td>0</td>\n",
              "      <td>1</td>\n",
              "      <td>0</td>\n",
              "      <td>1</td>\n",
              "      <td>0</td>\n",
              "      <td>0</td>\n",
              "      <td>0</td>\n",
              "      <td>0</td>\n",
              "      <td>0</td>\n",
              "      <td>0</td>\n",
              "      <td>0</td>\n",
              "      <td>1</td>\n",
              "    </tr>\n",
              "    <tr>\n",
              "      <th>233</th>\n",
              "      <td>59.000000</td>\n",
              "      <td>13.5000</td>\n",
              "      <td>0</td>\n",
              "      <td>0</td>\n",
              "      <td>0</td>\n",
              "      <td>1</td>\n",
              "      <td>0</td>\n",
              "      <td>1</td>\n",
              "      <td>1</td>\n",
              "      <td>0</td>\n",
              "      <td>0</td>\n",
              "      <td>0</td>\n",
              "      <td>0</td>\n",
              "      <td>0</td>\n",
              "      <td>0</td>\n",
              "      <td>0</td>\n",
              "      <td>0</td>\n",
              "      <td>1</td>\n",
              "    </tr>\n",
              "    <tr>\n",
              "      <th>783</th>\n",
              "      <td>29.000000</td>\n",
              "      <td>30.0000</td>\n",
              "      <td>0</td>\n",
              "      <td>0</td>\n",
              "      <td>0</td>\n",
              "      <td>1</td>\n",
              "      <td>0</td>\n",
              "      <td>1</td>\n",
              "      <td>0</td>\n",
              "      <td>0</td>\n",
              "      <td>0</td>\n",
              "      <td>0</td>\n",
              "      <td>1</td>\n",
              "      <td>0</td>\n",
              "      <td>0</td>\n",
              "      <td>0</td>\n",
              "      <td>0</td>\n",
              "      <td>0</td>\n",
              "    </tr>\n",
              "    <tr>\n",
              "      <th>831</th>\n",
              "      <td>15.000000</td>\n",
              "      <td>14.4542</td>\n",
              "      <td>0</td>\n",
              "      <td>1</td>\n",
              "      <td>1</td>\n",
              "      <td>0</td>\n",
              "      <td>0</td>\n",
              "      <td>0</td>\n",
              "      <td>0</td>\n",
              "      <td>1</td>\n",
              "      <td>0</td>\n",
              "      <td>0</td>\n",
              "      <td>0</td>\n",
              "      <td>0</td>\n",
              "      <td>0</td>\n",
              "      <td>0</td>\n",
              "      <td>0</td>\n",
              "      <td>1</td>\n",
              "    </tr>\n",
              "  </tbody>\n",
              "</table>\n",
              "</div>\n",
              "      <button class=\"colab-df-convert\" onclick=\"convertToInteractive('df-08c33004-ed43-4611-b3e0-125cb892ecfb')\"\n",
              "              title=\"Convert this dataframe to an interactive table.\"\n",
              "              style=\"display:none;\">\n",
              "        \n",
              "  <svg xmlns=\"http://www.w3.org/2000/svg\" height=\"24px\"viewBox=\"0 0 24 24\"\n",
              "       width=\"24px\">\n",
              "    <path d=\"M0 0h24v24H0V0z\" fill=\"none\"/>\n",
              "    <path d=\"M18.56 5.44l.94 2.06.94-2.06 2.06-.94-2.06-.94-.94-2.06-.94 2.06-2.06.94zm-11 1L8.5 8.5l.94-2.06 2.06-.94-2.06-.94L8.5 2.5l-.94 2.06-2.06.94zm10 10l.94 2.06.94-2.06 2.06-.94-2.06-.94-.94-2.06-.94 2.06-2.06.94z\"/><path d=\"M17.41 7.96l-1.37-1.37c-.4-.4-.92-.59-1.43-.59-.52 0-1.04.2-1.43.59L10.3 9.45l-7.72 7.72c-.78.78-.78 2.05 0 2.83L4 21.41c.39.39.9.59 1.41.59.51 0 1.02-.2 1.41-.59l7.78-7.78 2.81-2.81c.8-.78.8-2.07 0-2.86zM5.41 20L4 18.59l7.72-7.72 1.47 1.35L5.41 20z\"/>\n",
              "  </svg>\n",
              "      </button>\n",
              "      \n",
              "  <style>\n",
              "    .colab-df-container {\n",
              "      display:flex;\n",
              "      flex-wrap:wrap;\n",
              "      gap: 12px;\n",
              "    }\n",
              "\n",
              "    .colab-df-convert {\n",
              "      background-color: #E8F0FE;\n",
              "      border: none;\n",
              "      border-radius: 50%;\n",
              "      cursor: pointer;\n",
              "      display: none;\n",
              "      fill: #1967D2;\n",
              "      height: 32px;\n",
              "      padding: 0 0 0 0;\n",
              "      width: 32px;\n",
              "    }\n",
              "\n",
              "    .colab-df-convert:hover {\n",
              "      background-color: #E2EBFA;\n",
              "      box-shadow: 0px 1px 2px rgba(60, 64, 67, 0.3), 0px 1px 3px 1px rgba(60, 64, 67, 0.15);\n",
              "      fill: #174EA6;\n",
              "    }\n",
              "\n",
              "    [theme=dark] .colab-df-convert {\n",
              "      background-color: #3B4455;\n",
              "      fill: #D2E3FC;\n",
              "    }\n",
              "\n",
              "    [theme=dark] .colab-df-convert:hover {\n",
              "      background-color: #434B5C;\n",
              "      box-shadow: 0px 1px 3px 1px rgba(0, 0, 0, 0.15);\n",
              "      filter: drop-shadow(0px 1px 2px rgba(0, 0, 0, 0.3));\n",
              "      fill: #FFFFFF;\n",
              "    }\n",
              "  </style>\n",
              "\n",
              "      <script>\n",
              "        const buttonEl =\n",
              "          document.querySelector('#df-08c33004-ed43-4611-b3e0-125cb892ecfb button.colab-df-convert');\n",
              "        buttonEl.style.display =\n",
              "          google.colab.kernel.accessAllowed ? 'block' : 'none';\n",
              "\n",
              "        async function convertToInteractive(key) {\n",
              "          const element = document.querySelector('#df-08c33004-ed43-4611-b3e0-125cb892ecfb');\n",
              "          const dataTable =\n",
              "            await google.colab.kernel.invokeFunction('convertToInteractive',\n",
              "                                                     [key], {});\n",
              "          if (!dataTable) return;\n",
              "\n",
              "          const docLinkHtml = 'Like what you see? Visit the ' +\n",
              "            '<a target=\"_blank\" href=https://colab.research.google.com/notebooks/data_table.ipynb>data table notebook</a>'\n",
              "            + ' to learn more about interactive tables.';\n",
              "          element.innerHTML = '';\n",
              "          dataTable['output_type'] = 'display_data';\n",
              "          await google.colab.output.renderOutput(dataTable, element);\n",
              "          const docLink = document.createElement('div');\n",
              "          docLink.innerHTML = docLinkHtml;\n",
              "          element.appendChild(docLink);\n",
              "        }\n",
              "      </script>\n",
              "    </div>\n",
              "  </div>\n",
              "  "
            ]
          },
          "metadata": {},
          "execution_count": 136
        }
      ]
    },
    {
      "cell_type": "markdown",
      "source": [
        "Scaling the features "
      ],
      "metadata": {
        "id": "B4ocnhiUvEiS"
      }
    },
    {
      "cell_type": "code",
      "source": [
        "scaler = preprocessing.MinMaxScaler(feature_range=(0,1))\n",
        "X = scaler.fit_transform(dtf_train.drop(\"Y\", axis=1))\n",
        "dtf_scaled= pd.DataFrame(X, columns=dtf_train.drop(\"Y\", axis=1).columns, index=dtf_train.index)\n",
        "dtf_scaled[\"Y\"] = dtf_train[\"Y\"]\n",
        "dtf_scaled.head()"
      ],
      "metadata": {
        "colab": {
          "base_uri": "https://localhost:8080/",
          "height": 301
        },
        "id": "rZ8KwdnKu_RU",
        "outputId": "a00c93b6-db8c-4121-f393-00e753ca0e6a"
      },
      "execution_count": null,
      "outputs": [
        {
          "output_type": "execute_result",
          "data": {
            "text/plain": [
              "                  Age      Fare  Parch  SibSp  Sex_male  Embarked_Q  \\\n",
              "PassengerId                                                           \n",
              "390          0.208344  0.023422    0.0  0.000       0.0         0.0   \n",
              "491          0.376866  0.038972    0.0  0.125       1.0         0.0   \n",
              "233          0.736115  0.026350    0.0  0.000       1.0         0.0   \n",
              "783          0.359135  0.058556    0.0  0.000       1.0         0.0   \n",
              "831          0.183212  0.028213    0.0  0.125       0.0         0.0   \n",
              "\n",
              "             Embarked_S  Pclass_2  Pclass_3  Cabin_section_B  Cabin_section_C  \\\n",
              "PassengerId                                                                     \n",
              "390                 0.0       1.0       0.0              0.0              0.0   \n",
              "491                 1.0       0.0       1.0              0.0              0.0   \n",
              "233                 1.0       1.0       0.0              0.0              0.0   \n",
              "783                 1.0       0.0       0.0              0.0              0.0   \n",
              "831                 0.0       0.0       1.0              0.0              0.0   \n",
              "\n",
              "             Cabin_section_D  Cabin_section_E  Cabin_section_F  \\\n",
              "PassengerId                                                      \n",
              "390                      0.0              0.0              0.0   \n",
              "491                      0.0              0.0              0.0   \n",
              "233                      0.0              0.0              0.0   \n",
              "783                      1.0              0.0              0.0   \n",
              "831                      0.0              0.0              0.0   \n",
              "\n",
              "             Cabin_section_G  Cabin_section_T  Cabin_section_n  Y  \n",
              "PassengerId                                                        \n",
              "390                      0.0              0.0              1.0  1  \n",
              "491                      0.0              0.0              1.0  0  \n",
              "233                      0.0              0.0              1.0  0  \n",
              "783                      0.0              0.0              0.0  0  \n",
              "831                      0.0              0.0              1.0  1  "
            ],
            "text/html": [
              "\n",
              "  <div id=\"df-62a78883-26b6-4124-b02b-695d443a01b1\">\n",
              "    <div class=\"colab-df-container\">\n",
              "      <div>\n",
              "<style scoped>\n",
              "    .dataframe tbody tr th:only-of-type {\n",
              "        vertical-align: middle;\n",
              "    }\n",
              "\n",
              "    .dataframe tbody tr th {\n",
              "        vertical-align: top;\n",
              "    }\n",
              "\n",
              "    .dataframe thead th {\n",
              "        text-align: right;\n",
              "    }\n",
              "</style>\n",
              "<table border=\"1\" class=\"dataframe\">\n",
              "  <thead>\n",
              "    <tr style=\"text-align: right;\">\n",
              "      <th></th>\n",
              "      <th>Age</th>\n",
              "      <th>Fare</th>\n",
              "      <th>Parch</th>\n",
              "      <th>SibSp</th>\n",
              "      <th>Sex_male</th>\n",
              "      <th>Embarked_Q</th>\n",
              "      <th>Embarked_S</th>\n",
              "      <th>Pclass_2</th>\n",
              "      <th>Pclass_3</th>\n",
              "      <th>Cabin_section_B</th>\n",
              "      <th>Cabin_section_C</th>\n",
              "      <th>Cabin_section_D</th>\n",
              "      <th>Cabin_section_E</th>\n",
              "      <th>Cabin_section_F</th>\n",
              "      <th>Cabin_section_G</th>\n",
              "      <th>Cabin_section_T</th>\n",
              "      <th>Cabin_section_n</th>\n",
              "      <th>Y</th>\n",
              "    </tr>\n",
              "    <tr>\n",
              "      <th>PassengerId</th>\n",
              "      <th></th>\n",
              "      <th></th>\n",
              "      <th></th>\n",
              "      <th></th>\n",
              "      <th></th>\n",
              "      <th></th>\n",
              "      <th></th>\n",
              "      <th></th>\n",
              "      <th></th>\n",
              "      <th></th>\n",
              "      <th></th>\n",
              "      <th></th>\n",
              "      <th></th>\n",
              "      <th></th>\n",
              "      <th></th>\n",
              "      <th></th>\n",
              "      <th></th>\n",
              "      <th></th>\n",
              "    </tr>\n",
              "  </thead>\n",
              "  <tbody>\n",
              "    <tr>\n",
              "      <th>390</th>\n",
              "      <td>0.208344</td>\n",
              "      <td>0.023422</td>\n",
              "      <td>0.0</td>\n",
              "      <td>0.000</td>\n",
              "      <td>0.0</td>\n",
              "      <td>0.0</td>\n",
              "      <td>0.0</td>\n",
              "      <td>1.0</td>\n",
              "      <td>0.0</td>\n",
              "      <td>0.0</td>\n",
              "      <td>0.0</td>\n",
              "      <td>0.0</td>\n",
              "      <td>0.0</td>\n",
              "      <td>0.0</td>\n",
              "      <td>0.0</td>\n",
              "      <td>0.0</td>\n",
              "      <td>1.0</td>\n",
              "      <td>1</td>\n",
              "    </tr>\n",
              "    <tr>\n",
              "      <th>491</th>\n",
              "      <td>0.376866</td>\n",
              "      <td>0.038972</td>\n",
              "      <td>0.0</td>\n",
              "      <td>0.125</td>\n",
              "      <td>1.0</td>\n",
              "      <td>0.0</td>\n",
              "      <td>1.0</td>\n",
              "      <td>0.0</td>\n",
              "      <td>1.0</td>\n",
              "      <td>0.0</td>\n",
              "      <td>0.0</td>\n",
              "      <td>0.0</td>\n",
              "      <td>0.0</td>\n",
              "      <td>0.0</td>\n",
              "      <td>0.0</td>\n",
              "      <td>0.0</td>\n",
              "      <td>1.0</td>\n",
              "      <td>0</td>\n",
              "    </tr>\n",
              "    <tr>\n",
              "      <th>233</th>\n",
              "      <td>0.736115</td>\n",
              "      <td>0.026350</td>\n",
              "      <td>0.0</td>\n",
              "      <td>0.000</td>\n",
              "      <td>1.0</td>\n",
              "      <td>0.0</td>\n",
              "      <td>1.0</td>\n",
              "      <td>1.0</td>\n",
              "      <td>0.0</td>\n",
              "      <td>0.0</td>\n",
              "      <td>0.0</td>\n",
              "      <td>0.0</td>\n",
              "      <td>0.0</td>\n",
              "      <td>0.0</td>\n",
              "      <td>0.0</td>\n",
              "      <td>0.0</td>\n",
              "      <td>1.0</td>\n",
              "      <td>0</td>\n",
              "    </tr>\n",
              "    <tr>\n",
              "      <th>783</th>\n",
              "      <td>0.359135</td>\n",
              "      <td>0.058556</td>\n",
              "      <td>0.0</td>\n",
              "      <td>0.000</td>\n",
              "      <td>1.0</td>\n",
              "      <td>0.0</td>\n",
              "      <td>1.0</td>\n",
              "      <td>0.0</td>\n",
              "      <td>0.0</td>\n",
              "      <td>0.0</td>\n",
              "      <td>0.0</td>\n",
              "      <td>1.0</td>\n",
              "      <td>0.0</td>\n",
              "      <td>0.0</td>\n",
              "      <td>0.0</td>\n",
              "      <td>0.0</td>\n",
              "      <td>0.0</td>\n",
              "      <td>0</td>\n",
              "    </tr>\n",
              "    <tr>\n",
              "      <th>831</th>\n",
              "      <td>0.183212</td>\n",
              "      <td>0.028213</td>\n",
              "      <td>0.0</td>\n",
              "      <td>0.125</td>\n",
              "      <td>0.0</td>\n",
              "      <td>0.0</td>\n",
              "      <td>0.0</td>\n",
              "      <td>0.0</td>\n",
              "      <td>1.0</td>\n",
              "      <td>0.0</td>\n",
              "      <td>0.0</td>\n",
              "      <td>0.0</td>\n",
              "      <td>0.0</td>\n",
              "      <td>0.0</td>\n",
              "      <td>0.0</td>\n",
              "      <td>0.0</td>\n",
              "      <td>1.0</td>\n",
              "      <td>1</td>\n",
              "    </tr>\n",
              "  </tbody>\n",
              "</table>\n",
              "</div>\n",
              "      <button class=\"colab-df-convert\" onclick=\"convertToInteractive('df-62a78883-26b6-4124-b02b-695d443a01b1')\"\n",
              "              title=\"Convert this dataframe to an interactive table.\"\n",
              "              style=\"display:none;\">\n",
              "        \n",
              "  <svg xmlns=\"http://www.w3.org/2000/svg\" height=\"24px\"viewBox=\"0 0 24 24\"\n",
              "       width=\"24px\">\n",
              "    <path d=\"M0 0h24v24H0V0z\" fill=\"none\"/>\n",
              "    <path d=\"M18.56 5.44l.94 2.06.94-2.06 2.06-.94-2.06-.94-.94-2.06-.94 2.06-2.06.94zm-11 1L8.5 8.5l.94-2.06 2.06-.94-2.06-.94L8.5 2.5l-.94 2.06-2.06.94zm10 10l.94 2.06.94-2.06 2.06-.94-2.06-.94-.94-2.06-.94 2.06-2.06.94z\"/><path d=\"M17.41 7.96l-1.37-1.37c-.4-.4-.92-.59-1.43-.59-.52 0-1.04.2-1.43.59L10.3 9.45l-7.72 7.72c-.78.78-.78 2.05 0 2.83L4 21.41c.39.39.9.59 1.41.59.51 0 1.02-.2 1.41-.59l7.78-7.78 2.81-2.81c.8-.78.8-2.07 0-2.86zM5.41 20L4 18.59l7.72-7.72 1.47 1.35L5.41 20z\"/>\n",
              "  </svg>\n",
              "      </button>\n",
              "      \n",
              "  <style>\n",
              "    .colab-df-container {\n",
              "      display:flex;\n",
              "      flex-wrap:wrap;\n",
              "      gap: 12px;\n",
              "    }\n",
              "\n",
              "    .colab-df-convert {\n",
              "      background-color: #E8F0FE;\n",
              "      border: none;\n",
              "      border-radius: 50%;\n",
              "      cursor: pointer;\n",
              "      display: none;\n",
              "      fill: #1967D2;\n",
              "      height: 32px;\n",
              "      padding: 0 0 0 0;\n",
              "      width: 32px;\n",
              "    }\n",
              "\n",
              "    .colab-df-convert:hover {\n",
              "      background-color: #E2EBFA;\n",
              "      box-shadow: 0px 1px 2px rgba(60, 64, 67, 0.3), 0px 1px 3px 1px rgba(60, 64, 67, 0.15);\n",
              "      fill: #174EA6;\n",
              "    }\n",
              "\n",
              "    [theme=dark] .colab-df-convert {\n",
              "      background-color: #3B4455;\n",
              "      fill: #D2E3FC;\n",
              "    }\n",
              "\n",
              "    [theme=dark] .colab-df-convert:hover {\n",
              "      background-color: #434B5C;\n",
              "      box-shadow: 0px 1px 3px 1px rgba(0, 0, 0, 0.15);\n",
              "      filter: drop-shadow(0px 1px 2px rgba(0, 0, 0, 0.3));\n",
              "      fill: #FFFFFF;\n",
              "    }\n",
              "  </style>\n",
              "\n",
              "      <script>\n",
              "        const buttonEl =\n",
              "          document.querySelector('#df-62a78883-26b6-4124-b02b-695d443a01b1 button.colab-df-convert');\n",
              "        buttonEl.style.display =\n",
              "          google.colab.kernel.accessAllowed ? 'block' : 'none';\n",
              "\n",
              "        async function convertToInteractive(key) {\n",
              "          const element = document.querySelector('#df-62a78883-26b6-4124-b02b-695d443a01b1');\n",
              "          const dataTable =\n",
              "            await google.colab.kernel.invokeFunction('convertToInteractive',\n",
              "                                                     [key], {});\n",
              "          if (!dataTable) return;\n",
              "\n",
              "          const docLinkHtml = 'Like what you see? Visit the ' +\n",
              "            '<a target=\"_blank\" href=https://colab.research.google.com/notebooks/data_table.ipynb>data table notebook</a>'\n",
              "            + ' to learn more about interactive tables.';\n",
              "          element.innerHTML = '';\n",
              "          dataTable['output_type'] = 'display_data';\n",
              "          await google.colab.output.renderOutput(dataTable, element);\n",
              "          const docLink = document.createElement('div');\n",
              "          docLink.innerHTML = docLinkHtml;\n",
              "          element.appendChild(docLink);\n",
              "        }\n",
              "      </script>\n",
              "    </div>\n",
              "  </div>\n",
              "  "
            ]
          },
          "metadata": {},
          "execution_count": 137
        }
      ]
    },
    {
      "cell_type": "code",
      "source": [
        "dtf_test.head()"
      ],
      "metadata": {
        "colab": {
          "base_uri": "https://localhost:8080/",
          "height": 301
        },
        "id": "uDUt-tegM3rj",
        "outputId": "40b41d2d-9166-4ade-b273-7961b080925b"
      },
      "execution_count": null,
      "outputs": [
        {
          "output_type": "execute_result",
          "data": {
            "text/plain": [
              "                   Age     Fare  Parch  SibSp  Y  Sex_male  Embarked_Q  \\\n",
              "PassengerId                                                              \n",
              "766          51.000000  77.9583      0      1  1         0           0   \n",
              "860          28.001991   7.2292      0      0  0         1           0   \n",
              "669          43.000000   8.0500      0      0  0         1           0   \n",
              "557          48.000000  39.6000      0      1  1         0           0   \n",
              "870           4.000000  11.1333      1      1  1         1           0   \n",
              "\n",
              "             Embarked_S  Pclass_2  Pclass_3  Cabin_section_B  Cabin_section_C  \\\n",
              "PassengerId                                                                     \n",
              "766                   1         0         0                0                0   \n",
              "860                   0         0         1                0                0   \n",
              "669                   1         0         1                0                0   \n",
              "557                   0         0         0                0                0   \n",
              "870                   1         0         1                0                0   \n",
              "\n",
              "             Cabin_section_D  Cabin_section_E  Cabin_section_F  \\\n",
              "PassengerId                                                      \n",
              "766                        1                0                0   \n",
              "860                        0                0                0   \n",
              "669                        0                0                0   \n",
              "557                        0                0                0   \n",
              "870                        0                0                0   \n",
              "\n",
              "             Cabin_section_G  Cabin_section_n  \n",
              "PassengerId                                    \n",
              "766                        0                0  \n",
              "860                        0                1  \n",
              "669                        0                1  \n",
              "557                        0                0  \n",
              "870                        0                1  "
            ],
            "text/html": [
              "\n",
              "  <div id=\"df-e55a7407-bb4a-441f-817e-3b3a4e58c3be\">\n",
              "    <div class=\"colab-df-container\">\n",
              "      <div>\n",
              "<style scoped>\n",
              "    .dataframe tbody tr th:only-of-type {\n",
              "        vertical-align: middle;\n",
              "    }\n",
              "\n",
              "    .dataframe tbody tr th {\n",
              "        vertical-align: top;\n",
              "    }\n",
              "\n",
              "    .dataframe thead th {\n",
              "        text-align: right;\n",
              "    }\n",
              "</style>\n",
              "<table border=\"1\" class=\"dataframe\">\n",
              "  <thead>\n",
              "    <tr style=\"text-align: right;\">\n",
              "      <th></th>\n",
              "      <th>Age</th>\n",
              "      <th>Fare</th>\n",
              "      <th>Parch</th>\n",
              "      <th>SibSp</th>\n",
              "      <th>Y</th>\n",
              "      <th>Sex_male</th>\n",
              "      <th>Embarked_Q</th>\n",
              "      <th>Embarked_S</th>\n",
              "      <th>Pclass_2</th>\n",
              "      <th>Pclass_3</th>\n",
              "      <th>Cabin_section_B</th>\n",
              "      <th>Cabin_section_C</th>\n",
              "      <th>Cabin_section_D</th>\n",
              "      <th>Cabin_section_E</th>\n",
              "      <th>Cabin_section_F</th>\n",
              "      <th>Cabin_section_G</th>\n",
              "      <th>Cabin_section_n</th>\n",
              "    </tr>\n",
              "    <tr>\n",
              "      <th>PassengerId</th>\n",
              "      <th></th>\n",
              "      <th></th>\n",
              "      <th></th>\n",
              "      <th></th>\n",
              "      <th></th>\n",
              "      <th></th>\n",
              "      <th></th>\n",
              "      <th></th>\n",
              "      <th></th>\n",
              "      <th></th>\n",
              "      <th></th>\n",
              "      <th></th>\n",
              "      <th></th>\n",
              "      <th></th>\n",
              "      <th></th>\n",
              "      <th></th>\n",
              "      <th></th>\n",
              "    </tr>\n",
              "  </thead>\n",
              "  <tbody>\n",
              "    <tr>\n",
              "      <th>766</th>\n",
              "      <td>51.000000</td>\n",
              "      <td>77.9583</td>\n",
              "      <td>0</td>\n",
              "      <td>1</td>\n",
              "      <td>1</td>\n",
              "      <td>0</td>\n",
              "      <td>0</td>\n",
              "      <td>1</td>\n",
              "      <td>0</td>\n",
              "      <td>0</td>\n",
              "      <td>0</td>\n",
              "      <td>0</td>\n",
              "      <td>1</td>\n",
              "      <td>0</td>\n",
              "      <td>0</td>\n",
              "      <td>0</td>\n",
              "      <td>0</td>\n",
              "    </tr>\n",
              "    <tr>\n",
              "      <th>860</th>\n",
              "      <td>28.001991</td>\n",
              "      <td>7.2292</td>\n",
              "      <td>0</td>\n",
              "      <td>0</td>\n",
              "      <td>0</td>\n",
              "      <td>1</td>\n",
              "      <td>0</td>\n",
              "      <td>0</td>\n",
              "      <td>0</td>\n",
              "      <td>1</td>\n",
              "      <td>0</td>\n",
              "      <td>0</td>\n",
              "      <td>0</td>\n",
              "      <td>0</td>\n",
              "      <td>0</td>\n",
              "      <td>0</td>\n",
              "      <td>1</td>\n",
              "    </tr>\n",
              "    <tr>\n",
              "      <th>669</th>\n",
              "      <td>43.000000</td>\n",
              "      <td>8.0500</td>\n",
              "      <td>0</td>\n",
              "      <td>0</td>\n",
              "      <td>0</td>\n",
              "      <td>1</td>\n",
              "      <td>0</td>\n",
              "      <td>1</td>\n",
              "      <td>0</td>\n",
              "      <td>1</td>\n",
              "      <td>0</td>\n",
              "      <td>0</td>\n",
              "      <td>0</td>\n",
              "      <td>0</td>\n",
              "      <td>0</td>\n",
              "      <td>0</td>\n",
              "      <td>1</td>\n",
              "    </tr>\n",
              "    <tr>\n",
              "      <th>557</th>\n",
              "      <td>48.000000</td>\n",
              "      <td>39.6000</td>\n",
              "      <td>0</td>\n",
              "      <td>1</td>\n",
              "      <td>1</td>\n",
              "      <td>0</td>\n",
              "      <td>0</td>\n",
              "      <td>0</td>\n",
              "      <td>0</td>\n",
              "      <td>0</td>\n",
              "      <td>0</td>\n",
              "      <td>0</td>\n",
              "      <td>0</td>\n",
              "      <td>0</td>\n",
              "      <td>0</td>\n",
              "      <td>0</td>\n",
              "      <td>0</td>\n",
              "    </tr>\n",
              "    <tr>\n",
              "      <th>870</th>\n",
              "      <td>4.000000</td>\n",
              "      <td>11.1333</td>\n",
              "      <td>1</td>\n",
              "      <td>1</td>\n",
              "      <td>1</td>\n",
              "      <td>1</td>\n",
              "      <td>0</td>\n",
              "      <td>1</td>\n",
              "      <td>0</td>\n",
              "      <td>1</td>\n",
              "      <td>0</td>\n",
              "      <td>0</td>\n",
              "      <td>0</td>\n",
              "      <td>0</td>\n",
              "      <td>0</td>\n",
              "      <td>0</td>\n",
              "      <td>1</td>\n",
              "    </tr>\n",
              "  </tbody>\n",
              "</table>\n",
              "</div>\n",
              "      <button class=\"colab-df-convert\" onclick=\"convertToInteractive('df-e55a7407-bb4a-441f-817e-3b3a4e58c3be')\"\n",
              "              title=\"Convert this dataframe to an interactive table.\"\n",
              "              style=\"display:none;\">\n",
              "        \n",
              "  <svg xmlns=\"http://www.w3.org/2000/svg\" height=\"24px\"viewBox=\"0 0 24 24\"\n",
              "       width=\"24px\">\n",
              "    <path d=\"M0 0h24v24H0V0z\" fill=\"none\"/>\n",
              "    <path d=\"M18.56 5.44l.94 2.06.94-2.06 2.06-.94-2.06-.94-.94-2.06-.94 2.06-2.06.94zm-11 1L8.5 8.5l.94-2.06 2.06-.94-2.06-.94L8.5 2.5l-.94 2.06-2.06.94zm10 10l.94 2.06.94-2.06 2.06-.94-2.06-.94-.94-2.06-.94 2.06-2.06.94z\"/><path d=\"M17.41 7.96l-1.37-1.37c-.4-.4-.92-.59-1.43-.59-.52 0-1.04.2-1.43.59L10.3 9.45l-7.72 7.72c-.78.78-.78 2.05 0 2.83L4 21.41c.39.39.9.59 1.41.59.51 0 1.02-.2 1.41-.59l7.78-7.78 2.81-2.81c.8-.78.8-2.07 0-2.86zM5.41 20L4 18.59l7.72-7.72 1.47 1.35L5.41 20z\"/>\n",
              "  </svg>\n",
              "      </button>\n",
              "      \n",
              "  <style>\n",
              "    .colab-df-container {\n",
              "      display:flex;\n",
              "      flex-wrap:wrap;\n",
              "      gap: 12px;\n",
              "    }\n",
              "\n",
              "    .colab-df-convert {\n",
              "      background-color: #E8F0FE;\n",
              "      border: none;\n",
              "      border-radius: 50%;\n",
              "      cursor: pointer;\n",
              "      display: none;\n",
              "      fill: #1967D2;\n",
              "      height: 32px;\n",
              "      padding: 0 0 0 0;\n",
              "      width: 32px;\n",
              "    }\n",
              "\n",
              "    .colab-df-convert:hover {\n",
              "      background-color: #E2EBFA;\n",
              "      box-shadow: 0px 1px 2px rgba(60, 64, 67, 0.3), 0px 1px 3px 1px rgba(60, 64, 67, 0.15);\n",
              "      fill: #174EA6;\n",
              "    }\n",
              "\n",
              "    [theme=dark] .colab-df-convert {\n",
              "      background-color: #3B4455;\n",
              "      fill: #D2E3FC;\n",
              "    }\n",
              "\n",
              "    [theme=dark] .colab-df-convert:hover {\n",
              "      background-color: #434B5C;\n",
              "      box-shadow: 0px 1px 3px 1px rgba(0, 0, 0, 0.15);\n",
              "      filter: drop-shadow(0px 1px 2px rgba(0, 0, 0, 0.3));\n",
              "      fill: #FFFFFF;\n",
              "    }\n",
              "  </style>\n",
              "\n",
              "      <script>\n",
              "        const buttonEl =\n",
              "          document.querySelector('#df-e55a7407-bb4a-441f-817e-3b3a4e58c3be button.colab-df-convert');\n",
              "        buttonEl.style.display =\n",
              "          google.colab.kernel.accessAllowed ? 'block' : 'none';\n",
              "\n",
              "        async function convertToInteractive(key) {\n",
              "          const element = document.querySelector('#df-e55a7407-bb4a-441f-817e-3b3a4e58c3be');\n",
              "          const dataTable =\n",
              "            await google.colab.kernel.invokeFunction('convertToInteractive',\n",
              "                                                     [key], {});\n",
              "          if (!dataTable) return;\n",
              "\n",
              "          const docLinkHtml = 'Like what you see? Visit the ' +\n",
              "            '<a target=\"_blank\" href=https://colab.research.google.com/notebooks/data_table.ipynb>data table notebook</a>'\n",
              "            + ' to learn more about interactive tables.';\n",
              "          element.innerHTML = '';\n",
              "          dataTable['output_type'] = 'display_data';\n",
              "          await google.colab.output.renderOutput(dataTable, element);\n",
              "          const docLink = document.createElement('div');\n",
              "          docLink.innerHTML = docLinkHtml;\n",
              "          element.appendChild(docLink);\n",
              "        }\n",
              "      </script>\n",
              "    </div>\n",
              "  </div>\n",
              "  "
            ]
          },
          "metadata": {},
          "execution_count": 138
        }
      ]
    },
    {
      "cell_type": "code",
      "source": [
        "scaler = preprocessing.MinMaxScaler(feature_range=(0,1))\n",
        "X = scaler.fit_transform(dtf_test.drop(\"Y\", axis=1))\n",
        "dtf_scaled= pd.DataFrame(X, columns=dtf_test.drop(\"Y\", axis=1).columns, index=dtf_test.index)\n",
        "dtf_scaled[\"Y\"] = dtf_test[\"Y\"]\n",
        "dtf_scaled.head()"
      ],
      "metadata": {
        "colab": {
          "base_uri": "https://localhost:8080/",
          "height": 301
        },
        "id": "1bPwZDd7MsN-",
        "outputId": "85efd39b-840d-4104-b732-b2b7a510da04"
      },
      "execution_count": null,
      "outputs": [
        {
          "output_type": "execute_result",
          "data": {
            "text/plain": [
              "                  Age      Fare  Parch  SibSp  Sex_male  Embarked_Q  \\\n",
              "PassengerId                                                           \n",
              "766          0.719747  0.296419    0.0  0.125       0.0         0.0   \n",
              "860          0.389221  0.027487    0.0  0.000       1.0         0.0   \n",
              "669          0.604771  0.030608    0.0  0.000       1.0         0.0   \n",
              "557          0.676631  0.150570    0.0  0.125       0.0         0.0   \n",
              "870          0.044266  0.042332    0.2  0.125       1.0         0.0   \n",
              "\n",
              "             Embarked_S  Pclass_2  Pclass_3  Cabin_section_B  Cabin_section_C  \\\n",
              "PassengerId                                                                     \n",
              "766                 1.0       0.0       0.0              0.0              0.0   \n",
              "860                 0.0       0.0       1.0              0.0              0.0   \n",
              "669                 1.0       0.0       1.0              0.0              0.0   \n",
              "557                 0.0       0.0       0.0              0.0              0.0   \n",
              "870                 1.0       0.0       1.0              0.0              0.0   \n",
              "\n",
              "             Cabin_section_D  Cabin_section_E  Cabin_section_F  \\\n",
              "PassengerId                                                      \n",
              "766                      1.0              0.0              0.0   \n",
              "860                      0.0              0.0              0.0   \n",
              "669                      0.0              0.0              0.0   \n",
              "557                      0.0              0.0              0.0   \n",
              "870                      0.0              0.0              0.0   \n",
              "\n",
              "             Cabin_section_G  Cabin_section_n  Y  \n",
              "PassengerId                                       \n",
              "766                      0.0              0.0  1  \n",
              "860                      0.0              1.0  0  \n",
              "669                      0.0              1.0  0  \n",
              "557                      0.0              0.0  1  \n",
              "870                      0.0              1.0  1  "
            ],
            "text/html": [
              "\n",
              "  <div id=\"df-07b06f13-fbf9-47c0-9988-adb3a9116fce\">\n",
              "    <div class=\"colab-df-container\">\n",
              "      <div>\n",
              "<style scoped>\n",
              "    .dataframe tbody tr th:only-of-type {\n",
              "        vertical-align: middle;\n",
              "    }\n",
              "\n",
              "    .dataframe tbody tr th {\n",
              "        vertical-align: top;\n",
              "    }\n",
              "\n",
              "    .dataframe thead th {\n",
              "        text-align: right;\n",
              "    }\n",
              "</style>\n",
              "<table border=\"1\" class=\"dataframe\">\n",
              "  <thead>\n",
              "    <tr style=\"text-align: right;\">\n",
              "      <th></th>\n",
              "      <th>Age</th>\n",
              "      <th>Fare</th>\n",
              "      <th>Parch</th>\n",
              "      <th>SibSp</th>\n",
              "      <th>Sex_male</th>\n",
              "      <th>Embarked_Q</th>\n",
              "      <th>Embarked_S</th>\n",
              "      <th>Pclass_2</th>\n",
              "      <th>Pclass_3</th>\n",
              "      <th>Cabin_section_B</th>\n",
              "      <th>Cabin_section_C</th>\n",
              "      <th>Cabin_section_D</th>\n",
              "      <th>Cabin_section_E</th>\n",
              "      <th>Cabin_section_F</th>\n",
              "      <th>Cabin_section_G</th>\n",
              "      <th>Cabin_section_n</th>\n",
              "      <th>Y</th>\n",
              "    </tr>\n",
              "    <tr>\n",
              "      <th>PassengerId</th>\n",
              "      <th></th>\n",
              "      <th></th>\n",
              "      <th></th>\n",
              "      <th></th>\n",
              "      <th></th>\n",
              "      <th></th>\n",
              "      <th></th>\n",
              "      <th></th>\n",
              "      <th></th>\n",
              "      <th></th>\n",
              "      <th></th>\n",
              "      <th></th>\n",
              "      <th></th>\n",
              "      <th></th>\n",
              "      <th></th>\n",
              "      <th></th>\n",
              "      <th></th>\n",
              "    </tr>\n",
              "  </thead>\n",
              "  <tbody>\n",
              "    <tr>\n",
              "      <th>766</th>\n",
              "      <td>0.719747</td>\n",
              "      <td>0.296419</td>\n",
              "      <td>0.0</td>\n",
              "      <td>0.125</td>\n",
              "      <td>0.0</td>\n",
              "      <td>0.0</td>\n",
              "      <td>1.0</td>\n",
              "      <td>0.0</td>\n",
              "      <td>0.0</td>\n",
              "      <td>0.0</td>\n",
              "      <td>0.0</td>\n",
              "      <td>1.0</td>\n",
              "      <td>0.0</td>\n",
              "      <td>0.0</td>\n",
              "      <td>0.0</td>\n",
              "      <td>0.0</td>\n",
              "      <td>1</td>\n",
              "    </tr>\n",
              "    <tr>\n",
              "      <th>860</th>\n",
              "      <td>0.389221</td>\n",
              "      <td>0.027487</td>\n",
              "      <td>0.0</td>\n",
              "      <td>0.000</td>\n",
              "      <td>1.0</td>\n",
              "      <td>0.0</td>\n",
              "      <td>0.0</td>\n",
              "      <td>0.0</td>\n",
              "      <td>1.0</td>\n",
              "      <td>0.0</td>\n",
              "      <td>0.0</td>\n",
              "      <td>0.0</td>\n",
              "      <td>0.0</td>\n",
              "      <td>0.0</td>\n",
              "      <td>0.0</td>\n",
              "      <td>1.0</td>\n",
              "      <td>0</td>\n",
              "    </tr>\n",
              "    <tr>\n",
              "      <th>669</th>\n",
              "      <td>0.604771</td>\n",
              "      <td>0.030608</td>\n",
              "      <td>0.0</td>\n",
              "      <td>0.000</td>\n",
              "      <td>1.0</td>\n",
              "      <td>0.0</td>\n",
              "      <td>1.0</td>\n",
              "      <td>0.0</td>\n",
              "      <td>1.0</td>\n",
              "      <td>0.0</td>\n",
              "      <td>0.0</td>\n",
              "      <td>0.0</td>\n",
              "      <td>0.0</td>\n",
              "      <td>0.0</td>\n",
              "      <td>0.0</td>\n",
              "      <td>1.0</td>\n",
              "      <td>0</td>\n",
              "    </tr>\n",
              "    <tr>\n",
              "      <th>557</th>\n",
              "      <td>0.676631</td>\n",
              "      <td>0.150570</td>\n",
              "      <td>0.0</td>\n",
              "      <td>0.125</td>\n",
              "      <td>0.0</td>\n",
              "      <td>0.0</td>\n",
              "      <td>0.0</td>\n",
              "      <td>0.0</td>\n",
              "      <td>0.0</td>\n",
              "      <td>0.0</td>\n",
              "      <td>0.0</td>\n",
              "      <td>0.0</td>\n",
              "      <td>0.0</td>\n",
              "      <td>0.0</td>\n",
              "      <td>0.0</td>\n",
              "      <td>0.0</td>\n",
              "      <td>1</td>\n",
              "    </tr>\n",
              "    <tr>\n",
              "      <th>870</th>\n",
              "      <td>0.044266</td>\n",
              "      <td>0.042332</td>\n",
              "      <td>0.2</td>\n",
              "      <td>0.125</td>\n",
              "      <td>1.0</td>\n",
              "      <td>0.0</td>\n",
              "      <td>1.0</td>\n",
              "      <td>0.0</td>\n",
              "      <td>1.0</td>\n",
              "      <td>0.0</td>\n",
              "      <td>0.0</td>\n",
              "      <td>0.0</td>\n",
              "      <td>0.0</td>\n",
              "      <td>0.0</td>\n",
              "      <td>0.0</td>\n",
              "      <td>1.0</td>\n",
              "      <td>1</td>\n",
              "    </tr>\n",
              "  </tbody>\n",
              "</table>\n",
              "</div>\n",
              "      <button class=\"colab-df-convert\" onclick=\"convertToInteractive('df-07b06f13-fbf9-47c0-9988-adb3a9116fce')\"\n",
              "              title=\"Convert this dataframe to an interactive table.\"\n",
              "              style=\"display:none;\">\n",
              "        \n",
              "  <svg xmlns=\"http://www.w3.org/2000/svg\" height=\"24px\"viewBox=\"0 0 24 24\"\n",
              "       width=\"24px\">\n",
              "    <path d=\"M0 0h24v24H0V0z\" fill=\"none\"/>\n",
              "    <path d=\"M18.56 5.44l.94 2.06.94-2.06 2.06-.94-2.06-.94-.94-2.06-.94 2.06-2.06.94zm-11 1L8.5 8.5l.94-2.06 2.06-.94-2.06-.94L8.5 2.5l-.94 2.06-2.06.94zm10 10l.94 2.06.94-2.06 2.06-.94-2.06-.94-.94-2.06-.94 2.06-2.06.94z\"/><path d=\"M17.41 7.96l-1.37-1.37c-.4-.4-.92-.59-1.43-.59-.52 0-1.04.2-1.43.59L10.3 9.45l-7.72 7.72c-.78.78-.78 2.05 0 2.83L4 21.41c.39.39.9.59 1.41.59.51 0 1.02-.2 1.41-.59l7.78-7.78 2.81-2.81c.8-.78.8-2.07 0-2.86zM5.41 20L4 18.59l7.72-7.72 1.47 1.35L5.41 20z\"/>\n",
              "  </svg>\n",
              "      </button>\n",
              "      \n",
              "  <style>\n",
              "    .colab-df-container {\n",
              "      display:flex;\n",
              "      flex-wrap:wrap;\n",
              "      gap: 12px;\n",
              "    }\n",
              "\n",
              "    .colab-df-convert {\n",
              "      background-color: #E8F0FE;\n",
              "      border: none;\n",
              "      border-radius: 50%;\n",
              "      cursor: pointer;\n",
              "      display: none;\n",
              "      fill: #1967D2;\n",
              "      height: 32px;\n",
              "      padding: 0 0 0 0;\n",
              "      width: 32px;\n",
              "    }\n",
              "\n",
              "    .colab-df-convert:hover {\n",
              "      background-color: #E2EBFA;\n",
              "      box-shadow: 0px 1px 2px rgba(60, 64, 67, 0.3), 0px 1px 3px 1px rgba(60, 64, 67, 0.15);\n",
              "      fill: #174EA6;\n",
              "    }\n",
              "\n",
              "    [theme=dark] .colab-df-convert {\n",
              "      background-color: #3B4455;\n",
              "      fill: #D2E3FC;\n",
              "    }\n",
              "\n",
              "    [theme=dark] .colab-df-convert:hover {\n",
              "      background-color: #434B5C;\n",
              "      box-shadow: 0px 1px 3px 1px rgba(0, 0, 0, 0.15);\n",
              "      filter: drop-shadow(0px 1px 2px rgba(0, 0, 0, 0.3));\n",
              "      fill: #FFFFFF;\n",
              "    }\n",
              "  </style>\n",
              "\n",
              "      <script>\n",
              "        const buttonEl =\n",
              "          document.querySelector('#df-07b06f13-fbf9-47c0-9988-adb3a9116fce button.colab-df-convert');\n",
              "        buttonEl.style.display =\n",
              "          google.colab.kernel.accessAllowed ? 'block' : 'none';\n",
              "\n",
              "        async function convertToInteractive(key) {\n",
              "          const element = document.querySelector('#df-07b06f13-fbf9-47c0-9988-adb3a9116fce');\n",
              "          const dataTable =\n",
              "            await google.colab.kernel.invokeFunction('convertToInteractive',\n",
              "                                                     [key], {});\n",
              "          if (!dataTable) return;\n",
              "\n",
              "          const docLinkHtml = 'Like what you see? Visit the ' +\n",
              "            '<a target=\"_blank\" href=https://colab.research.google.com/notebooks/data_table.ipynb>data table notebook</a>'\n",
              "            + ' to learn more about interactive tables.';\n",
              "          element.innerHTML = '';\n",
              "          dataTable['output_type'] = 'display_data';\n",
              "          await google.colab.output.renderOutput(dataTable, element);\n",
              "          const docLink = document.createElement('div');\n",
              "          docLink.innerHTML = docLinkHtml;\n",
              "          element.appendChild(docLink);\n",
              "        }\n",
              "      </script>\n",
              "    </div>\n",
              "  </div>\n",
              "  "
            ]
          },
          "metadata": {},
          "execution_count": 139
        }
      ]
    },
    {
      "cell_type": "markdown",
      "source": [
        "**Feature selection**\n",
        "\n",
        "Process of selecting a susbset of relevant variables. Pclass is highly correlated with cabin_section "
      ],
      "metadata": {
        "id": "L_USfJdWwwZa"
      }
    },
    {
      "cell_type": "code",
      "source": [
        "corr_matrix = dtf.copy()\n",
        "for col in corr_matrix.columns:\n",
        "    if corr_matrix[col].dtype == \"O\":\n",
        "         corr_matrix[col] = corr_matrix[col].factorize(sort=True)[0]\n",
        "corr_matrix = corr_matrix.corr(method=\"pearson\")\n",
        "sns.heatmap(corr_matrix, vmin=-1., vmax=1., annot=True, fmt='.2f', cmap=\"YlGnBu\", cbar=True, linewidths=0.5)\n",
        "plt.title(\"pearson correlation\")"
      ],
      "metadata": {
        "colab": {
          "base_uri": "https://localhost:8080/",
          "height": 358
        },
        "id": "MZqVDylLwvvY",
        "outputId": "1b04e856-f934-4770-f26d-605c5df5e212"
      },
      "execution_count": null,
      "outputs": [
        {
          "output_type": "execute_result",
          "data": {
            "text/plain": [
              "Text(0.5, 1.0, 'pearson correlation')"
            ]
          },
          "metadata": {},
          "execution_count": 140
        },
        {
          "output_type": "display_data",
          "data": {
            "text/plain": [
              "<Figure size 432x288 with 2 Axes>"
            ],
            "image/png": "[encoded data removed]"
          },
          "metadata": {
            "needs_background": "light"
          }
        }
      ]
    },
    {
      "cell_type": "markdown",
      "source": [
        "First method of feature selection- regularization and compare it with ANOVA. The blue features are selected by both ANOVA and LASSO."
      ],
      "metadata": {
        "id": "WKS9iDX1xTxT"
      }
    },
    {
      "cell_type": "code",
      "source": [
        "X = dtf_train.drop(\"Y\", axis=1).values\n",
        "y = dtf_train[\"Y\"].values\n",
        "feature_names = dtf_train.drop(\"Y\", axis=1).columns\n",
        "## Anova\n",
        "selector = feature_selection.SelectKBest(score_func=  \n",
        "               feature_selection.f_classif, k=10).fit(X,y)\n",
        "anova_selected_features = feature_names[selector.get_support()]\n",
        "\n",
        "## Lasso regularization\n",
        "selector = feature_selection.SelectFromModel(estimator= \n",
        "              linear_model.LogisticRegression(C=1, penalty=\"l1\", \n",
        "              solver='liblinear'), max_features=10).fit(X,y)\n",
        "lasso_selected_features = feature_names[selector.get_support()]\n",
        " \n",
        "## Plot\n",
        "dtf_features = pd.DataFrame({\"features\":feature_names})\n",
        "dtf_features[\"anova\"] = dtf_features[\"features\"].apply(lambda x: \"anova\" if x in anova_selected_features else \"\")\n",
        "dtf_features[\"num1\"] = dtf_features[\"features\"].apply(lambda x: 1 if x in anova_selected_features else 0)\n",
        "dtf_features[\"lasso\"] = dtf_features[\"features\"].apply(lambda x: \"lasso\" if x in lasso_selected_features else \"\")\n",
        "dtf_features[\"num2\"] = dtf_features[\"features\"].apply(lambda x: 1 if x in lasso_selected_features else 0)\n",
        "dtf_features[\"method\"] = dtf_features[[\"anova\",\"lasso\"]].apply(lambda x: (x[0]+\" \"+x[1]).strip(), axis=1)\n",
        "dtf_features[\"selection\"] = dtf_features[\"num1\"] + dtf_features[\"num2\"]\n",
        "sns.barplot(y=\"features\", x=\"selection\", hue=\"method\", data=dtf_features.sort_values(\"selection\", ascending=False), dodge=False)"
      ],
      "metadata": {
        "colab": {
          "base_uri": "https://localhost:8080/",
          "height": 296
        },
        "id": "Y5Qb7zUivjRT",
        "outputId": "985815d1-c409-4887-fdd7-7b6089eb6312"
      },
      "execution_count": null,
      "outputs": [
        {
          "output_type": "execute_result",
          "data": {
            "text/plain": [
              "<matplotlib.axes._subplots.AxesSubplot at 0x7f12a7cc3e50>"
            ]
          },
          "metadata": {},
          "execution_count": 141
        },
        {
          "output_type": "display_data",
          "data": {
            "text/plain": [
              "<Figure size 432x288 with 1 Axes>"
            ],
            "image/png": "[encoded data removed]"
          },
          "metadata": {
            "needs_background": "light"
          }
        }
      ]
    },
    {
      "cell_type": "markdown",
      "source": [
        "Random forest as the second way of feature selection"
      ],
      "metadata": {
        "id": "rdXxYrvKx1Ax"
      }
    },
    {
      "cell_type": "code",
      "source": [
        "X = dtf_train.drop(\"Y\", axis=1).values\n",
        "y = dtf_train[\"Y\"].values\n",
        "feature_names = dtf_train.drop(\"Y\", axis=1).columns.tolist()\n",
        "## Importance\n",
        "model = ensemble.RandomForestClassifier(n_estimators=100,\n",
        "                      criterion=\"entropy\", random_state=0)\n",
        "model.fit(X,y)\n",
        "importances = model.feature_importances_\n",
        "\n",
        "dtf_importances = pd.DataFrame({\"IMPORTANCE\":importances, \n",
        "            \"VARIABLE\":feature_names}).sort_values(\"IMPORTANCE\", \n",
        "            ascending=False)\n",
        "dtf_importances['cumsum'] =  dtf_importances['IMPORTANCE'].cumsum(axis=0)\n",
        "dtf_importances = dtf_importances.set_index(\"VARIABLE\")\n",
        "    \n",
        "## Plot\n",
        "fig, ax = plt.subplots(nrows=1, ncols=2, sharex=False, sharey=False)\n",
        "fig.suptitle(\"Features Importance\", fontsize=20)\n",
        "ax[0].title.set_text('variables')\n",
        "dtf_importances[[\"IMPORTANCE\"]].sort_values(by=\"IMPORTANCE\").plot(kind=\"barh\", legend=False, ax=ax[0]).grid(axis=\"x\")\n",
        "ax[0].set(ylabel=\"\")\n",
        "ax[1].title.set_text('cumulative')\n",
        "dtf_importances[[\"cumsum\"]].plot(kind=\"line\", linewidth=4, \n",
        "                                 legend=False, ax=ax[1])\n",
        "ax[1].set(xlabel=\"\", xticks=np.arange(len(dtf_importances)), \n",
        "          xticklabels=dtf_importances.index)\n",
        "plt.xticks(rotation=70)\n",
        "plt.grid(axis='both')\n",
        "plt.show()"
      ],
      "metadata": {
        "colab": {
          "base_uri": "https://localhost:8080/",
          "height": 365
        },
        "id": "JAKo_6PwxhJ9",
        "outputId": "a46dcf91-8386-47f9-b066-8a8a4669e751"
      },
      "execution_count": null,
      "outputs": [
        {
          "output_type": "display_data",
          "data": {
            "text/plain": [
              "<Figure size 432x288 with 2 Axes>"
            ],
            "image/png": "[encoded data removed]"
          },
          "metadata": {
            "needs_background": "light"
          }
        }
      ]
    },
    {
      "cell_type": "markdown",
      "source": [
        "Tutaj widać, że najważeniejszymi czynnikami są Age oraz Fare. Usuwam część niepotrzenych zmiennych."
      ],
      "metadata": {
        "id": "8WYJ9txdzKs8"
      }
    },
    {
      "cell_type": "code",
      "source": [
        "X_names = [\"Age\", \"Fare\", \"Sex_male\", \"SibSp\", \"Pclass_3\", \"Parch\",\n",
        "\"Cabin_section_n\", \"Embarked_S\", \"Pclass_2\", \"Cabin_section_F\", \"Cabin_section_E\", \"Cabin_section_D\"]\n",
        "X_train = dtf_train[X_names].values\n",
        "y_train = dtf_train[\"Y\"].values\n"
      ],
      "metadata": {
        "id": "DkjE439kyGNT"
      },
      "execution_count": null,
      "outputs": []
    },
    {
      "cell_type": "code",
      "source": [
        "\n",
        "X_test = dtf_test[X_names].values\n",
        "y_test = dtf_test[\"Y\"].values"
      ],
      "metadata": {
        "id": "NP0Cd9x7NfIb"
      },
      "execution_count": null,
      "outputs": []
    },
    {
      "cell_type": "markdown",
      "source": [
        "**Model design**\n",
        "Gradient boosting- It’s a machine learning technique that produces a prediction model in the form of an ensemble of weak prediction models, typically decision trees. Basically it’s similar to a Random Forest with the difference that every tree is fitted on the error of the previous one. I use random serach to find the best hiperparameters"
      ],
      "metadata": {
        "id": "PN5yNr2f0JFr"
      }
    },
    {
      "cell_type": "code",
      "source": [
        "from sklearn import model_selection, preprocessing, feature_selection, ensemble, linear_model, metrics, decomposition\n",
        "## call model\n",
        "model = ensemble.GradientBoostingClassifier()\n",
        "## define hyperparameters combinations to try\n",
        "param_dic = {'learning_rate':[0.15,0.1,0.05,0.01,0.005,0.001],      #weighting factor for the corrections by new trees when added to the model\n",
        "'n_estimators':[100,250,500,750,1000,1250,1500,1750],  #number of trees added to the model\n",
        "'max_depth':[2,3,4,5,6,7],    #maximum depth of the tree\n",
        "'min_samples_split':[2,4,6,8,10,20,40,60,100],    #sets the minimum number of samples to split\n",
        "'min_samples_leaf':[1,3,5,7,9],     #the minimum number of samples to form a leaf\n",
        "'max_features':[2,3,4,5,6,7],     #square root of features is usually a good starting point\n",
        "'subsample':[0.7,0.75,0.8,0.85,0.9,0.95,1]}       #the fraction of samples to be used for fitting the individual base learners. Values lower than 1 generally lead to a reduction of variance and an increase in bias.\n",
        "## random search\n",
        "random_search = model_selection.RandomizedSearchCV(model, \n",
        "       param_distributions=param_dic, n_iter=1000, \n",
        "       scoring=\"accuracy\").fit(X_train, y_train)\n",
        "print(\"Best Model parameters:\", random_search.best_params_)\n",
        "print(\"Best Model mean accuracy:\", random_search.best_score_)\n",
        "model = random_search.best_estimator_"
      ],
      "metadata": {
        "id": "W0iPSQCP0H-H"
      },
      "execution_count": null,
      "outputs": []
    },
    {
      "cell_type": "markdown",
      "source": [
        "Tu już nie mam czasu, długo się ładuje, ale powinno wyjść \n",
        "![image.png](data:image/png;base64,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)"
      ],
      "metadata": {
        "id": "fWLBxcepJ0-6"
      }
    },
    {
      "cell_type": "markdown",
      "source": [
        "K-fold cross-validation"
      ],
      "metadata": {
        "id": "CS6FQv5tKMyt"
      }
    },
    {
      "cell_type": "code",
      "source": [
        "cv = model_selection.StratifiedKFold(n_splits=10, shuffle=True)\n",
        "tprs, aucs = [], []\n",
        "mean_fpr = np.linspace(0,1,100)\n",
        "fig = plt.figure()\n",
        "i = 1\n",
        "for train, test in cv.split(X_train, y_train):\n",
        "   prediction = model.fit(X_train[train],\n",
        "                y_train[train]).predict_proba(X_train[test])\n",
        "   fpr, tpr, t = metrics.roc_curve(y_train[test], prediction[:, 1])\n",
        "   tprs.append(scipy.interp(mean_fpr, fpr, tpr))\n",
        "   roc_auc = metrics.auc(fpr, tpr)\n",
        "   aucs.append(roc_auc)\n",
        "   plt.plot(fpr, tpr, lw=2, alpha=0.3, label='ROC fold %d (AUC = \n",
        "            %0.2f)' % (i, roc_auc))\n",
        "   i = i+1\n",
        "   \n",
        "plt.plot([0,1], [0,1], linestyle='--', lw=2, color='black')\n",
        "mean_tpr = np.mean(tprs, axis=0)\n",
        "mean_auc = metrics.auc(mean_fpr, mean_tpr)\n",
        "plt.plot(mean_fpr, mean_tpr, color='blue', label=r'Mean ROC (AUC = \n",
        "         %0.2f )' % (mean_auc), lw=2, alpha=1)\n",
        "plt.xlabel('False Positive Rate')\n",
        "plt.ylabel('True Positive Rate')\n",
        "plt.title('K-Fold Validation')\n",
        "plt.legend(loc=\"lower right\")\n",
        "plt.show()"
      ],
      "metadata": {
        "colab": {
          "base_uri": "https://localhost:8080/",
          "height": 131
        },
        "id": "RDGwxh4jzw9l",
        "outputId": "ed4cd285-54c0-4cbf-a477-6d4e9b44b25d"
      },
      "execution_count": null,
      "outputs": [
        {
          "output_type": "error",
          "ename": "SyntaxError",
          "evalue": "ignored",
          "traceback": [
            "\u001b[0;36m  File \u001b[0;32m\"<ipython-input-145-87f5e18d64df>\"\u001b[0;36m, line \u001b[0;32m13\u001b[0m\n\u001b[0;31m    plt.plot(fpr, tpr, lw=2, alpha=0.3, label='ROC fold %d (AUC =\u001b[0m\n\u001b[0m                                                                  ^\u001b[0m\n\u001b[0;31mSyntaxError\u001b[0m\u001b[0;31m:\u001b[0m EOL while scanning string literal\n"
          ]
        }
      ]
    },
    {
      "cell_type": "markdown",
      "source": [
        "Dostosowanie modelu do danych "
      ],
      "metadata": {
        "id": "WUIFYwYfLHGv"
      }
    },
    {
      "cell_type": "code",
      "source": [
        "from sklearn import model_selection, preprocessing, feature_selection, ensemble, linear_model, metrics, decomposition\n",
        "## call model\n",
        "model = ensemble.GradientBoostingClassifier()\n",
        "model.fit(X_train, y_train)"
      ],
      "metadata": {
        "colab": {
          "base_uri": "https://localhost:8080/"
        },
        "id": "3k9CZrazLGVe",
        "outputId": "a5491a59-f742-4614-de99-055b9c909ff9"
      },
      "execution_count": null,
      "outputs": [
        {
          "output_type": "execute_result",
          "data": {
            "text/plain": [
              "GradientBoostingClassifier()"
            ]
          },
          "metadata": {},
          "execution_count": 146
        }
      ]
    },
    {
      "cell_type": "code",
      "source": [
        "## test\n",
        "#prediciton that the first one is the probability that the observation is  1\n",
        "predicted_prob = model.predict_proba(X_test)[:,1]\n",
        "#prediction that of the label (1 or 0)\n",
        "predicted = model.predict(X_test)"
      ],
      "metadata": {
        "id": "X3R-S9IhKSrR"
      },
      "execution_count": null,
      "outputs": []
    },
    {
      "cell_type": "markdown",
      "source": [
        "**Evaluation**\n",
        "\n",
        "Accuracy, AUC, Precision and recall\n",
        "Precision- fraction of 1s (or 0s) that the model predicted correctly among all predicted 1s (or 0s). \n",
        "- Recall- portion of 1s (or 0s) that the model predictedc correctly among 1s (or 0s) \n",
        "- Combining Precision and Recall gives F1"
      ],
      "metadata": {
        "id": "40-KGo9mSaqi"
      }
    },
    {
      "cell_type": "code",
      "source": [
        "## Accuray e AUC\n",
        "accuracy = metrics.accuracy_score(y_test, predicted)\n",
        "auc = metrics.roc_auc_score(y_test, predicted_prob)\n",
        "print(\"Accuracy (overall correct predictions):\",  round(accuracy,2))\n",
        "print(\"Auc:\", round(auc,2))\n",
        "    \n",
        "## Precision e Recall\n",
        "recall = metrics.recall_score(y_test, predicted)\n",
        "precision = metrics.precision_score(y_test, predicted)\n",
        "print(\"Recall (all 1s predicted right):\", round(recall,2))\n",
        "print(\"Precision (confidence when predicting a 1):\", round(precision,2))\n",
        "print(\"Detail:\")\n",
        "print(metrics.classification_report(y_test, predicted, target_names=[str(i) for i in np.unique(y_test)]))"
      ],
      "metadata": {
        "colab": {
          "base_uri": "https://localhost:8080/"
        },
        "id": "mXGL--jtQLYX",
        "outputId": "cb3cd183-5fb5-441f-9c91-47c35b758d94"
      },
      "execution_count": null,
      "outputs": [
        {
          "output_type": "stream",
          "name": "stdout",
          "text": [
            "Accuracy (overall correct predictions): 0.87\n",
            "Auc: 0.91\n",
            "Recall (all 1s predicted right): 0.82\n",
            "Precision (confidence when predicting a 1): 0.85\n",
            "Detail:\n",
            "              precision    recall  f1-score   support\n",
            "\n",
            "           0       0.89      0.91      0.90       165\n",
            "           1       0.85      0.82      0.83       103\n",
            "\n",
            "    accuracy                           0.87       268\n",
            "   macro avg       0.87      0.86      0.86       268\n",
            "weighted avg       0.87      0.87      0.87       268\n",
            "\n"
          ]
        }
      ]
    },
    {
      "cell_type": "markdown",
      "source": [
        "Confusion matrix"
      ],
      "metadata": {
        "id": "m-cxl5UdTcyU"
      }
    },
    {
      "cell_type": "code",
      "source": [
        "classes = np.unique(y_test)\n",
        "fig, ax = plt.subplots()\n",
        "cm = metrics.confusion_matrix(y_test, predicted, labels=classes)\n",
        "sns.heatmap(cm, annot=True, fmt='d', cmap=plt.cm.Blues, cbar=False)\n",
        "ax.set(xlabel=\"Pred\", ylabel=\"True\", title=\"Confusion matrix\")\n",
        "ax.set_yticklabels(labels=classes, rotation=0)\n",
        "plt.show()"
      ],
      "metadata": {
        "colab": {
          "base_uri": "https://localhost:8080/",
          "height": 295
        },
        "id": "IhmKutqjNUxD",
        "outputId": "f3cb0aa5-9706-46ae-cf22-7ccbd3e85037"
      },
      "execution_count": null,
      "outputs": [
        {
          "output_type": "display_data",
          "data": {
            "text/plain": [
              "<Figure size 432x288 with 1 Axes>"
            ],
            "image/png": "[encoded data removed]"
          },
          "metadata": {
            "needs_background": "light"
          }
        }
      ]
    },
    {
      "cell_type": "markdown",
      "source": [
        "Choosing threshold to minimize the F1-score"
      ],
      "metadata": {
        "id": "Yjm72aKjTz93"
      }
    },
    {
      "cell_type": "code",
      "source": [
        "## calculate scores for different thresholds\n",
        "dic_scores = {'accuracy':[], 'precision':[], 'recall':[], 'f1':[]}\n",
        "XX_train, XX_test, yy_train, yy_test = model_selection.train_test_split(X_train, y_train, test_size=0.2)\n",
        "predicted_prob = model.fit(XX_train, yy_train).predict_proba(XX_test)[:,1]\n",
        "thresholds = []\n",
        "for threshold in np.arange(0.1, 1, step=0.1):\n",
        "    predicted = (predicted_prob > threshold)\n",
        "    thresholds.append(threshold)\n",
        "        dic_scores[\"accuracy\"].append(metrics.accuracy_score(yy_test, predicted))\n",
        "dic_scores[\"precision\"].append(metrics.precision_score(yy_test, predicted))\n",
        "dic_scores[\"recall\"].append(metrics.recall_score(yy_test, predicted))\n",
        "dic_scores[\"f1\"].append(metrics.f1_score(yy_test, predicted))\n",
        "        \n",
        "## plot\n",
        "dtf_scores = pd.DataFrame(dic_scores).set_index(pd.Index(thresholds))    \n",
        "dtf_scores.plot(ax=ax, title=\"Threshold Selection\")\n",
        "plt.show()"
      ],
      "metadata": {
        "colab": {
          "base_uri": "https://localhost:8080/",
          "height": 131
        },
        "id": "G6PEW-VVTgN2",
        "outputId": "02adc434-e02e-4b6b-c6ae-23550e4c31d9"
      },
      "execution_count": null,
      "outputs": [
        {
          "output_type": "error",
          "ename": "IndentationError",
          "evalue": "ignored",
          "traceback": [
            "\u001b[0;36m  File \u001b[0;32m\"<ipython-input-151-ecf94f7d9534>\"\u001b[0;36m, line \u001b[0;32m9\u001b[0m\n\u001b[0;31m    dic_scores[\"accuracy\"].append(metrics.accuracy_score(yy_test, predicted))\u001b[0m\n\u001b[0m    ^\u001b[0m\n\u001b[0;31mIndentationError\u001b[0m\u001b[0;31m:\u001b[0m unexpected indent\n"
          ]
        }
      ]
    },
    {
      "cell_type": "markdown",
      "source": [
        "**Explainability**"
      ],
      "metadata": {
        "id": "6VyB_B-aUFIC"
      }
    },
    {
      "cell_type": "code",
      "source": [
        ""
      ],
      "metadata": {
        "id": "VYIOy3j2T6kT"
      },
      "execution_count": null,
      "outputs": []
    }
  ]
}